{
 "cells": [
  {
   "cell_type": "code",
   "execution_count": 3,
   "metadata": {},
   "outputs": [],
   "source": [
    "import pandas as pd\n",
    "import numpy as np\n",
    "import seaborn as sns"
   ]
  },
  {
   "cell_type": "code",
   "execution_count": 6,
   "metadata": {},
   "outputs": [
    {
     "name": "stdout",
     "output_type": "stream",
     "text": [
      "시리즈 출력 :\n",
      "---------------\n",
      "피자    17000\n",
      "치킨    18000\n",
      "콜라     1000\n",
      "맥주     5000\n",
      "dtype: int64\n"
     ]
    }
   ],
   "source": [
    "sr = pd.Series([17000,18000,1000,5000],\n",
    "               index=[\"피자\",\"치킨\",\"콜라\",\"맥주\"])\n",
    "print('시리즈 출력 :')\n",
    "print('-'*15)\n",
    "print(sr)"
   ]
  },
  {
   "cell_type": "code",
   "execution_count": 11,
   "metadata": {},
   "outputs": [
    {
     "name": "stdout",
     "output_type": "stream",
     "text": [
      "     학번      이름     점수\n",
      "0  1000   steve  90.72\n",
      "1  1001   james  78.09\n",
      "2  1002  doyeon  98.43\n"
     ]
    }
   ],
   "source": [
    "data = [\n",
    "    ['1000','steve','90.72'],\n",
    "    ['1001','james','78.09'],\n",
    "    ['1002','doyeon','98.43'],\n",
    "    ['1003','jane','64.19'],\n",
    "    ['1004','tony','81.30'],\n",
    "    ['1005','pilwoong','99.14'],\n",
    "]\n",
    "\n",
    "df = pd.DataFrame(data, columns=['학번','이름','점수'])\n",
    "print(df.head(3))"
   ]
  },
  {
   "cell_type": "code",
   "execution_count": 15,
   "metadata": {},
   "outputs": [
    {
     "name": "stdout",
     "output_type": "stream",
     "text": [
      "[[1. 0. 0.]\n",
      " [0. 1. 0.]\n",
      " [0. 0. 1.]]\n"
     ]
    }
   ],
   "source": [
    "mat = np.eye(3) #대각선으로 1 나타내기\n",
    "print(mat)"
   ]
  },
  {
   "cell_type": "code",
   "execution_count": 19,
   "metadata": {},
   "outputs": [
    {
     "name": "stdout",
     "output_type": "stream",
     "text": [
      "[[ 0  1  2  3  4  5]\n",
      " [ 6  7  8  9 10 11]\n",
      " [12 13 14 15 16 17]\n",
      " [18 19 20 21 22 23]\n",
      " [24 25 26 27 28 29]]\n"
     ]
    }
   ],
   "source": [
    "n=2\n",
    "range = np.array(np.arange(30).reshape(5,6))\n",
    "print(range)"
   ]
  },
  {
   "cell_type": "code",
   "execution_count": 4,
   "metadata": {},
   "outputs": [
    {
     "name": "stdout",
     "output_type": "stream",
     "text": [
      "[2 5]\n"
     ]
    }
   ],
   "source": [
    "mat = np.array([[1,2,3],[4,5,6]])\n",
    "\n",
    "mat1 = mat[:,1]\n",
    "print(mat1)"
   ]
  },
  {
   "cell_type": "code",
   "execution_count": 9,
   "metadata": {},
   "outputs": [
    {
     "name": "stdout",
     "output_type": "stream",
     "text": [
      "        total_bill       tip      size\n",
      "sex                                   \n",
      "Male     20.744076  3.089618  2.630573\n",
      "Female   18.056897  2.833448  2.459770\n",
      "        total_bill       tip      size\n",
      "sex                                   \n",
      "Male     85.497185  2.217424  0.913931\n",
      "Female   64.147429  1.344428  0.879177\n"
     ]
    }
   ],
   "source": [
    "df = sns.load_dataset('tips')\n",
    "df1 = df.groupby('sex').mean() #평균\n",
    "df2 = df.groupby('sex').var()  #분산\n",
    "print(df1)\n",
    "print(df2)"
   ]
  },
  {
   "cell_type": "code",
   "execution_count": 10,
   "metadata": {},
   "outputs": [
    {
     "name": "stdout",
     "output_type": "stream",
     "text": [
      "       total_bill                  tip                size          \n",
      "             mean        var      mean       var      mean       var\n",
      "sex                                                                 \n",
      "Male    20.744076  85.497185  3.089618  2.217424  2.630573  0.913931\n",
      "Female  18.056897  64.147429  2.833448  1.344428  2.459770  0.879177\n"
     ]
    },
    {
     "name": "stderr",
     "output_type": "stream",
     "text": [
      "C:\\Users\\rlaeo\\AppData\\Local\\Temp\\ipykernel_32932\\155269321.py:1: FutureWarning: ['smoker', 'day', 'time'] did not aggregate successfully. If any error is raised this will raise in a future version of pandas. Drop these columns/ops to avoid this warning.\n",
      "  df3 = df.groupby('sex').agg(['mean','var'])\n"
     ]
    }
   ],
   "source": [
    "df3 = df.groupby('sex').agg(['mean','var'])\n",
    "print(df3)"
   ]
  }
 ],
 "metadata": {
  "kernelspec": {
   "display_name": "Python 3",
   "language": "python",
   "name": "python3"
  },
  "language_info": {
   "codemirror_mode": {
    "name": "ipython",
    "version": 3
   },
   "file_extension": ".py",
   "mimetype": "text/x-python",
   "name": "python",
   "nbconvert_exporter": "python",
   "pygments_lexer": "ipython3",
   "version": "3.9.10"
  },
  "orig_nbformat": 4
 },
 "nbformat": 4,
 "nbformat_minor": 2
}
