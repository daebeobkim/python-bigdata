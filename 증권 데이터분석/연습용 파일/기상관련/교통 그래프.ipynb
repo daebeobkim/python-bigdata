{
 "cells": [
  {
   "cell_type": "code",
   "execution_count": 28,
   "metadata": {},
   "outputs": [
    {
     "name": "stdout",
     "output_type": "stream",
     "text": [
      "한양대2호선 96.2\n"
     ]
    }
   ],
   "source": [
    "import csv\n",
    "f = open('C:/Users/rlaeo/OneDrive/바탕 화면/subwayfee.csv','rt',encoding='UTF8')\n",
    "data = csv.reader(f)\n",
    "next(data)\n",
    "\n",
    "mx = 0\n",
    "rate = 0\n",
    "mx_station = ''\n",
    "\n",
    "for row in data:\n",
    "    for i in range(4,8):\n",
    "        row[i] = int(row[i])\n",
    "    if row[6] != 0 and (row[4]+row[6])>100000:\n",
    "        rate = row[4] / (row[4]+row[6])\n",
    "        if rate > mx:\n",
    "            mx = rate\n",
    "            mx_station = row[3] + ''+row[1]\n",
    "\n",
    "print(mx_station,round(mx*100,2))"
   ]
  }
 ],
 "metadata": {
  "kernelspec": {
   "display_name": "Python 3",
   "language": "python",
   "name": "python3"
  },
  "language_info": {
   "codemirror_mode": {
    "name": "ipython",
    "version": 3
   },
   "file_extension": ".py",
   "mimetype": "text/x-python",
   "name": "python",
   "nbconvert_exporter": "python",
   "pygments_lexer": "ipython3",
   "version": "3.9.10"
  },
  "orig_nbformat": 4,
  "vscode": {
   "interpreter": {
    "hash": "d5e82c3fb7da1ea83acbd3af36819ee526c08f1ab732399acb2375113e5497e2"
   }
  }
 },
 "nbformat": 4,
 "nbformat_minor": 2
}
