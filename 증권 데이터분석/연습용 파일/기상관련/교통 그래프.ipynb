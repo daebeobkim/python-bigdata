{
 "cells": [
  {
   "cell_type": "code",
   "execution_count": 1,
   "metadata": {},
   "outputs": [
    {
     "name": "stdout",
     "output_type": "stream",
     "text": [
      "한양대2호선 96.2\n"
     ]
    }
   ],
   "source": [
    "import csv\n",
    "f = open('C:/Users/rlaeo/OneDrive/바탕 화면/subwayfee.csv','rt',encoding='UTF8')\n",
    "data = csv.reader(f)\n",
    "next(data)\n",
    "\n",
    "mx = 0\n",
    "rate = 0\n",
    "mx_station = ''\n",
    "\n",
    "for row in data:\n",
    "    for i in range(4,8):\n",
    "        row[i] = int(row[i])\n",
    "    if row[6] != 0 and (row[4]+row[6])>100000:\n",
    "        rate = row[4] / (row[4]+row[6])\n",
    "        if rate > mx:\n",
    "            mx = rate\n",
    "            mx_station = row[3] + ''+row[1]\n",
    "   \n",
    "print(mx_station,round(mx*100,2))\n",
    "#다른 경우의 수도 구해보기"
   ]
  },
  {
   "cell_type": "code",
   "execution_count": 3,
   "metadata": {},
   "outputs": [
    {
     "name": "stdout",
     "output_type": "stream",
     "text": [
      "유임승차:강남2호선 2069056\n",
      "유임하차:강남2호선 2032203\n",
      "무임승차:종로3가1호선 300364\n",
      "무임하차:제기동1호선 285648\n"
     ]
    }
   ],
   "source": [
    "import csv\n",
    "f = open('C:/Users/rlaeo/OneDrive/바탕 화면/subwayfee.csv','rt',encoding='UTF8')\n",
    "data = csv.reader(f)\n",
    "next(data)\n",
    "mx = [0] * 4\n",
    "mx_station = [''] * 4\n",
    "label = ['유임승차','유임하차','무임승차','무임하차']\n",
    "for row in data:\n",
    "    for i in range(4,8):\n",
    "        row[i] = int(row[i])\n",
    "        if row[i] > mx[i-4]:\n",
    "            mx[i-4] = row[i]\n",
    "            mx_station[i-4] = row[3] + ''+row[1]\n",
    "for i in range(4):\n",
    "    print(label[i]+':'+mx_station[i],mx[i])"
   ]
  },
  {
   "cell_type": "code",
   "execution_count": 16,
   "metadata": {},
   "outputs": [
    {
     "data": {
      "image/png": "[encoded data removed]",
      "text/plain": [
       "<Figure size 640x480 with 1 Axes>"
      ]
     },
     "metadata": {},
     "output_type": "display_data"
    }
   ],
   "source": [
    "import csv\n",
    "f = open('C:/Users/rlaeo/OneDrive/바탕 화면/subwaytime.csv','rt',encoding='UTF8')\n",
    "data = csv.reader(f)\n",
    "next(data)\n",
    "next(data)\n",
    "result = []\n",
    "for row in data:\n",
    "    row[4:] = map(float,row[4:])\n",
    "    result.append(row[10])\n",
    "\n",
    "import matplotlib.pyplot as plt \n",
    "result.sort()\n",
    "plt.bar(range(len(result)),result)\n",
    "plt.show()"
   ]
  },
  {
   "cell_type": "code",
   "execution_count": 18,
   "metadata": {},
   "outputs": [
    {
     "name": "stdout",
     "output_type": "stream",
     "text": [
      "역삼(2호선) 850401.0\n"
     ]
    }
   ],
   "source": [
    "import csv\n",
    "f = open('C:/Users/rlaeo/OneDrive/바탕 화면/subwaytime.csv','rt',encoding='UTF8')\n",
    "data = csv.reader(f)\n",
    "next(data)\n",
    "next(data)\n",
    "mx = 0\n",
    "mx_station = ''\n",
    "for row in data:\n",
    "    row[4:] = map(float,row[4:])\n",
    "    a = row[11:16:2] #하차 인원 값 추출하기\n",
    "    if sum(a) > mx:\n",
    "        mx = sum(a)\n",
    "        mx_station = row[3]+'('+row[1]+')'\n",
    "print(mx_station,mx)"
   ]
  }
 ],
 "metadata": {
  "kernelspec": {
   "display_name": "Python 3",
   "language": "python",
   "name": "python3"
  },
  "language_info": {
   "codemirror_mode": {
    "name": "ipython",
    "version": 3
   },
   "file_extension": ".py",
   "mimetype": "text/x-python",
   "name": "python",
   "nbconvert_exporter": "python",
   "pygments_lexer": "ipython3",
   "version": "3.9.10 (tags/v3.9.10:f2f3f53, Jan 17 2022, 15:14:21) [MSC v.1929 64 bit (AMD64)]"
  },
  "orig_nbformat": 4,
  "vscode": {
   "interpreter": {
    "hash": "d5e82c3fb7da1ea83acbd3af36819ee526c08f1ab732399acb2375113e5497e2"
   }
  }
 },
 "nbformat": 4,
 "nbformat_minor": 2
}
