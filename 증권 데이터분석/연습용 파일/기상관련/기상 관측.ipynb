{
 "cells": [
  {
   "cell_type": "code",
   "execution_count": 4,
   "metadata": {},
   "outputs": [
    {
     "name": "stdout",
     "output_type": "stream",
     "text": [
      "<_csv.reader object at 0x000002A2D4DEA8E0>\n"
     ]
    }
   ],
   "source": [
    "import csv\n",
    "f = open('C:/Users/rlaeo/OneDrive/바탕 화면/seoul.csv','r',encoding='cp949')\n",
    "data = csv.reader(f,delimiter=',')\n",
    "print(data)\n",
    "f.close()"
   ]
  },
  {
   "cell_type": "code",
   "execution_count": 15,
   "metadata": {},
   "outputs": [
    {
     "name": "stdout",
     "output_type": "stream",
     "text": [
      "['', '', '', '', -999.0]\n",
      "['\\t2022-12-03', '108', '2.1', '-0.3', 7.0]\n",
      "['\\t2022-12-04', '108', '-3.5', '-5.2', -0.2]\n",
      "['\\t2022-12-05', '108', '-3.1', '-7', 1.9]\n",
      "['\\t2022-12-06', '108', '0.9', '-3.9', 5.3]\n",
      "['\\t2022-12-07', '108', '4.9', '1.2', 9.0]\n",
      "['\\t2022-12-08', '108', '3.7', '0.1', 9.1]\n",
      "['\\t2022-12-09', '108', '4.5', '0.9', 10.2]\n",
      "['\\t2022-12-10', '108', '2.6', '-0.6', 6.7]\n",
      "['\\t2022-12-11', '108', '1.6', '-1.5', 6.8]\n",
      "['\\t2022-12-12', '108', '2', '-2', 6.3]\n",
      "['\\t2022-12-13', '108', '0', '-6.4', 3.1]\n",
      "['\\t2022-12-14', '108', '-8.4', '-11', -4.9]\n",
      "['\\t2022-12-15', '108', '-4.5', '-8.5', -1.3]\n",
      "['\\t2022-12-16', '108', '-6.3', '-9.6', -2.2]\n",
      "['\\t2022-12-17', '108', '-7', '-9.8', -3.2]\n",
      "['\\t2022-12-18', '108', '-9.5', '-12.4', -5.6]\n",
      "['\\t2022-12-19', '108', '-7', '-12', -2.5]\n",
      "['\\t2022-12-20', '108', '-3.2', '-9.5', 2.9]\n",
      "['\\t2022-12-21', '108', '-0.1', '-2.6', 2.6]\n",
      "['\\t2022-12-22', '108', '-7.8', '-11.3', -2.6]\n",
      "['\\t2022-12-23', '108', '-11.8', '-13.7', -8.6]\n",
      "['\\t2022-12-24', '108', '-8.4', '-13.5', -2.0]\n",
      "['\\t2022-12-25', '108', '-5.4', '-9.6', 0.2]\n",
      "['\\t2022-12-26', '108', '-3.9', '-7.9', 1.7]\n",
      "['\\t2022-12-27', '108', '-2.6', '-7.3', 3.3]\n",
      "['\\t2022-12-28', '108', '-3.3', '-6', 0.1]\n",
      "['\\t2022-12-29', '108', '-2.9', '-7.8', 2.1]\n",
      "['\\t2022-12-30', '108', '-1.8', '-4.4', 2.3]\n",
      "['\\t2022-12-31', '108', '-1.2', '-5.1', 2.1]\n",
      "['\\t2023-01-01', '108', '-0.2', '-4.3', 3.8]\n",
      "['\\t', '', '', '', -999.0]\n"
     ]
    }
   ],
   "source": [
    "import csv\n",
    "f = open('C:/Users/rlaeo/OneDrive/바탕 화면/seoul.csv','r',encoding='cp949')\n",
    "data = csv.reader(f)\n",
    "header = next(data)\n",
    "for row in data:\n",
    "    if row[-1] == '':\n",
    "        row[-1] = -999 #최고기온값을 나오기 힘든값으로 지정\n",
    "    row[-1] = float(row[-1]) #온도를 실수로 변환\n",
    "    print(row)\n",
    "f.close()"
   ]
  },
  {
   "cell_type": "code",
   "execution_count": 20,
   "metadata": {},
   "outputs": [
    {
     "name": "stdout",
     "output_type": "stream",
     "text": [
      "기상 관측 아래 서울의 최고 기온이 가장 높았던 날은 \t2022-12-09 로 10.2 도 였습니다.\n"
     ]
    }
   ],
   "source": [
    "import csv\n",
    "f = open('C:/Users/rlaeo/OneDrive/바탕 화면/seoul.csv','r',encoding='cp949')\n",
    "data = csv.reader(f)\n",
    "header = next(data)\n",
    "max_temp = -999\n",
    "max_data = ''\n",
    "for row in data:\n",
    "    if row[-1] == '':\n",
    "        row[-1] = -999\n",
    "    row[-1] = float(row[-1])\n",
    "    if max_temp < row[-1]:\n",
    "        max_data = row[0]\n",
    "        max_temp = row[-1]\n",
    "f.close()\n",
    "print('기상 관측 아래 서울의 최고 기온이 가장 높았던 날은', max_data,'로',max_temp,'도 였습니다.')"
   ]
  }
 ],
 "metadata": {
  "kernelspec": {
   "display_name": "Python 3",
   "language": "python",
   "name": "python3"
  },
  "language_info": {
   "codemirror_mode": {
    "name": "ipython",
    "version": 3
   },
   "file_extension": ".py",
   "mimetype": "text/x-python",
   "name": "python",
   "nbconvert_exporter": "python",
   "pygments_lexer": "ipython3",
   "version": "3.9.10"
  },
  "orig_nbformat": 4,
  "vscode": {
   "interpreter": {
    "hash": "d5e82c3fb7da1ea83acbd3af36819ee526c08f1ab732399acb2375113e5497e2"
   }
  }
 },
 "nbformat": 4,
 "nbformat_minor": 2
}
