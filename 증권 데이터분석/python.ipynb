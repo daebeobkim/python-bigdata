{
 "cells": [
  {
   "cell_type": "code",
   "execution_count": 42,
   "metadata": {},
   "outputs": [
    {
     "name": "stdout",
     "output_type": "stream",
     "text": [
      "1 0 0\n"
     ]
    }
   ],
   "source": [
    "a = \"\"\n",
    "a = input(\"문장을 입력하시오\")\n",
    "count1 = 0\n",
    "count2 = 0\n",
    "count3 = 0\n",
    "for i in range(len(a)):\n",
    "    if a[i].isalpha():\n",
    "        count1 += 1\n",
    "    elif a[i].isspace():\n",
    "        count2 += 1\n",
    "    elif a[i].isnumeric():\n",
    "        count3 += 1\n",
    "print(\"%d %d %d\" %(count1,count2,count3))\n"
   ]
  },
  {
   "cell_type": "code",
   "execution_count": 46,
   "metadata": {},
   "outputs": [
    {
     "name": "stdout",
     "output_type": "stream",
     "text": [
      "['1', '2', '3']\n"
     ]
    }
   ],
   "source": [
    "a= []\n",
    "b = int(input(\"입력받을 숫자를 입력하시오\"))\n",
    "for i in range(b):\n",
    "    c = a.append(input(\"숫자를 입력하시오\"))\n",
    "a.sort()\n",
    "print(a)"
   ]
  },
  {
   "cell_type": "code",
   "execution_count": 91,
   "metadata": {},
   "outputs": [
    {
     "name": "stdout",
     "output_type": "stream",
     "text": [
      "22 이종무 4.4\n"
     ]
    }
   ],
   "source": [
    "a = []\n",
    "c = []\n",
    "b = int(input(\"학생수를 입력하시오\"))\n",
    "for i in range(b):\n",
    "    a.append([int(input(\"학번 입력\")),input(\"이름 입력\"),float(input(\"학점 입력\"))])\n",
    "for i in range(b):\n",
    "    c.append(a[i][2])\n",
    "    d = sorted(c)\n",
    "for i in range(b):\n",
    "    if max(d) == a[i][2]:\n",
    "        print(\"%d %s %s\" %(a[i][0],a[i][1],a[i][2]))\n",
    "\n"
   ]
  },
  {
   "cell_type": "code",
   "execution_count": 65,
   "metadata": {},
   "outputs": [
    {
     "name": "stdout",
     "output_type": "stream",
     "text": [
      "5\n"
     ]
    }
   ],
   "source": []
  }
 ],
 "metadata": {
  "kernelspec": {
   "display_name": "Python 3",
   "language": "python",
   "name": "python3"
  },
  "language_info": {
   "codemirror_mode": {
    "name": "ipython",
    "version": 3
   },
   "file_extension": ".py",
   "mimetype": "text/x-python",
   "name": "python",
   "nbconvert_exporter": "python",
   "pygments_lexer": "ipython3",
   "version": "3.9.10"
  },
  "orig_nbformat": 4,
  "vscode": {
   "interpreter": {
    "hash": "d5e82c3fb7da1ea83acbd3af36819ee526c08f1ab732399acb2375113e5497e2"
   }
  }
 },
 "nbformat": 4,
 "nbformat_minor": 2
}
