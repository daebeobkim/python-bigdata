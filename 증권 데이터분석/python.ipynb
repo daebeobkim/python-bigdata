{
 "cells": [
  {
   "cell_type": "code",
   "execution_count": 21,
   "metadata": {},
   "outputs": [
    {
     "name": "stdout",
     "output_type": "stream",
     "text": [
      "7 2 0\n"
     ]
    }
   ],
   "source": [
    "def a():\n",
    "    a = \"\"\n",
    "    a = input(\"문장을 입력하시오\")\n",
    "    count1 = 0\n",
    "    count2 = 0\n",
    "    count3 = 0\n",
    "    for i in range(len(a)):\n",
    "        if a[i].isalpha():\n",
    "            count1 += 1\n",
    "        elif a[i].isspace():\n",
    "            count2 += 1\n",
    "        elif a[i].isdigit():\n",
    "            count3 += 1\n",
    "    print(\"%d %d %d\" %(count1,count2,count3))\n",
    "\n",
    "a()\n"
   ]
  },
  {
   "cell_type": "code",
   "execution_count": 16,
   "metadata": {},
   "outputs": [
    {
     "name": "stdout",
     "output_type": "stream",
     "text": [
      "['1', '2']\n"
     ]
    }
   ],
   "source": [
    "a= []\n",
    "b = int(input(\"입력받을 숫자를 입력하시오\"))\n",
    "for i in range(b):\n",
    "    c = a.append(input(\"숫자를 입력하시오\"))\n",
    "a.sort()\n",
    "print(a)"
   ]
  },
  {
   "cell_type": "code",
   "execution_count": 17,
   "metadata": {},
   "outputs": [
    {
     "ename": "TypeError",
     "evalue": "'int' object is not callable",
     "output_type": "error",
     "traceback": [
      "\u001b[1;31m---------------------------------------------------------------------------\u001b[0m",
      "\u001b[1;31mTypeError\u001b[0m                                 Traceback (most recent call last)",
      "Cell \u001b[1;32mIn [17], line 10\u001b[0m\n\u001b[0;32m      8\u001b[0m     d \u001b[39m=\u001b[39m \u001b[39msorted\u001b[39m(c)\n\u001b[0;32m      9\u001b[0m \u001b[39mfor\u001b[39;00m i \u001b[39min\u001b[39;00m \u001b[39mrange\u001b[39m(b):\n\u001b[1;32m---> 10\u001b[0m     \u001b[39mif\u001b[39;00m \u001b[39mmax\u001b[39;49m(d) \u001b[39m==\u001b[39m a[i][\u001b[39m2\u001b[39m]:\n\u001b[0;32m     11\u001b[0m         \u001b[39mprint\u001b[39m(\u001b[39m\"\u001b[39m\u001b[39m%d\u001b[39;00m\u001b[39m \u001b[39m\u001b[39m%s\u001b[39;00m\u001b[39m \u001b[39m\u001b[39m%s\u001b[39;00m\u001b[39m\"\u001b[39m \u001b[39m%\u001b[39m(a[i][\u001b[39m0\u001b[39m],a[i][\u001b[39m1\u001b[39m],a[i][\u001b[39m2\u001b[39m]))\n",
      "\u001b[1;31mTypeError\u001b[0m: 'int' object is not callable"
     ]
    }
   ],
   "source": [
    "a = []\n",
    "c = []\n",
    "b = int(input(\"학생수를 입력하시오\"))\n",
    "for i in range(b):\n",
    "    a.append([int(input(\"학번 입력\")),input(\"이름 입력\"),float(input(\"학점 입력\"))])\n",
    "for i in range(b):\n",
    "    c.append(a[i][2])\n",
    "    d = sorted(c)\n",
    "for i in range(b):\n",
    "    if max(d) == a[i][2]:\n",
    "        print(\"%d %s %s\" %(a[i][0],a[i][1],a[i][2]))\n",
    "\n"
   ]
  },
  {
   "cell_type": "code",
   "execution_count": 19,
   "metadata": {},
   "outputs": [
    {
     "ename": "TypeError",
     "evalue": "'int' object is not callable",
     "output_type": "error",
     "traceback": [
      "\u001b[1;31m---------------------------------------------------------------------------\u001b[0m",
      "\u001b[1;31mTypeError\u001b[0m                                 Traceback (most recent call last)",
      "Cell \u001b[1;32mIn [19], line 33\u001b[0m\n\u001b[0;32m     30\u001b[0m     a\u001b[39m.\u001b[39mappend(b)\n\u001b[0;32m     31\u001b[0m     count \u001b[39m+\u001b[39m\u001b[39m=\u001b[39m \u001b[39m1\u001b[39m\n\u001b[1;32m---> 33\u001b[0m \u001b[39mprint\u001b[39m(\u001b[39mmax\u001b[39;49m(a))\n\u001b[0;32m     34\u001b[0m \u001b[39mprint\u001b[39m(\u001b[39mmin\u001b[39m(a))\n\u001b[0;32m     35\u001b[0m a\u001b[39m.\u001b[39msort()\n",
      "\u001b[1;31mTypeError\u001b[0m: 'int' object is not callable"
     ]
    }
   ],
   "source": [
    "## 정수 입력 후 음수를 입력하면 종료 후 최대, 중간, 최솟값 찾기##\n",
    "\"\"\"\n",
    "a = []\n",
    "avg=0\n",
    "count=0\n",
    "while True:\n",
    "    b = int(input(\"정수를 입력하시오\"))\n",
    "    if b == -1:\n",
    "        break\n",
    "    a.append(b)\n",
    "    count+=1\n",
    "    avg += b\n",
    "\n",
    "print(max(a))\n",
    "print(min(a))\n",
    "a.sort()\n",
    "if len(a) %2 == 0:\n",
    "    print(a[(len(a)-1)//2])\n",
    "else:\n",
    "    print(a[len(a)//2])\n",
    "\"\"\"\n",
    "## 정수 입력 후 음수를 입력하면 종료 후 최대, 중간, 최솟값 찾기##\n",
    "a = []\n",
    "avg = 0\n",
    "count = 0\n",
    "while True:\n",
    "    b = int(input(\"수 입력\"))\n",
    "    if b == -1:\n",
    "        break\n",
    "    a.append(b)\n",
    "    count += 1\n",
    "\n",
    "print(max(a))\n",
    "print(min(a))\n",
    "a.sort()\n",
    "if count % 2 == 0:\n",
    "    print(a[count-1]//2)\n",
    "else:\n",
    "    print(a[count])\n",
    "\n",
    "    "
   ]
  },
  {
   "cell_type": "code",
   "execution_count": null,
   "metadata": {},
   "outputs": [
    {
     "name": "stdout",
     "output_type": "stream",
     "text": [
      "r\n"
     ]
    }
   ],
   "source": [
    "## 이름 국어성적 영어성적 입력 후 최대 성적 학생 이름 찾기##\n",
    "b = int(input(\"학생수 입력\"))\n",
    "a = []\n",
    "kor = []\n",
    "eng = []\n",
    "\n",
    "for i in range(b):\n",
    "    a.append([input(\"이름을 입력하시오\"),int(input(\"국어 성적\")),int(input(\"영어 성적\"))])\n",
    "    kor.append(a[i][1])\n",
    "    eng.append(a[i][2])\n",
    "\n",
    "for i in range(b):\n",
    "    if max(kor) == a[i][1]:\n",
    "        print(a[i][0])\n",
    "    if max(eng) == a[i][2]:\n",
    "        print(a[i][0])\n"
   ]
  },
  {
   "cell_type": "code",
   "execution_count": null,
   "metadata": {},
   "outputs": [
    {
     "ename": "TclError",
     "evalue": "image \"pyimage2\" doesn't exist",
     "output_type": "error",
     "traceback": [
      "\u001b[1;31m---------------------------------------------------------------------------\u001b[0m",
      "\u001b[1;31mTclError\u001b[0m                                  Traceback (most recent call last)",
      "Cell \u001b[1;32mIn [51], line 11\u001b[0m\n\u001b[0;32m      9\u001b[0m canvas \u001b[39m=\u001b[39m Canvas(window, height\u001b[39m=\u001b[39mXSIZE, width\u001b[39m=\u001b[39mYSIZE)\n\u001b[0;32m     10\u001b[0m paper\u001b[39m=\u001b[39mPhotoImage(width\u001b[39m=\u001b[39mXSIZE, height\u001b[39m=\u001b[39mYSIZE)\n\u001b[1;32m---> 11\u001b[0m canvas\u001b[39m.\u001b[39;49mcreate_image((XSIZE\u001b[39m/\u001b[39;49m\u001b[39m2\u001b[39;49m,YSIZE\u001b[39m/\u001b[39;49m\u001b[39m2\u001b[39;49m), image\u001b[39m=\u001b[39;49mpaper,state\u001b[39m=\u001b[39;49m\u001b[39m\"\u001b[39;49m\u001b[39mnormal\u001b[39;49m\u001b[39m\"\u001b[39;49m)\n\u001b[0;32m     12\u001b[0m \u001b[39m#이부분에서 읽어올 파일 경로\u001b[39;00m\n\u001b[0;32m     13\u001b[0m fp\u001b[39m=\u001b[39m\u001b[39mopen\u001b[39m(\u001b[39m'\u001b[39m\u001b[39mC:/Users/rlaeo/OneDrive/바탕 화면/lena.raw\u001b[39m\u001b[39m'\u001b[39m,\u001b[39m'\u001b[39m\u001b[39mrb\u001b[39m\u001b[39m'\u001b[39m)       \u001b[39m## fp? =파일포지션\u001b[39;00m\n",
      "File \u001b[1;32mc:\\Users\\rlaeo\\AppData\\Local\\Programs\\Python\\Python39\\lib\\tkinter\\__init__.py:2790\u001b[0m, in \u001b[0;36mCanvas.create_image\u001b[1;34m(self, *args, **kw)\u001b[0m\n\u001b[0;32m   2788\u001b[0m \u001b[39mdef\u001b[39;00m \u001b[39mcreate_image\u001b[39m(\u001b[39mself\u001b[39m, \u001b[39m*\u001b[39margs, \u001b[39m*\u001b[39m\u001b[39m*\u001b[39mkw):\n\u001b[0;32m   2789\u001b[0m     \u001b[39m\"\"\"Create image item with coordinates x1,y1.\"\"\"\u001b[39;00m\n\u001b[1;32m-> 2790\u001b[0m     \u001b[39mreturn\u001b[39;00m \u001b[39mself\u001b[39;49m\u001b[39m.\u001b[39;49m_create(\u001b[39m'\u001b[39;49m\u001b[39mimage\u001b[39;49m\u001b[39m'\u001b[39;49m, args, kw)\n",
      "File \u001b[1;32mc:\\Users\\rlaeo\\AppData\\Local\\Programs\\Python\\Python39\\lib\\tkinter\\__init__.py:2776\u001b[0m, in \u001b[0;36mCanvas._create\u001b[1;34m(self, itemType, args, kw)\u001b[0m\n\u001b[0;32m   2774\u001b[0m \u001b[39melse\u001b[39;00m:\n\u001b[0;32m   2775\u001b[0m     cnf \u001b[39m=\u001b[39m {}\n\u001b[1;32m-> 2776\u001b[0m \u001b[39mreturn\u001b[39;00m \u001b[39mself\u001b[39m\u001b[39m.\u001b[39mtk\u001b[39m.\u001b[39mgetint(\u001b[39mself\u001b[39;49m\u001b[39m.\u001b[39;49mtk\u001b[39m.\u001b[39;49mcall(\n\u001b[0;32m   2777\u001b[0m     \u001b[39mself\u001b[39;49m\u001b[39m.\u001b[39;49m_w, \u001b[39m'\u001b[39;49m\u001b[39mcreate\u001b[39;49m\u001b[39m'\u001b[39;49m, itemType,\n\u001b[0;32m   2778\u001b[0m     \u001b[39m*\u001b[39;49m(args \u001b[39m+\u001b[39;49m \u001b[39mself\u001b[39;49m\u001b[39m.\u001b[39;49m_options(cnf, kw))))\n",
      "\u001b[1;31mTclError\u001b[0m: image \"pyimage2\" doesn't exist"
     ]
    }
   ],
   "source": [
    "from tkinter import *\n",
    "## 변수 ##\n",
    "window = None\n",
    "canvas = None\n",
    "XSIZE, YSIZE = 256, 256\n",
    "## 메인코드 ##\n",
    "window=Tk()\n",
    "window.title(\"흑백 사진 보기\")\n",
    "canvas = Canvas(window, height=XSIZE, width=YSIZE)\n",
    "paper=PhotoImage(width=XSIZE, height=YSIZE)\n",
    "canvas.create_image((XSIZE/2,YSIZE/2), image=paper,state=\"normal\")\n",
    "#이부분에서 읽어올 파일 경로\n",
    "fp=open('C:/Users/rlaeo/OneDrive/바탕 화면/lena.raw','rb')       ## fp? =파일포지션\n",
    "for i in range(0, XSIZE) :\n",
    "    for k in range(0,YSIZE)  :\n",
    "        data = int(ord(fp.read(1)))\n",
    "        paper.put(\"#%02x%02x%02x\" % (data,data,data) , (k, i))\n",
    "fp.close()\n",
    "canvas.pack()\n",
    "window.mainloop()"
   ]
  }
 ],
 "metadata": {
  "kernelspec": {
   "display_name": "Python 3",
   "language": "python",
   "name": "python3"
  },
  "language_info": {
   "codemirror_mode": {
    "name": "ipython",
    "version": 3
   },
   "file_extension": ".py",
   "mimetype": "text/x-python",
   "name": "python",
   "nbconvert_exporter": "python",
   "pygments_lexer": "ipython3",
   "version": "3.9.10 (tags/v3.9.10:f2f3f53, Jan 17 2022, 15:14:21) [MSC v.1929 64 bit (AMD64)]"
  },
  "orig_nbformat": 4,
  "vscode": {
   "interpreter": {
    "hash": "d5e82c3fb7da1ea83acbd3af36819ee526c08f1ab732399acb2375113e5497e2"
   }
  }
 },
 "nbformat": 4,
 "nbformat_minor": 2
}
