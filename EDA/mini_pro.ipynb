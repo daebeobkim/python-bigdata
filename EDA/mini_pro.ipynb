{
 "cells": [
  {
   "cell_type": "code",
   "execution_count": null,
   "metadata": {},
   "outputs": [],
   "source": [
    "\n",
    "\"\"\"\n",
    "데이터 세트는 2000개의 레코드와 8개의 열로 구성됩니다.\n",
    "고객 ID : CustomerID\n",
    "성별 : Gender\n",
    "나이 : Age\n",
    "연간 소득 : Annual Income\n",
    "지출 점수 - 고객 행동 및 지출 특성에 따라 상점에서 할당한 점수 : Spending Score\n",
    "직업 : Profession\n",
    "업무 경험 - 년 : Work Experience\n",
    "가족 규모 : Family Size\n",
    "\"\"\"\n",
    "%matplotlib inline  \n",
    "import numpy as np\n",
    "import matplotlib.pyplot as plt\n",
    "%matplotlib inline\n",
    "import seaborn as sns\n",
    "import pandas as pd\n",
    "cm = pd.read_csv(\"C:/Users/rlaeo/OneDrive/바탕 화면/Customers.csv\")\n",
    "print(cm['Gender'][1])"
   ]
  },
  {
   "cell_type": "code",
   "execution_count": null,
   "metadata": {},
   "outputs": [],
   "source": [
    "\n",
    "import matplotlib.pyplot as plt\n",
    "import numpy as np\n",
    "\n",
    "X = np.linspace(0, 2*np.pi)\n",
    "Y = np.sin(X)\n",
    "\n",
    "fig, ax = plt.subplots()\n",
    "ax.plot(X, Y)\n",
    "plt.show()"
   ]
  }
 ],
 "metadata": {
  "kernelspec": {
   "display_name": "Python 3",
   "language": "python",
   "name": "python3"
  },
  "language_info": {
   "codemirror_mode": {
    "name": "ipython",
    "version": 3
   },
   "file_extension": ".py",
   "mimetype": "text/x-python",
   "name": "python",
   "nbconvert_exporter": "python",
   "pygments_lexer": "ipython3",
   "version": "3.11.3"
  },
  "orig_nbformat": 4
 },
 "nbformat": 4,
 "nbformat_minor": 2
}
