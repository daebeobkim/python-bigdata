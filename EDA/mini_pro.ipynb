{
 "cells": [
  {
   "cell_type": "code",
   "execution_count": 76,
   "metadata": {},
   "outputs": [
    {
     "name": "stdout",
     "output_type": "stream",
     "text": [
      "나이 :  48.96 \n",
      "소득 :  110731.8215 \n",
      "지출 점수 : 50.9625 \n",
      "가족 규모 :  3.7685\n"
     ]
    }
   ],
   "source": [
    "\n",
    "\"\"\"\n",
    "데이터 세트는 2000개의 레코드와 8개의 열로 구성됩니다.\n",
    "고객 ID : CustomerID\n",
    "성별 : Gender\n",
    "나이 : Age\n",
    "연간 소득 : Annual Income\n",
    "지출 점수 - 고객 행동 및 지출 특성에 따라 상점에서 할당한 점수 : Spending Score\n",
    "직업 : Profession\n",
    "업무 경험 - 년 : Work Experience\n",
    "가족 규모 : Family Size\n",
    "\"\"\"\n",
    "%matplotlib inline  \n",
    "import numpy as np\n",
    "import matplotlib.pyplot as plt\n",
    "%matplotlib inline\n",
    "import seaborn as sns\n",
    "import pandas as pd\n",
    "cm = pd.read_csv(\"C:/Users/rlaeo/OneDrive/바탕 화면/Customers.csv\")\n",
    "print(\"나이 : \",cm['Age'].mean(),\n",
    "      \"\\n소득 : \",cm['Annual Income'].mean(),\n",
    "      \"\\n지출 점수 :\",cm['SpendingScore'].mean(),\n",
    "      \"\\n가족 규모 : \",cm['FamilySize'].mean())"
   ]
  },
  {
   "cell_type": "code",
   "execution_count": 80,
   "metadata": {},
   "outputs": [],
   "source": [
    "def test(Age,SpendingScore):\n",
    "    name = \"\"\n",
    "    if (Age <= 20) : name = \"청소년\"\n",
    "    elif (Age <= 25) & (SpendingScore > 80): name = \"청소년(VIP)\"\n",
    "    elif (Age <= 25) & (SpendingScore < 80): name = \"대학생\"\n",
    "    elif (Age <= 25) & (SpendingScore > 80): name = \"대학생(VIP)\"\n",
    "    elif (Age <= 30) & (SpendingScore < 80): name = \"사회초년생\"\n",
    "    elif (Age <= 30) & (SpendingScore > 80): name = \"사회초년생(VIP)\"\n",
    "    elif (Age <= 55) & (SpendingScore < 80): name = \"중년\"\n",
    "    elif (Age <= 55) & (SpendingScore > 80): name = \"중년(VIP)\"\n",
    "    elif (Age >= 55) & (SpendingScore < 80): name = \"노인\"\n",
    "    elif (Age >= 55) & (SpendingScore > 80): name = \"노인(VIP)\"\n",
    "    \n",
    "    \n",
    "    return name\n",
    "\n",
    "cm[\"나이대\"] = cm[[\"Age\", \"SpendingScore\"]].apply(lambda x: test(x[0], x[1]), axis=1)\n"
   ]
  },
  {
   "cell_type": "code",
   "execution_count": 81,
   "metadata": {},
   "outputs": [
    {
     "name": "stdout",
     "output_type": "stream",
     "text": [
      "      CustomerID  Gender  Age  Annual Income  SpendingScore     Profession   \n",
      "0              1    Male   19          15000             39     Healthcare  \\\n",
      "1              2    Male   21          35000             81       Engineer   \n",
      "2              3  Female   20          86000              6       Engineer   \n",
      "3              4  Female   23          59000             77         Lawyer   \n",
      "4              5  Female   31          38000             40  Entertainment   \n",
      "...          ...     ...  ...            ...            ...            ...   \n",
      "1995        1996  Female   71         184387             40         Artist   \n",
      "1996        1997  Female   91          73158             32         Doctor   \n",
      "1997        1998    Male   87          90961             14     Healthcare   \n",
      "1998        1999    Male   77         182109              4      Executive   \n",
      "1999        2000    Male   90         110610             52  Entertainment   \n",
      "\n",
      "      WorkExperience  FamilySize       나이대  \n",
      "0                  1           4       청소년  \n",
      "1                  3           3  청소년(VIP)  \n",
      "2                  1           1       청소년  \n",
      "3                  0           2       대학생  \n",
      "4                  2           6        중년  \n",
      "...              ...         ...       ...  \n",
      "1995               8           7        노인  \n",
      "1996               7           7        노인  \n",
      "1997               9           2        노인  \n",
      "1998               7           2        노인  \n",
      "1999               5           2        노인  \n",
      "\n",
      "[2000 rows x 9 columns]\n"
     ]
    }
   ],
   "source": [
    "print(cm)"
   ]
  }
 ],
 "metadata": {
  "kernelspec": {
   "display_name": "Python 3",
   "language": "python",
   "name": "python3"
  },
  "language_info": {
   "codemirror_mode": {
    "name": "ipython",
    "version": 3
   },
   "file_extension": ".py",
   "mimetype": "text/x-python",
   "name": "python",
   "nbconvert_exporter": "python",
   "pygments_lexer": "ipython3",
   "version": "3.11.3"
  },
  "orig_nbformat": 4
 },
 "nbformat": 4,
 "nbformat_minor": 2
}
