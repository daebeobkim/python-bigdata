{
 "cells": [
  {
   "cell_type": "code",
   "execution_count": 89,
   "metadata": {},
   "outputs": [
    {
     "name": "stdout",
     "output_type": "stream",
     "text": [
      "나이 :  48.96 \n",
      "소득 :  110731.8215 \n",
      "지출 점수 : 50.9625 \n",
      "가족 규모 :  3.7685\n"
     ]
    }
   ],
   "source": [
    "\n",
    "\"\"\"\n",
    "데이터 세트는 2000개의 레코드와 8개의 열로 구성됩니다.\n",
    "고객 ID : CustomerID\n",
    "성별 : Gender\n",
    "나이 : Age\n",
    "연간 소득 : Annual Income\n",
    "지출 점수 - 고객 행동 및 지출 특성에 따라 상점에서 할당한 점수 : Spending Score\n",
    "직업 : Profession\n",
    "업무 경험 - 년 : Work Experience\n",
    "가족 규모 : Family Size\n",
    "\"\"\"\n",
    "\n",
    "from collections import Counter\n",
    "import numpy as np\n",
    "import matplotlib.pyplot as plt\n",
    "%matplotlib inline\n",
    "import seaborn as sns\n",
    "import pandas as pd\n",
    "cm = pd.read_csv(\"C:/Users/rlaeo/OneDrive/바탕 화면/Customers.csv\")\n",
    "print(\"나이 : \",cm['Age'].mean(),\n",
    "      \"\\n소득 : \",cm['Annual Income'].mean(),\n",
    "      \"\\n지출 점수 :\",cm['SpendingScore'].mean(),\n",
    "      \"\\n가족 규모 : \",cm['FamilySize'].mean())\n",
    "\n"
   ]
  },
  {
   "cell_type": "code",
   "execution_count": 90,
   "metadata": {},
   "outputs": [],
   "source": [
    "def test(Age,SpendingScore):\n",
    "    name = \"\"\n",
    "    if (Age <= 20) : name = \"청소년\"\n",
    "    elif (Age <= 25) & (SpendingScore > 80): name = \"청소년(VIP)\"\n",
    "    elif (Age <= 25) & (SpendingScore < 80): name = \"대학생\"\n",
    "    elif (Age <= 25) & (SpendingScore > 80): name = \"대학생(VIP)\"\n",
    "    elif (Age <= 30) & (SpendingScore < 80): name = \"사회초년생\"\n",
    "    elif (Age <= 30) & (SpendingScore > 80): name = \"사회초년생(VIP)\"\n",
    "    elif (Age <= 55) & (SpendingScore < 80): name = \"중년\"\n",
    "    elif (Age <= 55) & (SpendingScore > 80): name = \"중년(VIP)\"\n",
    "    elif (Age >= 55) & (SpendingScore < 80): name = \"노인\"\n",
    "    elif (Age >= 55) & (SpendingScore > 80): name = \"노인(VIP)\"\n",
    "    \n",
    "    return name\n",
    "\n",
    "cm[\"나이대\"] = cm[[\"Age\", \"SpendingScore\"]].apply(lambda x: test(x[0], x[1]), axis=1)\n"
   ]
  },
  {
   "cell_type": "code",
   "execution_count": 94,
   "metadata": {},
   "outputs": [
    {
     "data": {
      "text/plain": [
       "FamilySize\n",
       "1    49.645485\n",
       "2    50.362881\n",
       "3    51.951768\n",
       "4    52.709343\n",
       "5    52.178295\n",
       "6    49.942387\n",
       "7    49.991453\n",
       "8    49.250000\n",
       "9    17.000000\n",
       "Name: SpendingScore, dtype: float64"
      ]
     },
     "execution_count": 94,
     "metadata": {},
     "output_type": "execute_result"
    }
   ],
   "source": [
    "cm.groupby(\"FamilySize\")[\"SpendingScore\"].mean()"
   ]
  }
 ],
 "metadata": {
  "kernelspec": {
   "display_name": "Python 3",
   "language": "python",
   "name": "python3"
  },
  "language_info": {
   "codemirror_mode": {
    "name": "ipython",
    "version": 3
   },
   "file_extension": ".py",
   "mimetype": "text/x-python",
   "name": "python",
   "nbconvert_exporter": "python",
   "pygments_lexer": "ipython3",
   "version": "3.11.3"
  },
  "orig_nbformat": 4
 },
 "nbformat": 4,
 "nbformat_minor": 2
}
