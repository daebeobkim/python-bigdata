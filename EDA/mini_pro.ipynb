{
 "cells": [
  {
   "cell_type": "code",
   "execution_count": 3,
   "metadata": {},
   "outputs": [
    {
     "name": "stdout",
     "output_type": "stream",
     "text": [
      "<class 'pandas.core.frame.DataFrame'>\n",
      "RangeIndex: 2000 entries, 0 to 1999\n",
      "Data columns (total 8 columns):\n",
      " #   Column           Non-Null Count  Dtype \n",
      "---  ------           --------------  ----- \n",
      " 0   CustomerID       2000 non-null   int64 \n",
      " 1   Gender           2000 non-null   object\n",
      " 2   Age              2000 non-null   int64 \n",
      " 3   Annual Income    2000 non-null   int64 \n",
      " 4   Spending Score   2000 non-null   int64 \n",
      " 5   Profession       1965 non-null   object\n",
      " 6   Work Experience  2000 non-null   int64 \n",
      " 7   Family Size      2000 non-null   int64 \n",
      "dtypes: int64(6), object(2)\n",
      "memory usage: 125.1+ KB\n"
     ]
    }
   ],
   "source": [
    "\n",
    "\"\"\"\n",
    "데이터 세트는 2000개의 레코드와 8개의 열로 구성됩니다.\n",
    "고객 ID : CustomerID\n",
    "성별 : Gender\n",
    "나이 : Age\n",
    "연간 소득 : Annual Income\n",
    "지출 점수 - 고객 행동 및 지출 특성에 따라 상점에서 할당한 점수 : Spending Score\n",
    "직업 : Profession\n",
    "업무 경험 - 년 : Work Experience\n",
    "가족 규모 : Family Size\n",
    "\"\"\"\n",
    "import numpy as np\n",
    "import matplotlib.pyplot as plt\n",
    "import seaborn as sns\n",
    "import pandas as pd\n",
    "cm = pd.read_csv(\"C:/Users/rlaeo/OneDrive/바탕 화면/Customers.csv\")"
   ]
  }
 ],
 "metadata": {
  "kernelspec": {
   "display_name": "Python 3",
   "language": "python",
   "name": "python3"
  },
  "language_info": {
   "codemirror_mode": {
    "name": "ipython",
    "version": 3
   },
   "file_extension": ".py",
   "mimetype": "text/x-python",
   "name": "python",
   "nbconvert_exporter": "python",
   "pygments_lexer": "ipython3",
   "version": "3.9.10"
  },
  "orig_nbformat": 4
 },
 "nbformat": 4,
 "nbformat_minor": 2
}
