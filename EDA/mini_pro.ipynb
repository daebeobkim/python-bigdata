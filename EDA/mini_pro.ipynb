{
 "cells": [
  {
   "cell_type": "code",
   "execution_count": null,
   "metadata": {},
   "outputs": [],
   "source": [
    "\n",
    "\"\"\"\n",
    "데이터 세트는 2000개의 레코드와 8개의 열로 구성됩니다.\n",
    "고객 ID : CustomerID\n",
    "성별 : Gender\n",
    "나이 : Age\n",
    "연간 소득 : Annual Income\n",
    "지출 점수 - 고객 행동 및 지출 특성에 따라 상점에서 할당한 점수 : Spending Score\n",
    "직업 : Profession\n",
    "업무 경험 - 년 : Work Experience\n",
    "가족 규모 : Family Size\n",
    "\"\"\""
   ]
  }
 ],
 "metadata": {
  "language_info": {
   "name": "python"
  },
  "orig_nbformat": 4
 },
 "nbformat": 4,
 "nbformat_minor": 2
}
