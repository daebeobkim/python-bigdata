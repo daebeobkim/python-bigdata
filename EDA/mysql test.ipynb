{
 "cells": [
  {
   "cell_type": "code",
   "execution_count": 6,
   "metadata": {},
   "outputs": [
    {
     "data": {
      "text/plain": [
       "order_id             110888\n",
       "store_id             110888\n",
       "customer_id          110888\n",
       "coupon_cd            110888\n",
       "sales_detail_id      110888\n",
       "order_accept_date    110888\n",
       "delivered_date       110888\n",
       "takeout_flag         110888\n",
       "total_amount         110888\n",
       "status               110888\n",
       "dtype: int64"
      ]
     },
     "execution_count": 6,
     "metadata": {},
     "output_type": "execute_result"
    }
   ],
   "source": [
    "import pymysql\n",
    "import pandas as pd\n",
    "\n",
    "connect = pymysql.connect(host='127.0.0.1', user='root', password='0000', db='practice',\\\n",
    "                          charset='utf8')\n",
    "cur = connect.cursor()\n",
    "\n",
    "query = \"SELECT * FROM practice.tbl_order_202105;\"\n",
    "cur.execute(query)\n",
    "connect.commit()\n",
    "datas = cur.fetchall()\n",
    "data = pd.DataFrame(datas)\n",
    "data.columns= ['order_id','store_id','customer_id','coupon_cd','sales_detail_id',\n",
    "               'order_accept_date','delivered_date','takeout_flag','total_amount','status']\n",
    "data.count()"
   ]
  },
  {
   "cell_type": "code",
   "execution_count": null,
   "metadata": {},
   "outputs": [],
   "source": []
  }
 ],
 "metadata": {
  "kernelspec": {
   "display_name": "Python 3",
   "language": "python",
   "name": "python3"
  },
  "language_info": {
   "codemirror_mode": {
    "name": "ipython",
    "version": 3
   },
   "file_extension": ".py",
   "mimetype": "text/x-python",
   "name": "python",
   "nbconvert_exporter": "python",
   "pygments_lexer": "ipython3",
   "version": "3.11.3"
  },
  "orig_nbformat": 4
 },
 "nbformat": 4,
 "nbformat_minor": 2
}
