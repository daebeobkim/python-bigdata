{
 "cells": [
  {
   "cell_type": "code",
   "execution_count": 12,
   "metadata": {},
   "outputs": [
    {
     "name": "stdout",
     "output_type": "stream",
     "text": [
      "('SL', '서울', '서울')\n",
      "('BS', '부산', '부산')\n",
      "('DJ', '대전', '대전')\n",
      "('GJ', '광주', '광주')\n",
      "('SJ', '세종', '세종')\n",
      "('GN', '경기', '경기남부')\n",
      "('GB', '경기', '경기북부')\n"
     ]
    }
   ],
   "source": [
    "import pymysql\n",
    "\n",
    "connect = pymysql.connect(host='127.0.0.1', user='root', password='0000', db='practice',\\\n",
    "                          charset='utf8')\n",
    "cur = connect.cursor()\n",
    "\n",
    "query = \"SELECT * FROM m_area\"\n",
    "cur.execute(query)\n",
    "connect.commit()\n",
    "datas = cur.fetchall()\n",
    "for data in datas:\n",
    "    print(data)"
   ]
  },
  {
   "cell_type": "code",
   "execution_count": null,
   "metadata": {},
   "outputs": [],
   "source": []
  }
 ],
 "metadata": {
  "kernelspec": {
   "display_name": "Python 3",
   "language": "python",
   "name": "python3"
  },
  "language_info": {
   "codemirror_mode": {
    "name": "ipython",
    "version": 3
   },
   "file_extension": ".py",
   "mimetype": "text/x-python",
   "name": "python",
   "nbconvert_exporter": "python",
   "pygments_lexer": "ipython3",
   "version": "3.11.3"
  },
  "orig_nbformat": 4
 },
 "nbformat": 4,
 "nbformat_minor": 2
}
