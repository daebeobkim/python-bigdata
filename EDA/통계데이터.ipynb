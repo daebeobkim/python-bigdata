{
 "cells": [
  {
   "cell_type": "code",
   "execution_count": 76,
   "metadata": {},
   "outputs": [
    {
     "name": "stdout",
     "output_type": "stream",
     "text": [
      "년도\n",
      "2010    196\n",
      "2017    134\n",
      "2016    132\n",
      "2011    130\n",
      "2015    116\n",
      "2012    110\n",
      "2013     97\n",
      "2014     92\n",
      "2018     89\n",
      "2009     83\n",
      "2008     27\n",
      "2007     17\n",
      "2006      8\n",
      "2019      6\n",
      "1         6\n",
      "0         5\n",
      "2005      3\n",
      "000)      2\n",
      "4         1\n",
      "2         1\n",
      " 신체운      1\n",
      " 중앙보      1\n",
      "2160      1\n",
      " 줄넘기      1\n",
      " 학교       1\n",
      " 학고재      1\n",
      " 교사겸      1\n",
      " 주의산      1\n",
      " 어린       1\n",
      " 체험활      1\n",
      "Name: count, dtype: int64\n"
     ]
    }
   ],
   "source": [
    "import numpy as np\n",
    "import csv\n",
    "import pandas as pd\n",
    "import matplotlib.pyplot as plt\n",
    "df =pd.read_csv('C:/Users/rlaeo/OneDrive/바탕 화면/육아.csv')\n",
    "\n",
    "\n",
    "df1 = df['년도'].value_counts()\n",
    "print(df1)\n"
   ]
  },
  {
   "cell_type": "code",
   "execution_count": 85,
   "metadata": {},
   "outputs": [],
   "source": [
    "year10 = df1[\"2010\"]\n",
    "year11 = df1[\"2011\"]+year10\n",
    "year12 = df1[\"2012\"]+year11\n",
    "year13 = df1[\"2013\"]+year12\n",
    "year14 = df1[\"2014\"]+year13\n",
    "year15 = df1[\"2015\"]+year14\n",
    "year16 = df1[\"2016\"]+year15\n",
    "year17 = df1[\"2017\"]+year16\n",
    "year18 = df1[\"2018\"]+year17\n",
    "year19 = df1[\"2018\"]+year18"
   ]
  },
  {
   "cell_type": "code",
   "execution_count": null,
   "metadata": {},
   "outputs": [],
   "source": []
  }
 ],
 "metadata": {
  "kernelspec": {
   "display_name": "Python 3",
   "language": "python",
   "name": "python3"
  },
  "language_info": {
   "codemirror_mode": {
    "name": "ipython",
    "version": 3
   },
   "file_extension": ".py",
   "mimetype": "text/x-python",
   "name": "python",
   "nbconvert_exporter": "python",
   "pygments_lexer": "ipython3",
   "version": "3.11.3"
  },
  "orig_nbformat": 4
 },
 "nbformat": 4,
 "nbformat_minor": 2
}
