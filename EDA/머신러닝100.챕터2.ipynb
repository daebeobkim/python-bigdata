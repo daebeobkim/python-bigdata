{
 "cells": [
  {
   "cell_type": "code",
   "execution_count": 36,
   "metadata": {},
   "outputs": [
    {
     "data": {
      "text/plain": [
       "0         2021-04-01 11:00\n",
       "1         2021-04-01 11:00\n",
       "3         2021-04-01 11:00\n",
       "4         2021-04-01 11:00\n",
       "5         2021-04-01 11:00\n",
       "                ...       \n",
       "471844    2021-05-31 21:58\n",
       "471845    2021-05-31 21:58\n",
       "471846    2021-05-31 21:58\n",
       "471847    2021-05-31 21:58\n",
       "471848    2021-05-31 21:58\n",
       "Name: order_accept_date, Length: 385087, dtype: object"
      ]
     },
     "execution_count": 36,
     "metadata": {},
     "output_type": "execute_result"
    }
   ],
   "source": [
    "import pandas as pd\n",
    "import warnings\n",
    "order_data = pd.read_csv('C:/Users/rlaeo/OneDrive/문서/GitHub/python-bigdata/EDA/output_data/order_data.csv')\n",
    "order_data = order_data.loc[(order_data['status']==1)|(order_data['status']==2)]\n",
    "order_data.columns\n",
    "analyze_data = order_data[[ 'store_id', 'customer_id', 'coupon_cd', \n",
    "       'order_accept_date', 'delivered_date', 'total_amount',\n",
    "       'store_name', 'wide_area', 'narrow_area',\n",
    "       'takeout_name', 'status_name']]\n",
    "analyze_data.dtypes\n",
    "analyze_data[['store_id','coupon_cd']] = analyze_data[['store_id','coupon_cd']].astype(str)\n",
    "warnings.filterwarnings('ignore') #주의 메세지 삭제\n",
    "analyze_data['order_accept_date']"
   ]
  },
  {
   "cell_type": "code",
   "execution_count": 40,
   "metadata": {},
   "outputs": [
    {
     "data": {
      "text/plain": [
       "order_accept_month\n",
       "202104    5604928120\n",
       "202105    5793736300\n",
       "Name: total_amount, dtype: int64"
      ]
     },
     "execution_count": 40,
     "metadata": {},
     "output_type": "execute_result"
    }
   ],
   "source": [
    "analyze_data['order_accept_date'] = pd.to_datetime(\n",
    "    analyze_data['order_accept_date'])\n",
    "analyze_data['order_accept_month'] = analyze_data[\n",
    "    'order_accept_date'].dt.strftime('%Y%m')\n",
    "#analyze_data[['order_accept_date','order_accept_month']].head() 확인용\n",
    "analyze_data['delivered_date'] = pd.to_datetime(analyze_data['delivered_date'])\n",
    "analyze_data['delivered_month'] = analyze_data[\n",
    "    'delivered_date'].dt.strftime('%Y%m')\n",
    "month_data = analyze_data.groupby('order_accept_month') #groupby 공부 해보기\n",
    "month_data['total_amount'].sum()"
   ]
  },
  {
   "cell_type": "code",
   "execution_count": 43,
   "metadata": {},
   "outputs": [
    {
     "data": {
      "text/plain": [
       "<Axes: xlabel='order_accept_month'>"
      ]
     },
     "execution_count": 43,
     "metadata": {},
     "output_type": "execute_result"
    },
    {
     "name": "stderr",
     "output_type": "stream",
     "text": [
      "findfont: Font family 'Malgum Gothic' not found.\n",
      "findfont: Font family 'Malgum Gothic' not found.\n",
      "findfont: Font family 'Malgum Gothic' not found.\n",
      "findfont: Font family 'Malgum Gothic' not found.\n",
      "findfont: Font family 'Malgum Gothic' not found.\n",
      "findfont: Font family 'Malgum Gothic' not found.\n",
      "findfont: Font family 'Malgum Gothic' not found.\n",
      "findfont: Font family 'Malgum Gothic' not found.\n",
      "findfont: Font family 'Malgum Gothic' not found.\n",
      "findfont: Font family 'Malgum Gothic' not found.\n",
      "findfont: Font family 'Malgum Gothic' not found.\n",
      "findfont: Font family 'Malgum Gothic' not found.\n",
      "findfont: Font family 'Malgum Gothic' not found.\n",
      "findfont: Font family 'Malgum Gothic' not found.\n",
      "findfont: Font family 'Malgum Gothic' not found.\n",
      "findfont: Font family 'Malgum Gothic' not found.\n",
      "findfont: Font family 'Malgum Gothic' not found.\n",
      "findfont: Font family 'Malgum Gothic' not found.\n",
      "findfont: Font family 'Malgum Gothic' not found.\n",
      "findfont: Font family 'Malgum Gothic' not found.\n",
      "findfont: Font family 'Malgum Gothic' not found.\n",
      "findfont: Font family 'Malgum Gothic' not found.\n",
      "findfont: Font family 'Malgum Gothic' not found.\n",
      "findfont: Font family 'Malgum Gothic' not found.\n",
      "findfont: Font family 'Malgum Gothic' not found.\n",
      "findfont: Font family 'Malgum Gothic' not found.\n",
      "findfont: Font family 'Malgum Gothic' not found.\n",
      "findfont: Font family 'Malgum Gothic' not found.\n",
      "findfont: Font family 'Malgum Gothic' not found.\n",
      "findfont: Font family 'Malgum Gothic' not found.\n",
      "findfont: Font family 'Malgum Gothic' not found.\n",
      "findfont: Font family 'Malgum Gothic' not found.\n",
      "findfont: Font family 'Malgum Gothic' not found.\n",
      "findfont: Font family 'Malgum Gothic' not found.\n",
      "findfont: Font family 'Malgum Gothic' not found.\n",
      "findfont: Font family 'Malgum Gothic' not found.\n",
      "findfont: Font family 'Malgum Gothic' not found.\n",
      "findfont: Font family 'Malgum Gothic' not found.\n",
      "findfont: Font family 'Malgum Gothic' not found.\n",
      "findfont: Font family 'Malgum Gothic' not found.\n",
      "findfont: Font family 'Malgum Gothic' not found.\n",
      "findfont: Font family 'Malgum Gothic' not found.\n",
      "findfont: Font family 'Malgum Gothic' not found.\n",
      "findfont: Font family 'Malgum Gothic' not found.\n",
      "findfont: Font family 'Malgum Gothic' not found.\n",
      "findfont: Font family 'Malgum Gothic' not found.\n",
      "findfont: Font family 'Malgum Gothic' not found.\n",
      "findfont: Font family 'Malgum Gothic' not found.\n",
      "findfont: Font family 'Malgum Gothic' not found.\n",
      "findfont: Font family 'Malgum Gothic' not found.\n"
     ]
    },
    {
     "data": {
      "image/png": "[encoded data removed]",
      "text/plain": [
       "<Figure size 640x480 with 1 Axes>"
      ]
     },
     "metadata": {},
     "output_type": "display_data"
    }
   ],
   "source": [
    "import matplotlib.pyplot as plt\n",
    "%matplotlib inline\n",
    "\n",
    "import os\n",
    "if os.name == 'nt':\n",
    "    plt.rc('font',family='Malgum Gothic') \n",
    "elif os.name == 'posix':\n",
    "    plt.rc('font',family='AllieGothic')\n",
    "plt.rc('axes',unicode_minus=False)\n",
    "month_data['total_amount'].sum().plot() "
   ]
  }
 ],
 "metadata": {
  "kernelspec": {
   "display_name": "Python 3",
   "language": "python",
   "name": "python3"
  },
  "language_info": {
   "codemirror_mode": {
    "name": "ipython",
    "version": 3
   },
   "file_extension": ".py",
   "mimetype": "text/x-python",
   "name": "python",
   "nbconvert_exporter": "python",
   "pygments_lexer": "ipython3",
   "version": "3.11.3"
  },
  "orig_nbformat": 4
 },
 "nbformat": 4,
 "nbformat_minor": 2
}
