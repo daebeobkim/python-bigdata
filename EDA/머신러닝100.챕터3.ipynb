{
 "cells": [
  {
   "cell_type": "code",
   "execution_count": null,
   "metadata": {},
   "outputs": [],
   "source": [
    "import pandas as pd\n",
    "import os\n",
    "store = pd.read_csv('C:/Users/rlaeo/OneDrive/바탕 화면/머신러닝/챕터1/m_store.csv')\n",
    "area = pd.read_csv('C:/Users/rlaeo/OneDrive/바탕 화면/머신러닝/챕터1/m_area.csv')\n",
    "order4 = pd.read_csv('C:/Users/rlaeo/OneDrive/바탕 화면/머신러닝/챕터1/tbl_order_202104.csv')\n",
    "order5 = pd.read_csv('C:/Users/rlaeo/OneDrive/바탕 화면/머신러닝/챕터1/tbl_order_202105.csv')\n",
    "order6 = pd.read_csv('C:/Users/rlaeo/OneDrive/바탕 화면/머신러닝/챕터1/tbl_order_202106.csv')"
   ]
  },
  {
   "cell_type": "code",
   "execution_count": null,
   "metadata": {},
   "outputs": [],
   "source": [
    "from IPython.display import display, clear_output\n",
    "from ipywidgets import Dropdown\n",
    "\n",
    "order_data = pd.merge(order4,store,on='store_id',how='left')\n",
    "order_data = pd.merge(order_data,area,on='area_cd',how='left')\n",
    "\n",
    "order_data.loc[order_data['takeout_flag']==0,'takeout_name']='delivery'\n",
    "order_data.loc[order_data['takeout_flag']==1,'takeout_name']='takeout'\n",
    "\n",
    "order_data.loc[order_data['status']==0,'status_name'] = '주문 접수'\n",
    "order_data.loc[order_data['status']==1,'status_name'] = '결제 완료'\n",
    "order_data.loc[order_data['status']==2,'status_name'] = '배달 완료'\n",
    "order_data.loc[order_data['status']==9,'status_name'] = '주문 취소'\n",
    "\n",
    "def order_by_store(val):\n",
    "    clear_output()\n",
    "    display(dropdown)\n",
    "    pick_data = order_data.loc[(order_data['store_name']==val['new'])&\n",
    "                               (order_data['status'].isin([1,2]))]\n",
    "    display(pick_data.head())\n",
    "\n",
    "store_list = store['store_name'].tolist()\n",
    "\n",
    "dropdown = Dropdown(options=store_list,description='지역 선택:')\n",
    "dropdown.observe(order_by_store, names='values')\n",
    "display(dropdown)"
   ]
  }
 ],
 "metadata": {
  "kernelspec": {
   "display_name": "Python 3",
   "language": "python",
   "name": "python3"
  },
  "language_info": {
   "codemirror_mode": {
    "name": "ipython",
    "version": 3
   },
   "file_extension": ".py",
   "mimetype": "text/x-python",
   "name": "python",
   "nbconvert_exporter": "python",
   "pygments_lexer": "ipython3",
   "version": "3.11.3"
  },
  "orig_nbformat": 4
 },
 "nbformat": 4,
 "nbformat_minor": 2
}
