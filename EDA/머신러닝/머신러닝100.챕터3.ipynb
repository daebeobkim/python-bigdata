{
 "cells": [
  {
   "cell_type": "code",
   "execution_count": 1,
   "metadata": {},
   "outputs": [],
   "source": [
    "import pandas as pd\n",
    "import os\n",
    "import matplotlib.pyplot as plt\n",
    "store = pd.read_csv('C:/Users/rlaeo/OneDrive/바탕 화면/머신러닝/챕터1/m_store1.csv')\n",
    "area = pd.read_csv('C:/Users/rlaeo/OneDrive/바탕 화면/머신러닝/챕터1/m_area1.csv')\n",
    "order4 = pd.read_csv('C:/Users/rlaeo/OneDrive/바탕 화면/머신러닝/챕터1/tbl_order_2021041.csv')\n",
    "order5 = pd.read_csv('C:/Users/rlaeo/OneDrive/바탕 화면/머신러닝/챕터1/tbl_order_2021051.csv')\n",
    "order6 = pd.read_csv('C:/Users/rlaeo/OneDrive/바탕 화면/머신러닝/챕터1/tbl_order_2021061.csv')"
   ]
  },
  {
   "cell_type": "code",
   "execution_count": 2,
   "metadata": {},
   "outputs": [
    {
     "data": {
      "application/vnd.jupyter.widget-view+json": {
       "model_id": "ca02db75391340ca92126d3fd1e6f987",
       "version_major": 2,
       "version_minor": 0
      },
      "text/plain": [
       "Dropdown(description='지역 선택:', options=('삼일대로점', '세종대로점', '무교로점', '덕수궁길점', '서소문로점', '청계청로점', '노해로점', '당산로점', '…"
      ]
     },
     "metadata": {},
     "output_type": "display_data"
    }
   ],
   "source": [
    "from IPython.display import display, clear_output\n",
    "from ipywidgets import Dropdown\n",
    "\n",
    "order_data = pd.merge(order4,store,on='store_id',how='left')\n",
    "order_data = pd.merge(order_data,area,on='area_cd',how='left')\n",
    "\n",
    "order_data.loc[order_data['takeout_flag']==0,'takeout_name']='delivery'\n",
    "order_data.loc[order_data['takeout_flag']==1,'takeout_name']='takeout'\n",
    "\n",
    "order_data.loc[order_data['status']==0,'status_name'] = '주문 접수'\n",
    "order_data.loc[order_data['status']==1,'status_name'] = '결제 완료'\n",
    "order_data.loc[order_data['status']==2,'status_name'] = '배달 완료'\n",
    "order_data.loc[order_data['status']==9,'status_name'] = '주문 취소'\n",
    "\n",
    "def order_by_store(val):\n",
    "    clear_output()\n",
    "    display(dropdown)\n",
    "    pick_data = order_data.loc[(order_data['store_name']==val['new'])&\n",
    "                               (order_data['status'].isin([1,2]))]\n",
    "    display(pick_data.head())\n",
    "\n",
    "store_list = store['store_name'].tolist()\n",
    "\n",
    "dropdown = Dropdown(options=store_list,description='지역 선택:')\n",
    "dropdown.observe(order_by_store, names='value')\n",
    "display(dropdown)"
   ]
  },
  {
   "cell_type": "code",
   "execution_count": 3,
   "metadata": {},
   "outputs": [
    {
     "data": {
      "application/vnd.jupyter.widget-view+json": {
       "model_id": "e15c99f69fdd4d83a44ccdf32b8ac948",
       "version_major": 2,
       "version_minor": 0
      },
      "text/plain": [
       "Dropdown(options=('삼일대로점', '세종대로점', '무교로점', '덕수궁길점', '서소문로점', '청계청로점', '노해로점', '당산로점', '남부순환로점', '성내로점', '자양로점…"
      ]
     },
     "metadata": {},
     "output_type": "display_data"
    }
   ],
   "source": [
    "%matplotlib inline\n",
    "import matplotlib.pyplot as plt\n",
    "if os.name == 'nt':\n",
    "    plt.rc('font',family='Malgun Gothic')\n",
    "elif os.name == 'posix':\n",
    "    plt.rc('font',family = 'AllieGothic')\n",
    "\n",
    "plt.rcParams['axes.unicode_minus'] = False\n",
    "\n",
    "def graph_by_store(val):\n",
    "    clear_output()\n",
    "    display(dropdown2)\n",
    "    pick_data = order_data.loc[(order_data['store_name']==val['new'])&\n",
    "                               (order_data['status'].isin([1,2]))]\n",
    "    temp = pick_data[['order_accept_date','total_amount']].copy()\n",
    "    temp.loc[:,'order_accept_date'] = pd.to_datetime(temp['order_accept_date'])\n",
    "    temp.set_index('order_accept_date',inplace=True)\n",
    "    temp.resample('D').sum().plot()#d는 일단위 표시\n",
    "dropdown2 = Dropdown(options=store_list)\n",
    "dropdown2.observe(graph_by_store,names='value')\n",
    "display(dropdown2)"
   ]
  },
  {
   "cell_type": "code",
   "execution_count": 4,
   "metadata": {},
   "outputs": [
    {
     "data": {
      "application/vnd.jupyter.widget-view+json": {
       "model_id": "b7a2f2948c384f1db5a6ac42229f6c29",
       "version_major": 2,
       "version_minor": 0
      },
      "text/plain": [
       "SelectMultiple(options=('삼일대로점', '세종대로점', '무교로점', '덕수궁길점', '서소문로점', '청계청로점', '노해로점', '당산로점', '남부순환로점', '성내로점',…"
      ]
     },
     "metadata": {},
     "output_type": "display_data"
    }
   ],
   "source": [
    "#여러 매장\n",
    "from ipywidgets import SelectMultiple\n",
    "def order_by_multi(val):\n",
    "    clear_output()\n",
    "    display(select)\n",
    "    pick_data = order_data.loc[(order_data['store_name'].isin(val['new']))&\n",
    "                               (order_data['status'].isin([1,2]))]\n",
    "    display(pick_data.head())\n",
    "select = SelectMultiple(options=store_list)\n",
    "select.observe(order_by_multi,names='value')\n",
    "display(select)\n"
   ]
  },
  {
   "cell_type": "code",
   "execution_count": 5,
   "metadata": {},
   "outputs": [],
   "source": [
    "def graph_by_multi(val):\n",
    "    clear_output()\n",
    "    display(select2)\n",
    "\n",
    "    fig = plt.figure(figsize = (17,4))\n",
    "    plt.subplots.adjust(wspace=0.25,hspace=0.6)\n",
    "    i=0\n",
    "    for trg in val['new']:\n",
    "        pick_data = order_data[\n",
    "            (order_data['store_name']==trg)&\n",
    "            (order_data['status'].isin([1,2]))]\n",
    "        temp = pick_data[['order_accept_date',\n",
    "                          'total_amount','store_name']].copy()\n",
    "        temp.loc[:,'order_accept_date'] = \\\n",
    "            pd.to_datetime(temp['order_accept_date'])\n",
    "        temp.set_index('order_accept_date',inplace=True)\n",
    "        i += 1\n",
    "        ax = fig.add_subplot(1,len(val['new']),i)\n",
    "        ax.plot(temp.resample('D').sum())\n",
    "        ax.set_title(trg)\n",
    "\n",
    "    select2 = SelectMultiple(options=store_list,\n",
    "                             description='매장 선택:')\n",
    "    select2.observe(graph_by_multi,names='value')\n",
    "    display(select2)"
   ]
  },
  {
   "cell_type": "code",
   "execution_count": 6,
   "metadata": {},
   "outputs": [
    {
     "data": {
      "application/vnd.jupyter.widget-view+json": {
       "model_id": "68fbe57f43cc4ccb85027faf91355a78",
       "version_major": 2,
       "version_minor": 0
      },
      "text/plain": [
       "IntSlider(value=1100, description='건수:', max=2000, min=1000, step=100)"
      ]
     },
     "metadata": {},
     "output_type": "display_data"
    }
   ],
   "source": [
    "from ipywidgets import IntSlider\n",
    "def store_lower(val):\n",
    "    clear_output()\n",
    "    display(slider)\n",
    "    temp = order_data.groupby('store_name')\n",
    "    print(temp.size()[temp.size()<val['new']])\n",
    "\n",
    "slider = IntSlider(value=1100,min=1000,max=2000,step=100,description='건수:',)\n",
    "slider.observe(store_lower,names='value')\n",
    "display(slider)"
   ]
  }
 ],
 "metadata": {
  "kernelspec": {
   "display_name": "Python 3",
   "language": "python",
   "name": "python3"
  },
  "language_info": {
   "codemirror_mode": {
    "name": "ipython",
    "version": 3
   },
   "file_extension": ".py",
   "mimetype": "text/x-python",
   "name": "python",
   "nbconvert_exporter": "python",
   "pygments_lexer": "ipython3",
   "version": "3.11.3"
  },
  "orig_nbformat": 4
 },
 "nbformat": 4,
 "nbformat_minor": 2
}
