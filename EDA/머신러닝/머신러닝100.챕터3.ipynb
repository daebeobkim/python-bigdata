{
 "cells": [
  {
   "cell_type": "code",
   "execution_count": 8,
   "metadata": {},
   "outputs": [],
   "source": [
    "import pandas as pd\n",
    "import os\n",
    "import matplotlib.pyplot as plt\n",
    "store = pd.read_csv('C:/Users/rlaeo/OneDrive/바탕 화면/머신러닝/챕터1/m_store1.csv')\n",
    "area = pd.read_csv('C:/Users/rlaeo/OneDrive/바탕 화면/머신러닝/챕터1/m_area1.csv')\n",
    "order4 = pd.read_csv('C:/Users/rlaeo/OneDrive/바탕 화면/머신러닝/챕터1/tbl_order_2021041.csv')\n",
    "order5 = pd.read_csv('C:/Users/rlaeo/OneDrive/바탕 화면/머신러닝/챕터1/tbl_order_2021051.csv')\n",
    "order6 = pd.read_csv('C:/Users/rlaeo/OneDrive/바탕 화면/머신러닝/챕터1/tbl_order_2021061.csv')"
   ]
  },
  {
   "cell_type": "code",
   "execution_count": 9,
   "metadata": {},
   "outputs": [
    {
     "data": {
      "application/vnd.jupyter.widget-view+json": {
       "model_id": "e80e79c407a24b308a05182083ed445e",
       "version_major": 2,
       "version_minor": 0
      },
      "text/plain": [
       "Dropdown(description='지역 선택:', index=191, options=('삼일대로점', '세종대로점', '무교로점', '덕수궁길점', '서소문로점', '청계청로점', '노해로점'…"
      ]
     },
     "metadata": {},
     "output_type": "display_data"
    },
    {
     "data": {
      "text/html": [
       "<div>\n",
       "<style scoped>\n",
       "    .dataframe tbody tr th:only-of-type {\n",
       "        vertical-align: middle;\n",
       "    }\n",
       "\n",
       "    .dataframe tbody tr th {\n",
       "        vertical-align: top;\n",
       "    }\n",
       "\n",
       "    .dataframe thead th {\n",
       "        text-align: right;\n",
       "    }\n",
       "</style>\n",
       "<table border=\"1\" class=\"dataframe\">\n",
       "  <thead>\n",
       "    <tr style=\"text-align: right;\">\n",
       "      <th></th>\n",
       "      <th>order_id</th>\n",
       "      <th>store_id</th>\n",
       "      <th>customer_id</th>\n",
       "      <th>coupon_cd</th>\n",
       "      <th>sales_detail_id</th>\n",
       "      <th>order_accept_date</th>\n",
       "      <th>delivered_date</th>\n",
       "      <th>takeout_flag</th>\n",
       "      <th>total_amount</th>\n",
       "      <th>status</th>\n",
       "      <th>store_name</th>\n",
       "      <th>area_cd</th>\n",
       "      <th>wide_area</th>\n",
       "      <th>narrow_area</th>\n",
       "      <th>takeout_name</th>\n",
       "      <th>status_name</th>\n",
       "    </tr>\n",
       "  </thead>\n",
       "  <tbody>\n",
       "    <tr>\n",
       "      <th>1538</th>\n",
       "      <td>96503067</td>\n",
       "      <td>192</td>\n",
       "      <td>C94007279</td>\n",
       "      <td>27</td>\n",
       "      <td>16024834</td>\n",
       "      <td>2021-04-01 13:11</td>\n",
       "      <td>2021-04-01 13:25</td>\n",
       "      <td>0</td>\n",
       "      <td>21120</td>\n",
       "      <td>2</td>\n",
       "      <td>부흥로점</td>\n",
       "      <td>GB</td>\n",
       "      <td>경기</td>\n",
       "      <td>경기북부</td>\n",
       "      <td>delivery</td>\n",
       "      <td>배달 완료</td>\n",
       "    </tr>\n",
       "    <tr>\n",
       "      <th>1542</th>\n",
       "      <td>1350226</td>\n",
       "      <td>192</td>\n",
       "      <td>C06217869</td>\n",
       "      <td>82</td>\n",
       "      <td>29234966</td>\n",
       "      <td>2021-04-01 13:12</td>\n",
       "      <td>2021-04-01 13:37</td>\n",
       "      <td>1</td>\n",
       "      <td>20640</td>\n",
       "      <td>1</td>\n",
       "      <td>부흥로점</td>\n",
       "      <td>GB</td>\n",
       "      <td>경기</td>\n",
       "      <td>경기북부</td>\n",
       "      <td>takeout</td>\n",
       "      <td>결제 완료</td>\n",
       "    </tr>\n",
       "    <tr>\n",
       "      <th>1764</th>\n",
       "      <td>5734439</td>\n",
       "      <td>192</td>\n",
       "      <td>C89580880</td>\n",
       "      <td>31</td>\n",
       "      <td>64284116</td>\n",
       "      <td>2021-04-01 13:31</td>\n",
       "      <td>2021-04-01 14:08</td>\n",
       "      <td>0</td>\n",
       "      <td>22380</td>\n",
       "      <td>2</td>\n",
       "      <td>부흥로점</td>\n",
       "      <td>GB</td>\n",
       "      <td>경기</td>\n",
       "      <td>경기북부</td>\n",
       "      <td>delivery</td>\n",
       "      <td>배달 완료</td>\n",
       "    </tr>\n",
       "    <tr>\n",
       "      <th>2349</th>\n",
       "      <td>47449990</td>\n",
       "      <td>192</td>\n",
       "      <td>C79289456</td>\n",
       "      <td>20</td>\n",
       "      <td>57340472</td>\n",
       "      <td>2021-04-01 14:24</td>\n",
       "      <td>2021-04-01 14:52</td>\n",
       "      <td>0</td>\n",
       "      <td>21220</td>\n",
       "      <td>2</td>\n",
       "      <td>부흥로점</td>\n",
       "      <td>GB</td>\n",
       "      <td>경기</td>\n",
       "      <td>경기북부</td>\n",
       "      <td>delivery</td>\n",
       "      <td>배달 완료</td>\n",
       "    </tr>\n",
       "    <tr>\n",
       "      <th>2597</th>\n",
       "      <td>34423384</td>\n",
       "      <td>192</td>\n",
       "      <td>C79372919</td>\n",
       "      <td>53</td>\n",
       "      <td>69533910</td>\n",
       "      <td>2021-04-01 14:46</td>\n",
       "      <td>2021-04-01 15:45</td>\n",
       "      <td>0</td>\n",
       "      <td>31200</td>\n",
       "      <td>2</td>\n",
       "      <td>부흥로점</td>\n",
       "      <td>GB</td>\n",
       "      <td>경기</td>\n",
       "      <td>경기북부</td>\n",
       "      <td>delivery</td>\n",
       "      <td>배달 완료</td>\n",
       "    </tr>\n",
       "  </tbody>\n",
       "</table>\n",
       "</div>"
      ],
      "text/plain": [
       "      order_id  store_id customer_id  coupon_cd  sales_detail_id   \n",
       "1538  96503067       192   C94007279         27         16024834  \\\n",
       "1542   1350226       192   C06217869         82         29234966   \n",
       "1764   5734439       192   C89580880         31         64284116   \n",
       "2349  47449990       192   C79289456         20         57340472   \n",
       "2597  34423384       192   C79372919         53         69533910   \n",
       "\n",
       "     order_accept_date    delivered_date  takeout_flag  total_amount  status   \n",
       "1538  2021-04-01 13:11  2021-04-01 13:25             0         21120       2  \\\n",
       "1542  2021-04-01 13:12  2021-04-01 13:37             1         20640       1   \n",
       "1764  2021-04-01 13:31  2021-04-01 14:08             0         22380       2   \n",
       "2349  2021-04-01 14:24  2021-04-01 14:52             0         21220       2   \n",
       "2597  2021-04-01 14:46  2021-04-01 15:45             0         31200       2   \n",
       "\n",
       "     store_name area_cd wide_area narrow_area takeout_name status_name  \n",
       "1538       부흥로점      GB        경기        경기북부     delivery       배달 완료  \n",
       "1542       부흥로점      GB        경기        경기북부      takeout       결제 완료  \n",
       "1764       부흥로점      GB        경기        경기북부     delivery       배달 완료  \n",
       "2349       부흥로점      GB        경기        경기북부     delivery       배달 완료  \n",
       "2597       부흥로점      GB        경기        경기북부     delivery       배달 완료  "
      ]
     },
     "metadata": {},
     "output_type": "display_data"
    }
   ],
   "source": [
    "from IPython.display import display, clear_output\n",
    "from ipywidgets import Dropdown\n",
    "\n",
    "order_data = pd.merge(order4,store,on='store_id',how='left')\n",
    "order_data = pd.merge(order_data,area,on='area_cd',how='left')\n",
    "\n",
    "order_data.loc[order_data['takeout_flag']==0,'takeout_name']='delivery'\n",
    "order_data.loc[order_data['takeout_flag']==1,'takeout_name']='takeout'\n",
    "\n",
    "order_data.loc[order_data['status']==0,'status_name'] = '주문 접수'\n",
    "order_data.loc[order_data['status']==1,'status_name'] = '결제 완료'\n",
    "order_data.loc[order_data['status']==2,'status_name'] = '배달 완료'\n",
    "order_data.loc[order_data['status']==9,'status_name'] = '주문 취소'\n",
    "\n",
    "def order_by_store(val):\n",
    "    clear_output()\n",
    "    display(dropdown)\n",
    "    pick_data = order_data.loc[(order_data['store_name']==val['new'])&\n",
    "                               (order_data['status'].isin([1,2]))]\n",
    "    display(pick_data.head())\n",
    "\n",
    "store_list = store['store_name'].tolist()\n",
    "\n",
    "dropdown = Dropdown(options=store_list,description='지역 선택:')\n",
    "dropdown.observe(order_by_store, names='value')\n",
    "display(dropdown)"
   ]
  },
  {
   "cell_type": "code",
   "execution_count": 10,
   "metadata": {},
   "outputs": [
    {
     "data": {
      "application/vnd.jupyter.widget-view+json": {
       "model_id": "c80b93284ef94856b0ae0511a3fbeaa3",
       "version_major": 2,
       "version_minor": 0
      },
      "text/plain": [
       "Dropdown(index=13, options=('삼일대로점', '세종대로점', '무교로점', '덕수궁길점', '서소문로점', '청계청로점', '노해로점', '당산로점', '남부순환로점', '성내…"
      ]
     },
     "metadata": {},
     "output_type": "display_data"
    },
    {
     "data": {
      "image/png": "[encoded data removed]",
      "text/plain": [
       "<Figure size 640x480 with 1 Axes>"
      ]
     },
     "metadata": {},
     "output_type": "display_data"
    }
   ],
   "source": [
    "%matplotlib inline\n",
    "import matplotlib.pyplot as plt\n",
    "if os.name == 'nt':\n",
    "    plt.rc('font',family='Malgun Gothic')\n",
    "elif os.name == 'posix':\n",
    "    plt.rc('font',family = 'AllieGothic')\n",
    "\n",
    "plt.rcParams['axes.unicode_minus'] = False\n",
    "\n",
    "def graph_by_store(val):\n",
    "    clear_output()\n",
    "    display(dropdown2)\n",
    "    pick_data = order_data.loc[(order_data['store_name']==val['new'])&\n",
    "                               (order_data['status'].isin([1,2]))]\n",
    "    temp = pick_data[['order_accept_date','total_amount']].copy()\n",
    "    temp.loc[:,'order_accept_date'] = pd.to_datetime(temp['order_accept_date'])\n",
    "    temp.set_index('order_accept_date',inplace=True)\n",
    "    temp.resample('D').sum().plot()#d는 일단위 표시\n",
    "dropdown2 = Dropdown(options=store_list)\n",
    "dropdown2.observe(graph_by_store,names='value')\n",
    "display(dropdown2)"
   ]
  },
  {
   "cell_type": "code",
   "execution_count": 11,
   "metadata": {},
   "outputs": [
    {
     "data": {
      "application/vnd.jupyter.widget-view+json": {
       "model_id": "77f8d810a4504d2ebfb48d2bb5ae6e94",
       "version_major": 2,
       "version_minor": 0
      },
      "text/plain": [
       "SelectMultiple(options=('삼일대로점', '세종대로점', '무교로점', '덕수궁길점', '서소문로점', '청계청로점', '노해로점', '당산로점', '남부순환로점', '성내로점',…"
      ]
     },
     "metadata": {},
     "output_type": "display_data"
    }
   ],
   "source": [
    "#여러 매장\n",
    "from ipywidgets import SelectMultiple\n",
    "def order_by_multi(val):\n",
    "    clear_output()\n",
    "    display(select)\n",
    "    pick_data = order_data.loc[(order_data['store_name'].isin(val['new']))&\n",
    "                               (order_data['status'].isin([1,2]))]\n",
    "    display(pick_data.head())\n",
    "select = SelectMultiple(options=store_list)\n",
    "select.observe(order_by_multi,names='value')\n",
    "display(select)\n"
   ]
  },
  {
   "cell_type": "code",
   "execution_count": 12,
   "metadata": {},
   "outputs": [],
   "source": [
    "def graph_by_multi(val):\n",
    "    clear_output()\n",
    "    display(select2)\n",
    "\n",
    "    fig = plt.figure(figsize = (17,4))\n",
    "    plt.subplots.adjust(wspace=0.25,hspace=0.6)\n",
    "    i=0\n",
    "    for trg in val['new']:\n",
    "        pick_data = order_data[\n",
    "            (order_data['store_name']==trg)&\n",
    "            (order_data['status'].isin([1,2]))]\n",
    "        temp = pick_data[['order_accept_date',\n",
    "                          'total_amount','store_name']].copy()\n",
    "        temp.loc[:,'order_accept_date'] = \\\n",
    "            pd.to_datetime(temp['order_accept_date'])\n",
    "        temp.set_index('order_accept_date',inplace=True)\n",
    "        i += 1\n",
    "        ax = fig.add_subplot(1,len(val['new']),i)\n",
    "        ax.plot(temp.resample('D').sum())\n",
    "        ax.set_title(trg)\n",
    "\n",
    "    select2 = SelectMultiple(options=store_list,\n",
    "                             description='매장 선택:')\n",
    "    select2.observe(graph_by_multi,names='value')\n",
    "    display(select2)"
   ]
  },
  {
   "cell_type": "code",
   "execution_count": 13,
   "metadata": {},
   "outputs": [
    {
     "data": {
      "application/vnd.jupyter.widget-view+json": {
       "model_id": "22b0e39143bb41d39ab087eac56ae743",
       "version_major": 2,
       "version_minor": 0
      },
      "text/plain": [
       "IntSlider(value=1100, description='건수:', max=2000, min=1000, step=100)"
      ]
     },
     "metadata": {},
     "output_type": "display_data"
    }
   ],
   "source": [
    "from ipywidgets import IntSlider\n",
    "def store_lower(val):\n",
    "    clear_output()\n",
    "    display(slider)\n",
    "    temp = order_data.groupby('store_name')\n",
    "    print(temp.size()[temp.size()<val['new']])\n",
    "\n",
    "slider = IntSlider(value=1100,min=1000,max=2000,step=100,description='건수:',)\n",
    "slider.observe(store_lower,names='value')\n",
    "display(slider)"
   ]
  }
 ],
 "metadata": {
  "kernelspec": {
   "display_name": "Python 3",
   "language": "python",
   "name": "python3"
  },
  "language_info": {
   "codemirror_mode": {
    "name": "ipython",
    "version": 3
   },
   "file_extension": ".py",
   "mimetype": "text/x-python",
   "name": "python",
   "nbconvert_exporter": "python",
   "pygments_lexer": "ipython3",
   "version": "3.11.3"
  },
  "orig_nbformat": 4
 },
 "nbformat": 4,
 "nbformat_minor": 2
}
