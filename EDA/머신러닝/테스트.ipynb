{
 "cells": [
  {
   "cell_type": "code",
   "execution_count": 1,
   "metadata": {},
   "outputs": [],
   "source": [
    "import pymysql\n",
    "import pandas as pd\n",
    "import numpy as np\n",
    "from IPython.display import display, clear_output\n",
    "from ipywidgets import Dropdown\n",
    "import matplotlib.pyplot as plt \n",
    "from ipywidgets import SelectMultiple\n",
    "import seaborn as sns\n",
    "connect = pymysql.connect(host='127.0.0.1', user='root', password='0000', db='practice', charset='utf8')\n",
    "cur = connect.cursor()\n",
    "\n",
    "\n",
    "test = \"SELECT * FROM practice.train;\"\n",
    "cur.execute(test)\n",
    "test = pd.DataFrame(cur.fetchall())\n",
    "test.columns = ['ID','Warehouse_block','Mode_of_Shipment','Customer_care_calls','Customer_rating',\n",
    "                'Cost_of_the_Product','Prior_purchases','Product_importance','Gender','Discount_offered',\n",
    "                'Weight_in_gms','Reached.on.Time_Y.N']\n",
    "test1 = \"SELECT * FROM practice.train1;\"\n",
    "cur.execute(test1)\n",
    "test1 = pd.DataFrame(cur.fetchall())\n",
    "test1.columns = ['Mode_of_Shipment','code']\n",
    "\n",
    "test = pd.merge(test,test1,on='Mode_of_Shipment',how='left')\n",
    "#df_id = test[\"ID\"]\n",
    "#test = test.drop(columns=[\"ID\"])\n"
   ]
  },
  {
   "cell_type": "code",
   "execution_count": 2,
   "metadata": {},
   "outputs": [
    {
     "data": {
      "application/vnd.jupyter.widget-view+json": {
       "model_id": "8921c2e9087a43fc9629f5190734caed",
       "version_major": 2,
       "version_minor": 0
      },
      "text/plain": [
       "Dropdown(description='지역 선택:', options=('비행기', '배', '도로'), value='비행기')"
      ]
     },
     "metadata": {},
     "output_type": "display_data"
    }
   ],
   "source": [
    "def multi(val):\n",
    "    clear_output()\n",
    "    display(dropdown)\n",
    "    pick_data = test.loc[(test['code']==val['new'])]\n",
    "    display(pick_data.head())\n",
    "list = test1['code'].tolist()\n",
    "dropdown = Dropdown(options=list,description='지역 선택:')\n",
    "dropdown.observe(multi,names ='value')\n",
    "display(dropdown)"
   ]
  },
  {
   "cell_type": "code",
   "execution_count": 6,
   "metadata": {},
   "outputs": [
    {
     "data": {
      "application/vnd.jupyter.widget-view+json": {
       "model_id": "8a8176529ff7465e80a5f661e1f6a325",
       "version_major": 2,
       "version_minor": 0
      },
      "text/plain": [
       "Dropdown(description='지역 선택:', options=('비행기', '배', '도로'), value='비행기')"
      ]
     },
     "metadata": {},
     "output_type": "display_data"
    }
   ],
   "source": [
    "def graph(val):\n",
    "    clear_output()\n",
    "    display(dropdown1)\n",
    "    pick_data = test.loc[(test['code']==val['new'])]\n",
    "    x = pick_data['Product_importance']\n",
    "    y = pick_data['Customer_care_calls']\n",
    "    plt.plot(x, y)\n",
    "    plt.xlabel('X')  # X축 레이블에 한글 폰트 적용\n",
    "    plt.ylabel('Y')  # Y축 레이블에 한글 폰트 적용\n",
    "    plt.title('그래프')  # 그래프 제목에 한글 폰트 적용\n",
    "    plt.show()\n",
    "    \n",
    "list = test1['code'].tolist()\n",
    "\n",
    "dropdown1 = Dropdown(options=list, description='운송수단 선택:')\n",
    "dropdown1.observe(graph,names='value')\n",
    "display(dropdown1)"
   ]
  },
  {
   "cell_type": "code",
   "execution_count": 4,
   "metadata": {},
   "outputs": [
    {
     "data": {
      "text/plain": [
       "0        2\n",
       "1        5\n",
       "2        2\n",
       "3        3\n",
       "4        2\n",
       "        ..\n",
       "10994    1\n",
       "10995    1\n",
       "10996    4\n",
       "10997    2\n",
       "10998    5\n",
       "Name: Customer_rating, Length: 10999, dtype: int64"
      ]
     },
     "execution_count": 4,
     "metadata": {},
     "output_type": "execute_result"
    }
   ],
   "source": [
    "test.iloc[:,4]\n"
   ]
  }
 ],
 "metadata": {
  "kernelspec": {
   "display_name": "Python 3",
   "language": "python",
   "name": "python3"
  },
  "language_info": {
   "codemirror_mode": {
    "name": "ipython",
    "version": 3
   },
   "file_extension": ".py",
   "mimetype": "text/x-python",
   "name": "python",
   "nbconvert_exporter": "python",
   "pygments_lexer": "ipython3",
   "version": "3.11.3"
  },
  "orig_nbformat": 4
 },
 "nbformat": 4,
 "nbformat_minor": 2
}
