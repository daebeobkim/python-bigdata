{
 "cells": [
  {
   "cell_type": "code",
   "execution_count": 6,
   "metadata": {},
   "outputs": [],
   "source": [
    "import pymysql\n",
    "import pandas as pd\n",
    "import numpy as np\n",
    "from IPython.display import display, clear_output\n",
    "from ipywidgets import Dropdown\n",
    "import matplotlib.pyplot as plt \n",
    "from ipywidgets import SelectMultiple\n",
    "import seaborn as sns\n",
    "connect = pymysql.connect(host='127.0.0.1', user='root', password='0000', db='practice', charset='utf8')\n",
    "cur = connect.cursor()\n",
    "\n",
    "\n",
    "test = \"SELECT * FROM practice.train;\"\n",
    "cur.execute(test)\n",
    "test = pd.DataFrame(cur.fetchall())\n",
    "test.columns = ['ID','Warehouse_block','Mode_of_Shipment','Customer_care_calls','Customer_rating',\n",
    "                'Cost_of_the_Product','Prior_purchases','Product_importance','Gender','Discount_offered',\n",
    "                'Weight_in_gms','Reached.on.Time_Y.N']\n",
    "test1 = \"SELECT * FROM practice.train1;\"\n",
    "cur.execute(test1)\n",
    "test1 = pd.DataFrame(cur.fetchall())\n",
    "test1.columns = ['Mode_of_Shipment','code']\n",
    "\n",
    "test = pd.merge(test,test1,on='Mode_of_Shipment',how='left')\n",
    "#df_id = test[\"ID\"]\n",
    "#test = test.drop(columns=[\"ID\"])\n"
   ]
  },
  {
   "cell_type": "code",
   "execution_count": 7,
   "metadata": {},
   "outputs": [
    {
     "data": {
      "application/vnd.jupyter.widget-view+json": {
       "model_id": "31d2d78105da4e9d97768c8c3041a835",
       "version_major": 2,
       "version_minor": 0
      },
      "text/plain": [
       "Dropdown(description='지역 선택:', options=('비행기', '배', '도로'), value='비행기')"
      ]
     },
     "metadata": {},
     "output_type": "display_data"
    }
   ],
   "source": [
    "def multi(val):\n",
    "    clear_output()\n",
    "    display(dropdown)\n",
    "    pick_data = test.loc[(test['code']==val['new'])]\n",
    "    display(pick_data.head())\n",
    "list = test1['code'].tolist()\n",
    "dropdown = Dropdown(options=list,description='지역 선택:')\n",
    "dropdown.observe(multi,names ='value')\n",
    "display(dropdown)"
   ]
  },
  {
   "cell_type": "code",
   "execution_count": 8,
   "metadata": {},
   "outputs": [
    {
     "data": {
      "application/vnd.jupyter.widget-view+json": {
       "model_id": "909f2fbf36df45ddb90fb96fb0521f07",
       "version_major": 2,
       "version_minor": 0
      },
      "text/plain": [
       "Dropdown(description='운송 선택:', options=('비행기', '배', '도로'), value='비행기')"
      ]
     },
     "metadata": {},
     "output_type": "display_data"
    }
   ],
   "source": [
    "plt.rcParams[\"font.family\"] = \"Malgun Gothic\"\n",
    "def graph(val):\n",
    "    clear_output()\n",
    "    display(dropdown1)\n",
    "    pick_data = test.loc[(test['code']==val['new'])]\n",
    "    x = pick_data['Mode_of_Shipment']\n",
    "    y = pick_data['Customer_care_calls']\n",
    "    plt.plot(x, y)\n",
    "    plt.xlabel('X')  # X축 레이블에 한글 폰트 적용\n",
    "    plt.ylabel('Y')  # Y축 레이블에 한글 폰트 적용\n",
    "    plt.title('그래프')  # 그래프 제목에 한글 폰트 적용\n",
    "    plt.show()\n",
    "    \n",
    "list = test1['code'].tolist()\n",
    "\n",
    "dropdown1 = Dropdown(options=list, description='운송 선택:')\n",
    "dropdown1.observe(graph,names='value')\n",
    "display(dropdown1)"
   ]
  },
  {
   "cell_type": "code",
   "execution_count": null,
   "metadata": {},
   "outputs": [
    {
     "name": "stdout",
     "output_type": "stream",
     "text": [
      "[[1 2 3 4]\n",
      " [6 7 8 9]]\n"
     ]
    }
   ],
   "source": [
    "import numpy as np\n",
    "a = np.array([[1,2,3,4],[6,7,8,9]])\n",
    "print(a)\n"
   ]
  }
 ],
 "metadata": {
  "kernelspec": {
   "display_name": "Python 3",
   "language": "python",
   "name": "python3"
  },
  "language_info": {
   "codemirror_mode": {
    "name": "ipython",
    "version": 3
   },
   "file_extension": ".py",
   "mimetype": "text/x-python",
   "name": "python",
   "nbconvert_exporter": "python",
   "pygments_lexer": "ipython3",
   "version": "3.11.3"
  },
  "orig_nbformat": 4
 },
 "nbformat": 4,
 "nbformat_minor": 2
}
