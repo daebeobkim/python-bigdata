{
 "cells": [
  {
   "cell_type": "code",
   "execution_count": 22,
   "metadata": {},
   "outputs": [],
   "source": [
    "import pandas as pd\n",
    "import os\n",
    "store = pd.read_csv('C:/Users/rlaeo/OneDrive/바탕 화면/머신러닝/챕터1/m_store.csv')\n",
    "area = pd.read_csv('C:/Users/rlaeo/OneDrive/바탕 화면/머신러닝/챕터1/m_area.csv')\n",
    "order4 = pd.read_csv('C:/Users/rlaeo/OneDrive/바탕 화면/머신러닝/챕터1/tbl_order_202104.csv')\n",
    "order5 = pd.read_csv('C:/Users/rlaeo/OneDrive/바탕 화면/머신러닝/챕터1/tbl_order_202105.csv')\n",
    "order6 = pd.read_csv('C:/Users/rlaeo/OneDrive/바탕 화면/머신러닝/챕터1/tbl_order_202106.csv')\n",
    "all = pd.read_csv('C:/Users/rlaeo/OneDrive/바탕 화면/머신러닝/챕터1/tbl_order_202105.csv')"
   ]
  },
  {
   "cell_type": "code",
   "execution_count": 23,
   "metadata": {},
   "outputs": [],
   "source": [
    "order_all = pd.concat([order4,order5],ignore_index=True)#ignor_index는 인덱스 번호를 0부터 다시 쓰는 것\n",
    "current = os.getcwd() #현재 디렉토리 확인"
   ]
  },
  {
   "cell_type": "code",
   "execution_count": 24,
   "metadata": {},
   "outputs": [],
   "source": [
    "order_all.isnull().sum() #결손치 확인\n",
    "order_all.describe() #통계량 확인\n",
    "order_data = order_all.loc[order_all['store_id'] != 999] #불필요 데이터 제거"
   ]
  },
  {
   "cell_type": "code",
   "execution_count": 25,
   "metadata": {},
   "outputs": [],
   "source": [
    "order_data = pd.merge(order_data,store,on='store_id',how='left') #데이터 결합\n",
    "order_data = pd.merge(order_data,area,on=\"area_cd\",how='left')\n",
    "order_data.loc[order_data['takeout_flag']==0,'takeout_name'] = 'delivery' #마스터 생성\n",
    "order_data.loc[order_data['takeout_flag']==1,'takeout_name'] = 'takeout'\n",
    "order_data.loc[order_data['status']==0,'status_name'] = '주문 접수'\n",
    "order_data.loc[order_data['status']==1,'status_name'] = '지불 완료'\n",
    "order_data.loc[order_data['status']==2,'status_name'] = '배달 완료'\n",
    "order_data.loc[order_data['status']==9,'status_name'] = '주문 취소'"
   ]
  },
  {
   "cell_type": "code",
   "execution_count": 26,
   "metadata": {},
   "outputs": [],
   "source": [
    "output_dir = os.path.join(current,'output_data')\n",
    "os.makedirs(output_dir,exist_ok=True)\n",
    "output_file=os.path.join(output_dir,'order_data.csv')\n",
    "order_data.to_csv(output_file,index=False)"
   ]
  }
 ],
 "metadata": {
  "kernelspec": {
   "display_name": "Python 3",
   "language": "python",
   "name": "python3"
  },
  "language_info": {
   "codemirror_mode": {
    "name": "ipython",
    "version": 3
   },
   "file_extension": ".py",
   "mimetype": "text/x-python",
   "name": "python",
   "nbconvert_exporter": "python",
   "pygments_lexer": "ipython3",
   "version": "3.11.3"
  },
  "orig_nbformat": 4
 },
 "nbformat": 4,
 "nbformat_minor": 2
}
