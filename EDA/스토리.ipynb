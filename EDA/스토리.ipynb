{
 "cells": [
  {
   "cell_type": "code",
   "execution_count": 1,
   "metadata": {},
   "outputs": [],
   "source": [
    "import pymysql\n",
    "import pandas as pd\n",
    "from IPython.display import display, clear_output\n",
    "from ipywidgets import Dropdown\n",
    "\n",
    "connect = pymysql.connect(host='127.0.0.1', user='root', password='0000', db='practice', charset='utf8')\n",
    "cur = connect.cursor()\n",
    "\n",
    "test = \"SELECT * FROM practice.m_area;\"\n",
    "test1 = \"SELECT * FROM practice.m_store;\"\n",
    "query = \"SELECT * FROM practice.tbl_order_202104;\"\n",
    "query1 = \"SELECT * FROM practice.tbl_order_202105;\"\n",
    "query2 = \"SELECT * FROM practice.tbl_order_202106;\"\n",
    "\n",
    "cur.execute(test)\n",
    "test = pd.DataFrame(cur.fetchall())\n",
    "test.columns = ['area_cd', 'wide_area', 'narrow_area']\n",
    "\n",
    "cur.execute(test1)\n",
    "test1 = pd.DataFrame(cur.fetchall())\n",
    "test1.columns = ['store_id', 'store_name', 'area_cd']\n",
    "\n",
    "cur.execute(query)\n",
    "data = pd.DataFrame(cur.fetchall())\n",
    "data.columns = ['order_id', 'store_id', 'customer_id', 'coupon_cd', 'sales_detail_id',\n",
    "                'order_accept_date', 'delivered_date', 'takeout_flag', 'total_amount', 'status']\n",
    "\n",
    "cur.execute(query1)\n",
    "data1 = pd.DataFrame(cur.fetchall())\n",
    "data1.columns = ['order_id', 'store_id', 'customer_id', 'coupon_cd', 'sales_detail_id',\n",
    "                 'order_accept_date', 'delivered_date', 'takeout_flag', 'total_amount', 'status']\n",
    "\n",
    "cur.execute(query2)\n",
    "data2 = pd.DataFrame(cur.fetchall())\n",
    "data2.columns = ['order_id', 'store_id', 'customer_id', 'coupon_cd', 'sales_detail_id',\n",
    "                 'order_accept_date', 'delivered_date', 'takeout_flag', 'total_amount', 'status']\n",
    "\n",
    "order_data = pd.merge(test, test1, on='area_cd', how='left')\n",
    "all = pd.concat([data,data1,data2],ignore_index=True)\n",
    "all = pd.merge(all,order_data,on='store_id',how='left')"
   ]
  },
  {
   "cell_type": "code",
   "execution_count": null,
   "metadata": {},
   "outputs": [],
   "source": [
    "import glob\n",
    "import os\n",
    "\n",
    "current_dir = os.getcwd()\n",
    "tbl_order_file = os.path.join(current_dir,'tbl_order_*.csv')\n",
    "tbl_order_files = glob.glob(tbl_order_file)\n",
    "\n",
    "order_all = pd.DataFrame()\n",
    "for file in tbl_order_files:\n",
    "    order_tmp = pd.read_csv(file)\n",
    "    print(f'{file}:{len(order_tmp)}')\n",
    "    order_all = pd.concat([all,order_tmp],ignore_index=True)\n",
    "\n",
    "order_all = all.loc[all['store_id']!=999]"
   ]
  }
 ],
 "metadata": {
  "kernelspec": {
   "display_name": "Python 3",
   "language": "python",
   "name": "python3"
  },
  "language_info": {
   "codemirror_mode": {
    "name": "ipython",
    "version": 3
   },
   "file_extension": ".py",
   "mimetype": "text/x-python",
   "name": "python",
   "nbconvert_exporter": "python",
   "pygments_lexer": "ipython3",
   "version": "3.11.3"
  },
  "orig_nbformat": 4
 },
 "nbformat": 4,
 "nbformat_minor": 2
}
