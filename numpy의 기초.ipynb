{
 "cells": [
  {
   "cell_type": "code",
   "execution_count": 19,
   "metadata": {},
   "outputs": [
    {
     "name": "stdout",
     "output_type": "stream",
     "text": [
      "[[ 1  3]\n",
      " [ 5  7]\n",
      " [ 9 11]]\n",
      "[[1. 1. 1. 1.]\n",
      " [1. 1. 1. 1.]\n",
      " [1. 1. 1. 1.]]\n",
      "[2 4 6]\n",
      "4.0\n",
      "3.5\n",
      "(2, 3)\n",
      "[11 12 13]\n",
      "[ 2 12]\n"
     ]
    }
   ],
   "source": [
    "x = np.array([1,3,5,7,9,11]).reshape(3,2)\n",
    "print(x)\n",
    "#reshape()메소드를 추가하면 numpy의 2차원 배열을 원하는 모양으로 생성\n",
    "\n",
    "y = np.ones(([3,4]))\n",
    "print(y)\n",
    "#numpy형식의 2차원 배열을 1의 값들로 채우려면 다음과 같이 실행\n",
    "\n",
    "x = np.array([[1,3,5],[2,4,6]])\n",
    "print(x[1]) #[2,4,6] 출력\n",
    "print(x[1].mean()) #4.0 출력\n",
    "print(x.mean()) # 3.5 출력\n",
    "print(x.shape) #(2,3) 출력\n",
    "#첫 번째 print문은 2차원 배열의 첫 번째 원소인 1차원 배열\n",
    "#두 번째 print문은 첫 번째 1차원 배열에 저장된 원소들의 평균값을 실수형태로 출력\n",
    "#세 번째 print문은 x배열 전체의 원소들의 평균값을 구해 출력\n",
    "#네 번째 print문은 x배열의 모양(형식)을 출력\n",
    "\n",
    "#list1 = ([1,11],[2,12],[3,13])\n",
    "#print(list1[1][1])\n",
    "#list1의 [2,12]칸의 12를 출력\n",
    "\n",
    "#list2 = [[1,11],[2,12],[3,13]]\n",
    "#print(list2[:][1])\n",
    "#print(list2[:,1]) 에러발생\n",
    "\n",
    "#import numpy as np\n",
    "#list1 = [[1,11],[2,12],[3,13]]\n",
    "#np_ary = np.array(list1)\n",
    "#print(np_ary[:,1])\n",
    "#2차원 리스트를 우선 numpy의 배열 형식으로 변환 후 print(np_ary[:,1])과 같이 실행\n",
    "\n",
    "import numpy as np\n",
    "#list1 = [[1,11],[2,12],[3,13]]\n",
    "#print(np.array(list1[:,1]))\n",
    "#라고 입력시 numpy로 변환하기 전 슬라이스를 했기때문\n",
    "list1 = np.array([[1,11],[2,12],[3,13]])\n",
    "print(list1[:,1])\n",
    "\n",
    "import numpy as np\n",
    "list1 = [[1,11],[2,12],[3,13]]\n",
    "print(np.array(list1[:][1]))\n",
    "# 결과값 [ 2 12]\n",
    "\n"
   ]
  }
 ],
 "metadata": {
  "kernelspec": {
   "display_name": "Python 3.9.10 64-bit",
   "language": "python",
   "name": "python3"
  },
  "language_info": {
   "codemirror_mode": {
    "name": "ipython",
    "version": 3
   },
   "file_extension": ".py",
   "mimetype": "text/x-python",
   "name": "python",
   "nbconvert_exporter": "python",
   "pygments_lexer": "ipython3",
   "version": "3.9.10"
  },
  "orig_nbformat": 4,
  "vscode": {
   "interpreter": {
    "hash": "d5e82c3fb7da1ea83acbd3af36819ee526c08f1ab732399acb2375113e5497e2"
   }
  }
 },
 "nbformat": 4,
 "nbformat_minor": 2
}
