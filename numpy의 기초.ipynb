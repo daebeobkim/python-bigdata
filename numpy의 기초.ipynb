{
 "cells": [
  {
   "cell_type": "code",
   "execution_count": 7,
   "metadata": {},
   "outputs": [
    {
     "name": "stdout",
     "output_type": "stream",
     "text": [
      "[[ 1  3]\n",
      " [ 5  7]\n",
      " [ 9 11]]\n"
     ]
    }
   ],
   "source": [
    "x = np.array([1,3,5,7,9,11]).reshape(3,2)\n",
    "print(x)\n",
    "#reshape()메소드를 추가하면 numpy의 2차원 배열을 원하는 모양으로 생성"
   ]
  }
 ],
 "metadata": {
  "kernelspec": {
   "display_name": "Python 3.9.10 64-bit",
   "language": "python",
   "name": "python3"
  },
  "language_info": {
   "codemirror_mode": {
    "name": "ipython",
    "version": 3
   },
   "file_extension": ".py",
   "mimetype": "text/x-python",
   "name": "python",
   "nbconvert_exporter": "python",
   "pygments_lexer": "ipython3",
   "version": "3.9.10"
  },
  "orig_nbformat": 4,
  "vscode": {
   "interpreter": {
    "hash": "d5e82c3fb7da1ea83acbd3af36819ee526c08f1ab732399acb2375113e5497e2"
   }
  }
 },
 "nbformat": 4,
 "nbformat_minor": 2
}
