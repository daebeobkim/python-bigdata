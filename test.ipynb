{
 "cells": [
  {
   "cell_type": "code",
   "execution_count": 47,
   "metadata": {},
   "outputs": [
    {
     "data": {
      "text/plain": [
       "[1, 2, 4]"
      ]
     },
     "execution_count": 47,
     "metadata": {},
     "output_type": "execute_result"
    }
   ],
   "source": [
    "a = [1,2,3,4,5,5,5]\n",
    "remove = {3,5}\n",
    "result = [i for i in a if i not in remove]\n",
    "result  "
   ]
  },
  {
   "cell_type": "code",
   "execution_count": 55,
   "metadata": {},
   "outputs": [
    {
     "ename": "TypeError",
     "evalue": "'list' object is not callable",
     "output_type": "error",
     "traceback": [
      "\u001b[1;31m---------------------------------------------------------------------------\u001b[0m",
      "\u001b[1;31mTypeError\u001b[0m                                 Traceback (most recent call last)",
      "\u001b[1;32mc:\\Users\\11\\Documents\\GitHub\\python-bigdata\\test.ipynb Cell 2\u001b[0m line \u001b[0;36m5\n\u001b[0;32m      <a href='vscode-notebook-cell:/c%3A/Users/11/Documents/GitHub/python-bigdata/test.ipynb#W1sZmlsZQ%3D%3D?line=1'>2</a>\u001b[0m list2\u001b[39m=\u001b[39m[\u001b[39m10\u001b[39m,\u001b[39m6\u001b[39m,\u001b[39m7\u001b[39m,\u001b[39m8\u001b[39m,\u001b[39m9\u001b[39m]\n\u001b[0;32m      <a href='vscode-notebook-cell:/c%3A/Users/11/Documents/GitHub/python-bigdata/test.ipynb#W1sZmlsZQ%3D%3D?line=2'>3</a>\u001b[0m result \u001b[39m=\u001b[39m \u001b[39mmap\u001b[39m(\u001b[39mlambda\u001b[39;00m a,b : a\u001b[39m+\u001b[39mb,list1,list2)\n\u001b[1;32m----> <a href='vscode-notebook-cell:/c%3A/Users/11/Documents/GitHub/python-bigdata/test.ipynb#W1sZmlsZQ%3D%3D?line=4'>5</a>\u001b[0m \u001b[39mprint\u001b[39m(\u001b[39mlist\u001b[39;49m(result))\n",
      "\u001b[1;31mTypeError\u001b[0m: 'list' object is not callable"
     ]
    }
   ],
   "source": [
    "list1 = [1,2,3,4,5]\n",
    "list2=[10,6,7,8,9]\n",
    "result = map(lambda a,b : a+b,list1,list2)\n",
    "\n",
    "print(list(result))"
   ]
  },
  {
   "cell_type": "code",
   "execution_count": null,
   "metadata": {},
   "outputs": [
    {
     "name": "stdout",
     "output_type": "stream",
     "text": [
      "<?xml version=\"1.0\" encoding=\"UTF-8\"?>\n",
      "<response>\n",
      " <header>\n",
      "  <resultCode>00</resultCode>\n",
      "  <resultMsg>NORMAL SERVICE</resultMsg>\n",
      " </header>\n",
      " <body>\n",
      "  <items>\n",
      "   <item>\n",
      "    <year>2019</year>\n",
      "    <dvs>남자</dvs>\n",
      "    <mrdhTtl>160322</mrdhTtl>\n",
      "    <mnCsdthCrpds>4103</mnCsdthCrpds>\n",
      "    <mrdhNplsm>51158</mrdhNplsm>\n",
      "    <mrdhDsbh>357</mrdhDsbh>\n",
      "    <mrdhEdmds>4817</mrdhEdmds>\n",
      "    <mrdhMtbh>2095</mrdhMtbh>\n",
      "    <mrdhDsnrs>5040</mrdhDsnrs>\n",
      "    <mrdhEyds>1</mrdhEyds>\n",
      "    <mrdhErds>3</mrdhErds>\n",
      "    <mrdhDscry>28672</mrdhDscry>\n",
      "    <mrdhDsrp>20513</mrdhDsrp>\n",
      "    <mrdhDsdst>7316</mrdhDsdst>\n",
      "    <mrdhDskts>203</mrdhDskts>\n",
      "    <mrdhDsms>497</mrdhDsms>\n",
      "    <mrdhDsgtr>3712</mrdhDsgtr>\n",
      "    <mrdhPrgps>0</mrdhPrgps>\n",
      "    <mrdhCropr>234</mrdhCropr>\n",
      "    <mrdhSytcls>163</mrdhSytcls>\n",
      "    <mrdhCmca>12542</mrdhCmca>\n",
      "    <mrdhOtsd>18896</mrdhOtsd>\n",
      "   </item>\n",
      "  </items>\n",
      "  <numOfRows>10</numOfRows>\n",
      "  <pageNo>1</pageNo>\n",
      "  <totalCount>1</totalCount>\n",
      " </body>\n",
      "</response>\n",
      "\n",
      "\n"
     ]
    }
   ],
   "source": [
    "import requests\n",
    "\n",
    "url = 'http://apis.data.go.kr/1352000/ODMS_STAT_05/callStat05Api'\n",
    "service_key = '여기에_서비스_키_입력'\n",
    "params = {'serviceKey': service_key, 'pageNo': '1', 'numOfRows': '10', 'apiType': 'XML', 'year': '2019', 'dvs': '남자'}\n",
    "\n",
    "response = requests.get(url, params=params)\n",
    "\n",
    "# 응답 내용을 텍스트로 출력\n",
    "print(response.text)\n"
   ]
  }
 ],
 "metadata": {
  "kernelspec": {
   "display_name": "Python 3",
   "language": "python",
   "name": "python3"
  },
  "language_info": {
   "codemirror_mode": {
    "name": "ipython",
    "version": 3
   },
   "file_extension": ".py",
   "mimetype": "text/x-python",
   "name": "python",
   "nbconvert_exporter": "python",
   "pygments_lexer": "ipython3",
   "version": "3.8.2rc1"
  }
 },
 "nbformat": 4,
 "nbformat_minor": 2
}
