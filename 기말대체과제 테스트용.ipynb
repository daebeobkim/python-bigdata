{
 "cells": [
  {
   "cell_type": "code",
   "execution_count": 9,
   "metadata": {},
   "outputs": [
    {
     "name": "stdout",
     "output_type": "stream",
     "text": [
      "Number of classes: 12\n",
      "Epoch 1/12\n",
      "625/625 - 26s - loss: 0.2061 - accuracy: 0.9375 - val_loss: 0.0701 - val_accuracy: 0.9795 - 26s/epoch - 42ms/step\n",
      "Epoch 2/12\n",
      "625/625 - 24s - loss: 0.0532 - accuracy: 0.9845 - val_loss: 0.0454 - val_accuracy: 0.9872 - 24s/epoch - 38ms/step\n",
      "Epoch 3/12\n",
      "625/625 - 25s - loss: 0.0375 - accuracy: 0.9887 - val_loss: 0.0447 - val_accuracy: 0.9874 - 25s/epoch - 40ms/step\n",
      "Epoch 4/12\n",
      "625/625 - 23s - loss: 0.0273 - accuracy: 0.9917 - val_loss: 0.0362 - val_accuracy: 0.9894 - 23s/epoch - 37ms/step\n",
      "Epoch 5/12\n",
      "625/625 - 25s - loss: 0.0214 - accuracy: 0.9935 - val_loss: 0.0341 - val_accuracy: 0.9909 - 25s/epoch - 41ms/step\n",
      "Epoch 6/12\n",
      "625/625 - 26s - loss: 0.0172 - accuracy: 0.9945 - val_loss: 0.0309 - val_accuracy: 0.9926 - 26s/epoch - 42ms/step\n",
      "Epoch 7/12\n",
      "625/625 - 24s - loss: 0.0140 - accuracy: 0.9952 - val_loss: 0.0336 - val_accuracy: 0.9917 - 24s/epoch - 38ms/step\n",
      "Epoch 8/12\n",
      "625/625 - 24s - loss: 0.0111 - accuracy: 0.9965 - val_loss: 0.0249 - val_accuracy: 0.9936 - 24s/epoch - 39ms/step\n",
      "Epoch 9/12\n",
      "625/625 - 26s - loss: 0.0091 - accuracy: 0.9969 - val_loss: 0.0276 - val_accuracy: 0.9934 - 26s/epoch - 41ms/step\n",
      "Epoch 10/12\n",
      "625/625 - 25s - loss: 0.0089 - accuracy: 0.9973 - val_loss: 0.0287 - val_accuracy: 0.9940 - 25s/epoch - 41ms/step\n",
      "Epoch 11/12\n",
      "625/625 - 25s - loss: 0.0085 - accuracy: 0.9973 - val_loss: 0.0275 - val_accuracy: 0.9941 - 25s/epoch - 40ms/step\n",
      "Epoch 12/12\n",
      "625/625 - 24s - loss: 0.0055 - accuracy: 0.9983 - val_loss: 0.0215 - val_accuracy: 0.9960 - 24s/epoch - 38ms/step\n",
      "정확률은 99.59999918937683\n"
     ]
    }
   ],
   "source": [
    "import pandas as pd\n",
    "import numpy as np\n",
    "import tensorflow as tf\n",
    "from tensorflow.keras.models import Sequential\n",
    "from tensorflow.keras.layers import Conv2D, MaxPooling2D, Flatten, Dense\n",
    "from tensorflow.keras.optimizers import Adam\n",
    "from sklearn.model_selection import train_test_split\n",
    "\n",
    "# Load your dataset\n",
    "df = pd.read_csv('C:/Users/11/Desktop/handwritten_data.csv', encoding='utf8',nrows=100000)\n",
    "\n",
    "# Extract features and labels\n",
    "features = df.iloc[:, 1:].values.reshape(-1, 28, 28, 1)  # Assuming pixel values are in columns 1 to the end\n",
    "labels = df.iloc[:, 0].values\n",
    "\n",
    "# Check the number of unique labels/classes\n",
    "num_classes = len(np.unique(labels))\n",
    "print(\"Number of classes:\", num_classes)\n",
    "\n",
    "# Normalize pixel values\n",
    "features = features.astype(np.float32) / 255.0\n",
    "\n",
    "# One-hot encode labels\n",
    "labels_one_hot = tf.keras.utils.to_categorical(labels, num_classes)\n",
    "\n",
    "# Split the data into training and testing sets\n",
    "x_train, x_test, y_train, y_test = train_test_split(features, labels_one_hot, test_size=0.2, random_state=42)\n",
    "\n",
    "# Build the model\n",
    "cnn = Sequential()\n",
    "cnn.add(Conv2D(6, (5, 5), padding='same', activation='relu', input_shape=(28, 28, 1)))\n",
    "cnn.add(MaxPooling2D(pool_size=(2, 2)))\n",
    "cnn.add(Conv2D(16, (5, 5), padding='same', activation='relu'))\n",
    "cnn.add(MaxPooling2D(pool_size=(2, 2)))\n",
    "cnn.add(Conv2D(120, (5, 5), padding='same', activation='relu'))\n",
    "cnn.add(Flatten())\n",
    "cnn.add(Dense(84, activation='relu'))\n",
    "cnn.add(Dense(num_classes, activation='softmax'))\n",
    "\n",
    "# Compile the model\n",
    "cnn.compile(loss='categorical_crossentropy', optimizer=Adam(learning_rate=0.001), metrics=['accuracy'])\n",
    "\n",
    "# Train the model\n",
    "hist = cnn.fit(x_train, y_train, batch_size=128, epochs=12, validation_data=(x_test, y_test), verbose=2)\n",
    "\n",
    "# Evaluate the model on the test set\n",
    "res = cnn.evaluate(x_test, y_test, verbose=0)\n",
    "print(\"정확률은\", res[1] * 100)\n"
   ]
  },
  {
   "cell_type": "code",
   "execution_count": 8,
   "metadata": {},
   "outputs": [
    {
     "name": "stdout",
     "output_type": "stream",
     "text": [
      "1/1 [==============================] - 0s 62ms/step\n"
     ]
    },
    {
     "data": {
      "image/png": "[encoded data removed]",
      "text/plain": [
       "<Figure size 640x480 with 1 Axes>"
      ]
     },
     "metadata": {},
     "output_type": "display_data"
    }
   ],
   "source": [
    "from random import randint\n",
    "import matplotlib.pyplot as plt\n",
    "\n",
    "# Choose a random sample from the test set\n",
    "index = randint(0, len(x_test) - 1)\n",
    "sample_image = x_test[index].reshape(28, 28)\n",
    "\n",
    "# Display the sample image\n",
    "plt.imshow(sample_image, cmap='gray')\n",
    "plt.title(f\"True Label: {np.argmax(y_test[index])}\\nPredicted Label: {np.argmax(cnn.predict(x_test[index].reshape(1, 28, 28, 1)))}\")\n",
    "plt.show()"
   ]
  }
 ],
 "metadata": {
  "kernelspec": {
   "display_name": "Python 3",
   "language": "python",
   "name": "python3"
  },
  "language_info": {
   "codemirror_mode": {
    "name": "ipython",
    "version": 3
   },
   "file_extension": ".py",
   "mimetype": "text/x-python",
   "name": "python",
   "nbconvert_exporter": "python",
   "pygments_lexer": "ipython3",
   "version": "3.8.2"
  }
 },
 "nbformat": 4,
 "nbformat_minor": 2
}
