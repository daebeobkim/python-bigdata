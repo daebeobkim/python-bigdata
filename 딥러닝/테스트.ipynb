{
 "cells": [
  {
   "cell_type": "code",
   "execution_count": 12,
   "metadata": {},
   "outputs": [
    {
     "name": "stdout",
     "output_type": "stream",
     "text": [
      "it/s a tie\n"
     ]
    }
   ],
   "source": [
    "import random\n",
    "\n",
    "def play():\n",
    "    user = input(\"아무거나\")\n",
    "    computer = random.choice(['r','p','s'])\n",
    "\n",
    "    if user == computer:\n",
    "        return 'it/s a tie'\n",
    "    \n",
    "    if is_win(user,computer):\n",
    "        return 'you win'\n",
    "    return 'you lose'\n",
    "\n",
    "def is_win(player,opponent):\n",
    "    if (player =='r' and opponent == 's') or (player =='s' and opponent == 'p')\\\n",
    "        or (player =='p' and opponent == 'r'):\n",
    "        return True\n",
    "    \n",
    "result = play()\n",
    "print(result)"
   ]
  }
 ],
 "metadata": {
  "kernelspec": {
   "display_name": "Python 3",
   "language": "python",
   "name": "python3"
  },
  "language_info": {
   "codemirror_mode": {
    "name": "ipython",
    "version": 3
   },
   "file_extension": ".py",
   "mimetype": "text/x-python",
   "name": "python",
   "nbconvert_exporter": "python",
   "pygments_lexer": "ipython3",
   "version": "3.8.2rc1"
  }
 },
 "nbformat": 4,
 "nbformat_minor": 2
}
