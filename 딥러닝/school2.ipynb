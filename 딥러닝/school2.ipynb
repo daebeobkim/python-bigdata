{
 "cells": [
  {
   "cell_type": "code",
   "execution_count": 72,
   "metadata": {},
   "outputs": [
    {
     "data": {
      "text/plain": [
       "Unnamed: 0       0\n",
       "종목명              0\n",
       "현재가              0\n",
       "전일비              0\n",
       "등락률              0\n",
       "액면가              0\n",
       "거래량              0\n",
       "거래대금             0\n",
       "전일거래량            0\n",
       "시가               0\n",
       "고가               0\n",
       "저가               0\n",
       "매수호가             0\n",
       "매도호가             0\n",
       "매수총잔량            0\n",
       "매도총잔량            0\n",
       "상장주식수            0\n",
       "시가총액             0\n",
       "매출액           1298\n",
       "자산총계          1294\n",
       "부채총계          1294\n",
       "영업이익          1294\n",
       "당기순이익         1294\n",
       "주당순이익         1181\n",
       "보통주배당금        1984\n",
       "매출액증가율        1445\n",
       "영업이익증가율       1418\n",
       "외국인비율            0\n",
       "PER           1182\n",
       "ROE           1419\n",
       "ROA           1419\n",
       "PBR           1162\n",
       "유보율           1294\n",
       "dtype: int64"
      ]
     },
     "execution_count": 72,
     "metadata": {},
     "output_type": "execute_result"
    }
   ],
   "source": [
    "import numpy as np\n",
    "import pandas as pd\n",
    "book = pd.read_csv(\"C:/Users/11/Desktop/NaverFinance.csv\")\n",
    "book.isnull().sum()"
   ]
  },
  {
   "cell_type": "code",
   "execution_count": 73,
   "metadata": {},
   "outputs": [
    {
     "name": "stdout",
     "output_type": "stream",
     "text": [
      "<generator object <genexpr> at 0x00000221FAED5B30>\n"
     ]
    }
   ],
   "source": [
    "#null 제거\n",
    "book = book.fillna(0)\n",
    "\n",
    "book = [(book[\"시가총액\"][i] for i in range(1,len(book)))]\n",
    "\n",
    "for i in book:\n",
    "    print(i)"
   ]
  }
 ],
 "metadata": {
  "kernelspec": {
   "display_name": "Python 3",
   "language": "python",
   "name": "python3"
  },
  "language_info": {
   "codemirror_mode": {
    "name": "ipython",
    "version": 3
   },
   "file_extension": ".py",
   "mimetype": "text/x-python",
   "name": "python",
   "nbconvert_exporter": "python",
   "pygments_lexer": "ipython3",
   "version": "3.8.2rc1"
  }
 },
 "nbformat": 4,
 "nbformat_minor": 2
}
