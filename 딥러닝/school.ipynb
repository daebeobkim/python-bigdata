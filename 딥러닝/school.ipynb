{
 "cells": [
  {
   "cell_type": "code",
   "execution_count": 218,
   "metadata": {},
   "outputs": [
    {
     "data": {
      "text/plain": [
       "['토지', '광장', '설국', '마음', '관계', '강의']"
      ]
     },
     "execution_count": 218,
     "metadata": {},
     "output_type": "execute_result"
    }
   ],
   "source": [
    "import numpy as np\n",
    "import pandas as pd\n",
    "book = pd.read_csv(\"C:/Users/11/Desktop/book.csv\")\n",
    "new_coulums = ['count','도서명','저자명','장르','출판사','NUN']\n",
    "book.columns = new_coulums\n",
    "\n",
    "data = [(book['도서명'][i], len(book['도서명'][i])) for i in range(100)]\n",
    "min_value = data[0][1]\n",
    "max_value = data[0][1]\n",
    "for i in range(1, len(data)):\n",
    "        if data[i][1] < min_value:\n",
    "            min_value = data[i][1]\n",
    "        elif data[i][1] > max_value:\n",
    "            max_value = data[i][1]\n",
    "\n",
    "min_books = [item[0] for item in data if item[1] == min_value]\n",
    "max_books = [item[0] for item in data if item[1] == max_value]\n",
    "min_books"
   ]
  },
  {
   "cell_type": "code",
   "execution_count": 211,
   "metadata": {},
   "outputs": [
    {
     "name": "stdout",
     "output_type": "stream",
     "text": [
      "최솟값을 가진 도서 이름: ['토지', '광장', '설국', '마음', '관계', '강의']\n",
      "최댓값을 가진 도서 이름: ['미래의 속도: 산업혁명보다 10배 더 빠르고, 300배 더 크고, 3000배 더 강하다 ']\n",
      "저자 '유시민'가 쓴 책들: 어떻게 살 것인가, 국가란무엇인가\n",
      "최대 책을 출판한 5개 출판사\n",
      "민음사\n",
      "창비\n",
      "김영사\n",
      "현암사\n",
      "돌베개\n",
      "출판사\n",
      "창비       2\n",
      "홍익출판사    1\n",
      "돌베개      1\n",
      "열화당      1\n",
      "동녘       1\n",
      "Name: count, dtype: int64\n",
      "출판사\n",
      "현암사     2\n",
      "서광사     1\n",
      "책세상     1\n",
      "돋을새김    1\n",
      "고요아침    1\n",
      "Name: count, dtype: int64\n"
     ]
    }
   ],
   "source": [
    "def longshort():\n",
    "    data = [(book['도서명'][i], len(book['도서명'][i])) for i in range(100)]\n",
    "\n",
    "    min_value = data[0][1]\n",
    "    max_value = data[0][1]\n",
    "\n",
    "    for i in range(1, len(data)):\n",
    "        if data[i][1] < min_value:\n",
    "            min_value = data[i][1]\n",
    "        elif data[i][1] > max_value:\n",
    "            max_value = data[i][1]\n",
    "\n",
    "    min_books = [item[0] for item in data if item[1] == min_value]\n",
    "    max_books = [item[0] for item in data if item[1] == max_value]\n",
    "\n",
    "\n",
    "    print(\"최솟값을 가진 도서 이름:\", min_books)\n",
    "    print(\"최댓값을 가진 도서 이름:\", max_books)\n",
    "\n",
    "def all():\n",
    "    len = len(book['저자명'].unique())\n",
    "    print(len)\n",
    "\n",
    "def everything():\n",
    "    # '저자명' 열에서 가장 많이 나오는 저자 찾기\n",
    "    most_common_authors = book['저자명'].value_counts()\n",
    "\n",
    "# 가장 많은 책을 쓴 저자들의 리스트 가져오기\n",
    "    top_authors = most_common_authors[most_common_authors == most_common_authors.max()].index.tolist()\n",
    "\n",
    "# 가장 많은 책을 쓴 저자들의 책 제목 출력\n",
    "    for author in top_authors:\n",
    "        books_by_author = book[book['저자명'] == author]['도서명'].tolist()\n",
    "        print(f\"저자 '{author}'가 쓴 책들: {', '.join(books_by_author)}\")\n",
    "\n",
    "def five():\n",
    "    count = book['출판사'].value_counts().sort_values(ascending=False)\n",
    "    print(\"최대 책을 출판한 5개 출판사\\n%s\\n%s\\n%s\\n%s\\n%s\" %(count.index[0],count.index[1],count.index[2],count.index[3],count.index[4]))\n",
    "\n",
    "def alltime():\n",
    "    역사 = book[book['장르'] == '역사']['출판사'].value_counts().sort_values(ascending=False)\n",
    "    철학 = book[book['장르'] == '철학사상']['출판사'].value_counts().sort_values(ascending=False)\n",
    "    print(역사.head(5))\n",
    "    print(철학.head(5))\n",
    "while True:\n",
    "    menu = input(\"숫자를 선택하시오 : 1, 2, 3, 4, 5\\n끝내려면 6\")\n",
    "    if menu =='1':\n",
    "        longshort()\n",
    "    elif menu =='2':\n",
    "        all()\n",
    "    elif menu =='3':\n",
    "        everything()\n",
    "    elif menu =='4':\n",
    "        five()\n",
    "    elif menu =='5':\n",
    "        alltime()\n",
    "    elif menu =='6':\n",
    "        break"
   ]
  }
 ],
 "metadata": {
  "kernelspec": {
   "display_name": "Python 3",
   "language": "python",
   "name": "python3"
  },
  "language_info": {
   "codemirror_mode": {
    "name": "ipython",
    "version": 3
   },
   "file_extension": ".py",
   "mimetype": "text/x-python",
   "name": "python",
   "nbconvert_exporter": "python",
   "pygments_lexer": "ipython3",
   "version": "3.8.2"
  }
 },
 "nbformat": 4,
 "nbformat_minor": 2
}
