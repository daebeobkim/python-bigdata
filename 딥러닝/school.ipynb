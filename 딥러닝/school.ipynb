{
 "cells": [
  {
   "cell_type": "code",
<<<<<<< HEAD
   "execution_count": 171,
=======
   "execution_count": 218,
>>>>>>> a2539c55c2e7e8d82e487e44acaca5ff5320db88
   "metadata": {},
   "outputs": [
    {
     "data": {
      "text/plain": [
<<<<<<< HEAD
       "저자명\n",
       "유시민             2\n",
       "일연              1\n",
       "스티븐 리츠 저        1\n",
       "하우저             1\n",
       "장하성             1\n",
       "               ..\n",
       "가와바타야스나리        1\n",
       "밀란군데라           1\n",
       "스베틀라나 알렉시예비치    1\n",
       "오르한파묵           1\n",
       "재레드 다이아몬드       1\n",
       "Name: count, Length: 99, dtype: int64"
      ]
     },
     "execution_count": 171,
=======
       "['토지', '광장', '설국', '마음', '관계', '강의']"
      ]
     },
     "execution_count": 218,
>>>>>>> a2539c55c2e7e8d82e487e44acaca5ff5320db88
     "metadata": {},
     "output_type": "execute_result"
    }
   ],
   "source": [
    "import numpy as np\n",
    "import pandas as pd\n",
<<<<<<< HEAD
    "book = pd.read_csv(\"C:/Users/rlaeo/OneDrive/바탕 화면/파이썬/book.csv\",encoding='cp949')\n",
    "new_coulums = ['count','도서명','저자명','장르','출판사','NUN']\n",
    "book.columns = new_coulums\n",
    "#book\n",
    "book['저자명'].value_counts()\n"
=======
    "book = pd.read_csv(\"C:/Users/11/Desktop/book.csv\")\n",
    "new_coulums = ['count','도서명','저자명','장르','출판사','NUN']\n",
    "book.columns = new_coulums\n",
    "\n",
    "data = [(book['도서명'][i], len(book['도서명'][i])) for i in range(100)]\n",
    "min_value = data[0][1]\n",
    "max_value = data[0][1]\n",
    "for i in range(1, len(data)):\n",
    "        if data[i][1] < min_value:\n",
    "            min_value = data[i][1]\n",
    "        elif data[i][1] > max_value:\n",
    "            max_value = data[i][1]\n",
    "\n",
    "min_books = [item[0] for item in data if item[1] == min_value]\n",
    "max_books = [item[0] for item in data if item[1] == max_value]\n",
    "min_books"
>>>>>>> a2539c55c2e7e8d82e487e44acaca5ff5320db88
   ]
  },
  {
   "cell_type": "code",
<<<<<<< HEAD
   "execution_count": 134,
   "metadata": {},
   "outputs": [
    {
     "ename": "KeyError",
     "evalue": "\"['킵손'] not in index\"",
     "output_type": "error",
     "traceback": [
      "\u001b[1;31m---------------------------------------------------------------------------\u001b[0m",
      "\u001b[1;31mKeyError\u001b[0m                                  Traceback (most recent call last)",
      "Cell \u001b[1;32mIn[134], line 1\u001b[0m\n\u001b[1;32m----> 1\u001b[0m book\u001b[39m.\u001b[39;49mloc[[\u001b[39m3\u001b[39;49m,\u001b[39m'\u001b[39;49m\u001b[39m킵손\u001b[39;49m\u001b[39m'\u001b[39;49m]]\n",
      "File \u001b[1;32m~\\AppData\\Roaming\\Python\\Python311\\site-packages\\pandas\\core\\indexing.py:1103\u001b[0m, in \u001b[0;36m_LocationIndexer.__getitem__\u001b[1;34m(self, key)\u001b[0m\n\u001b[0;32m   1100\u001b[0m axis \u001b[39m=\u001b[39m \u001b[39mself\u001b[39m\u001b[39m.\u001b[39maxis \u001b[39mor\u001b[39;00m \u001b[39m0\u001b[39m\n\u001b[0;32m   1102\u001b[0m maybe_callable \u001b[39m=\u001b[39m com\u001b[39m.\u001b[39mapply_if_callable(key, \u001b[39mself\u001b[39m\u001b[39m.\u001b[39mobj)\n\u001b[1;32m-> 1103\u001b[0m \u001b[39mreturn\u001b[39;00m \u001b[39mself\u001b[39;49m\u001b[39m.\u001b[39;49m_getitem_axis(maybe_callable, axis\u001b[39m=\u001b[39;49maxis)\n",
      "File \u001b[1;32m~\\AppData\\Roaming\\Python\\Python311\\site-packages\\pandas\\core\\indexing.py:1332\u001b[0m, in \u001b[0;36m_LocIndexer._getitem_axis\u001b[1;34m(self, key, axis)\u001b[0m\n\u001b[0;32m   1329\u001b[0m     \u001b[39mif\u001b[39;00m \u001b[39mhasattr\u001b[39m(key, \u001b[39m\"\u001b[39m\u001b[39mndim\u001b[39m\u001b[39m\"\u001b[39m) \u001b[39mand\u001b[39;00m key\u001b[39m.\u001b[39mndim \u001b[39m>\u001b[39m \u001b[39m1\u001b[39m:\n\u001b[0;32m   1330\u001b[0m         \u001b[39mraise\u001b[39;00m \u001b[39mValueError\u001b[39;00m(\u001b[39m\"\u001b[39m\u001b[39mCannot index with multidimensional key\u001b[39m\u001b[39m\"\u001b[39m)\n\u001b[1;32m-> 1332\u001b[0m     \u001b[39mreturn\u001b[39;00m \u001b[39mself\u001b[39;49m\u001b[39m.\u001b[39;49m_getitem_iterable(key, axis\u001b[39m=\u001b[39;49maxis)\n\u001b[0;32m   1334\u001b[0m \u001b[39m# nested tuple slicing\u001b[39;00m\n\u001b[0;32m   1335\u001b[0m \u001b[39mif\u001b[39;00m is_nested_tuple(key, labels):\n",
      "File \u001b[1;32m~\\AppData\\Roaming\\Python\\Python311\\site-packages\\pandas\\core\\indexing.py:1272\u001b[0m, in \u001b[0;36m_LocIndexer._getitem_iterable\u001b[1;34m(self, key, axis)\u001b[0m\n\u001b[0;32m   1269\u001b[0m \u001b[39mself\u001b[39m\u001b[39m.\u001b[39m_validate_key(key, axis)\n\u001b[0;32m   1271\u001b[0m \u001b[39m# A collection of keys\u001b[39;00m\n\u001b[1;32m-> 1272\u001b[0m keyarr, indexer \u001b[39m=\u001b[39m \u001b[39mself\u001b[39;49m\u001b[39m.\u001b[39;49m_get_listlike_indexer(key, axis)\n\u001b[0;32m   1273\u001b[0m \u001b[39mreturn\u001b[39;00m \u001b[39mself\u001b[39m\u001b[39m.\u001b[39mobj\u001b[39m.\u001b[39m_reindex_with_indexers(\n\u001b[0;32m   1274\u001b[0m     {axis: [keyarr, indexer]}, copy\u001b[39m=\u001b[39m\u001b[39mTrue\u001b[39;00m, allow_dups\u001b[39m=\u001b[39m\u001b[39mTrue\u001b[39;00m\n\u001b[0;32m   1275\u001b[0m )\n",
      "File \u001b[1;32m~\\AppData\\Roaming\\Python\\Python311\\site-packages\\pandas\\core\\indexing.py:1462\u001b[0m, in \u001b[0;36m_LocIndexer._get_listlike_indexer\u001b[1;34m(self, key, axis)\u001b[0m\n\u001b[0;32m   1459\u001b[0m ax \u001b[39m=\u001b[39m \u001b[39mself\u001b[39m\u001b[39m.\u001b[39mobj\u001b[39m.\u001b[39m_get_axis(axis)\n\u001b[0;32m   1460\u001b[0m axis_name \u001b[39m=\u001b[39m \u001b[39mself\u001b[39m\u001b[39m.\u001b[39mobj\u001b[39m.\u001b[39m_get_axis_name(axis)\n\u001b[1;32m-> 1462\u001b[0m keyarr, indexer \u001b[39m=\u001b[39m ax\u001b[39m.\u001b[39;49m_get_indexer_strict(key, axis_name)\n\u001b[0;32m   1464\u001b[0m \u001b[39mreturn\u001b[39;00m keyarr, indexer\n",
      "File \u001b[1;32m~\\AppData\\Roaming\\Python\\Python311\\site-packages\\pandas\\core\\indexes\\base.py:5876\u001b[0m, in \u001b[0;36mIndex._get_indexer_strict\u001b[1;34m(self, key, axis_name)\u001b[0m\n\u001b[0;32m   5873\u001b[0m \u001b[39melse\u001b[39;00m:\n\u001b[0;32m   5874\u001b[0m     keyarr, indexer, new_indexer \u001b[39m=\u001b[39m \u001b[39mself\u001b[39m\u001b[39m.\u001b[39m_reindex_non_unique(keyarr)\n\u001b[1;32m-> 5876\u001b[0m \u001b[39mself\u001b[39;49m\u001b[39m.\u001b[39;49m_raise_if_missing(keyarr, indexer, axis_name)\n\u001b[0;32m   5878\u001b[0m keyarr \u001b[39m=\u001b[39m \u001b[39mself\u001b[39m\u001b[39m.\u001b[39mtake(indexer)\n\u001b[0;32m   5879\u001b[0m \u001b[39mif\u001b[39;00m \u001b[39misinstance\u001b[39m(key, Index):\n\u001b[0;32m   5880\u001b[0m     \u001b[39m# GH 42790 - Preserve name from an Index\u001b[39;00m\n",
      "File \u001b[1;32m~\\AppData\\Roaming\\Python\\Python311\\site-packages\\pandas\\core\\indexes\\base.py:5938\u001b[0m, in \u001b[0;36mIndex._raise_if_missing\u001b[1;34m(self, key, indexer, axis_name)\u001b[0m\n\u001b[0;32m   5935\u001b[0m     \u001b[39mraise\u001b[39;00m \u001b[39mKeyError\u001b[39;00m(\u001b[39mf\u001b[39m\u001b[39m\"\u001b[39m\u001b[39mNone of [\u001b[39m\u001b[39m{\u001b[39;00mkey\u001b[39m}\u001b[39;00m\u001b[39m] are in the [\u001b[39m\u001b[39m{\u001b[39;00maxis_name\u001b[39m}\u001b[39;00m\u001b[39m]\u001b[39m\u001b[39m\"\u001b[39m)\n\u001b[0;32m   5937\u001b[0m not_found \u001b[39m=\u001b[39m \u001b[39mlist\u001b[39m(ensure_index(key)[missing_mask\u001b[39m.\u001b[39mnonzero()[\u001b[39m0\u001b[39m]]\u001b[39m.\u001b[39munique())\n\u001b[1;32m-> 5938\u001b[0m \u001b[39mraise\u001b[39;00m \u001b[39mKeyError\u001b[39;00m(\u001b[39mf\u001b[39m\u001b[39m\"\u001b[39m\u001b[39m{\u001b[39;00mnot_found\u001b[39m}\u001b[39;00m\u001b[39m not in index\u001b[39m\u001b[39m\"\u001b[39m)\n",
      "\u001b[1;31mKeyError\u001b[0m: \"['킵손'] not in index\""
=======
   "execution_count": 211,
   "metadata": {},
   "outputs": [
    {
     "name": "stdout",
     "output_type": "stream",
     "text": [
      "최솟값을 가진 도서 이름: ['토지', '광장', '설국', '마음', '관계', '강의']\n",
      "최댓값을 가진 도서 이름: ['미래의 속도: 산업혁명보다 10배 더 빠르고, 300배 더 크고, 3000배 더 강하다 ']\n",
      "저자 '유시민'가 쓴 책들: 어떻게 살 것인가, 국가란무엇인가\n",
      "최대 책을 출판한 5개 출판사\n",
      "민음사\n",
      "창비\n",
      "김영사\n",
      "현암사\n",
      "돌베개\n",
      "출판사\n",
      "창비       2\n",
      "홍익출판사    1\n",
      "돌베개      1\n",
      "열화당      1\n",
      "동녘       1\n",
      "Name: count, dtype: int64\n",
      "출판사\n",
      "현암사     2\n",
      "서광사     1\n",
      "책세상     1\n",
      "돋을새김    1\n",
      "고요아침    1\n",
      "Name: count, dtype: int64\n"
>>>>>>> a2539c55c2e7e8d82e487e44acaca5ff5320db88
     ]
    }
   ],
   "source": [
<<<<<<< HEAD
=======
    "def longshort():\n",
    "    data = [(book['도서명'][i], len(book['도서명'][i])) for i in range(100)]\n",
    "\n",
    "    min_value = data[0][1]\n",
    "    max_value = data[0][1]\n",
    "\n",
    "    for i in range(1, len(data)):\n",
    "        if data[i][1] < min_value:\n",
    "            min_value = data[i][1]\n",
    "        elif data[i][1] > max_value:\n",
    "            max_value = data[i][1]\n",
    "\n",
    "    min_books = [item[0] for item in data if item[1] == min_value]\n",
    "    max_books = [item[0] for item in data if item[1] == max_value]\n",
    "\n",
    "\n",
    "    print(\"최솟값을 가진 도서 이름:\", min_books)\n",
    "    print(\"최댓값을 가진 도서 이름:\", max_books)\n",
    "\n",
    "def all():\n",
    "    len = len(book['저자명'].unique())\n",
    "    print(len)\n",
    "\n",
    "def everything():\n",
    "    # '저자명' 열에서 가장 많이 나오는 저자 찾기\n",
    "    most_common_authors = book['저자명'].value_counts()\n",
    "\n",
    "# 가장 많은 책을 쓴 저자들의 리스트 가져오기\n",
    "    top_authors = most_common_authors[most_common_authors == most_common_authors.max()].index.tolist()\n",
    "\n",
    "# 가장 많은 책을 쓴 저자들의 책 제목 출력\n",
    "    for author in top_authors:\n",
    "        books_by_author = book[book['저자명'] == author]['도서명'].tolist()\n",
    "        print(f\"저자 '{author}'가 쓴 책들: {', '.join(books_by_author)}\")\n",
>>>>>>> a2539c55c2e7e8d82e487e44acaca5ff5320db88
    "\n",
    "def five():\n",
    "    count = book['출판사'].value_counts().sort_values(ascending=False)\n",
    "    print(\"최대 책을 출판한 5개 출판사\\n%s\\n%s\\n%s\\n%s\\n%s\" %(count.index[0],count.index[1],count.index[2],count.index[3],count.index[4]))\n",
    "\n",
<<<<<<< HEAD
    "\n",
=======
    "def alltime():\n",
    "    역사 = book[book['장르'] == '역사']['출판사'].value_counts().sort_values(ascending=False)\n",
    "    철학 = book[book['장르'] == '철학사상']['출판사'].value_counts().sort_values(ascending=False)\n",
    "    print(역사.head(5))\n",
    "    print(철학.head(5))\n",
>>>>>>> a2539c55c2e7e8d82e487e44acaca5ff5320db88
    "while True:\n",
    "    menu = input(\"숫자를 선택하시오 : 1, 2, 3, 4, 5\\n끝내려면 6\")\n",
    "    if menu =='1':\n",
    "        longshort()\n",
    "    elif menu =='2':\n",
    "        all()\n",
    "    elif menu =='3':\n",
    "        everything()\n",
    "    elif menu =='4':\n",
    "        five()\n",
    "    elif menu =='5':\n",
    "        alltime()\n",
    "    elif menu =='6':\n",
    "        break"
   ]
  }
 ],
 "metadata": {
  "kernelspec": {
   "display_name": "Python 3",
   "language": "python",
   "name": "python3"
  },
  "language_info": {
   "codemirror_mode": {
    "name": "ipython",
    "version": 3
   },
   "file_extension": ".py",
   "mimetype": "text/x-python",
   "name": "python",
   "nbconvert_exporter": "python",
   "pygments_lexer": "ipython3",
<<<<<<< HEAD
   "version": "3.11.3"
  },
  "orig_nbformat": 4
=======
   "version": "3.8.2"
  }
>>>>>>> a2539c55c2e7e8d82e487e44acaca5ff5320db88
 },
 "nbformat": 4,
 "nbformat_minor": 2
}
