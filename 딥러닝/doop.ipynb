{
 "cells": [
  {
   "cell_type": "code",
   "execution_count": 2,
   "metadata": {},
   "outputs": [
    {
     "name": "stdout",
     "output_type": "stream",
     "text": [
      "[1, 2, 3, 4]\n",
      "[1, 4, 9, 16]\n"
     ]
    }
   ],
   "source": [
    "mynum = ['1', '2', '3', '4']\n",
    "mynum_int = list(map(int, mynum))\n",
    "print(mynum_int)\n",
    "\n",
    "mynum_square = list(map(lambda x: x*x, mynum_int))\n",
    "print(mynum_square)"
   ]
  },
  {
   "cell_type": "code",
   "execution_count": 4,
   "metadata": {},
   "outputs": [
    {
     "name": "stdout",
     "output_type": "stream",
     "text": [
      "[1, 2, 3, 4]\n"
     ]
    }
   ],
   "source": [
    "mynum = range(-5, 5)\n",
    "mynum_plus = list(filter(lambda x: x > 0, mynum))\n",
    "# mynum의 각 원소 x에 대해 lambda x: x > 0인지 체크하는 필터를 적용\n",
    "print(mynum_plus)"
   ]
  },
  {
   "cell_type": "code",
   "execution_count": 6,
   "metadata": {},
   "outputs": [
    {
     "name": "stdout",
     "output_type": "stream",
     "text": [
      "15\n"
     ]
    }
   ],
   "source": [
    "# 리듀싱 함수 예시\n",
    "from functools import reduce\n",
    "mynum = [1, 2, 3, 4, 5]\n",
    "add = reduce((lambda x, y: x + y), mynum)\n",
    "# reduce는 내부에 관리하는 x 변수에 mynum의 각 원소 y를 차례차례 더하여 x에 반영\n",
    "\n",
    "print(add)"
   ]
  },
  {
   "cell_type": "code",
   "execution_count": 10,
   "metadata": {},
   "outputs": [
    {
     "name": "stdout",
     "output_type": "stream",
     "text": [
      "defaultdict(<class 'int'>, {'DataOps': 6, 'and': 13, 'MLOps': 4, 'As': 1, 'it': 1, 'happened': 1, 'with': 3, 'DevOps': 2, 'Development': 1, 'Operations': 2, 'QAops': 1, 'Quality': 1, 'Assurance': 1, '2022': 2, 'will': 6, 'increase': 1, 'the': 4, 'adoption': 1, 'of': 5, 'for': 5, 'Data': 4, 'Engineering': 1, 'Machine': 1, 'Learning': 1, 'teams': 2, 'The': 3, 'approach': 2, 'implements': 1, 'same': 1, 'benefits': 1, 'QAOps': 1, 'professionals': 1, 'It': 1, 'helps': 1, 'build': 1, 'maintain': 1, 'streamlined': 1, 'agile': 1, 'data': 6, 'analytics': 3, 'pipelines': 2, 'iteratively': 1, 'incrementally': 1, 'in': 5, 'businesses': 2, 'is': 2, 'ingested': 1, 'prepared': 1, 'orchestrated': 1, 'different': 1, 'ways': 1, 'This': 2, 'creates': 1, 'an': 1, 'increasing': 1, 'demand': 1, 'automation': 1, 'pipeline': 1, 'integration': 1, 'tools': 2, 'that': 1, 'help': 2, 'visualize': 1, 'their': 3, 'workflows': 1, 'unified': 1, 'year': 1, 'start': 2, 'implementing': 3, 'processes': 2, 'which': 1, 'combined': 1, 'already': 1, 'adopted': 1, 'Agile': 1, 'methodologies': 1, 'companies': 3, 'reach': 1, 'nextlevel': 1, 'decision': 1, 'making': 1, 'enable': 1, 'organizations': 1, 'to': 2, 'implement': 1, 'automated': 1, 'private': 1, 'multicloud': 1, 'or': 1, 'hybrid': 1, 'environments': 1, 'main': 1, 'objective': 1, 'accelerate': 1, 'development': 1, 'maintenance': 1, 'cycle': 1, 'models': 1, 'Traditionally': 1, 'reserved': 1, 'big': 1, 'midsized': 1, 'Even': 1, 'startups': 1, 'typical': 1, 'urgency': 1, 'reliable': 1, 'begin': 1, 'some': 1, 'aspects': 1, 'these': 1, 'new': 1, 'datadriven': 1, 'engineering': 1, 'approaches': 1})\n"
     ]
    },
    {
     "ename": "",
     "evalue": "",
     "output_type": "error",
     "traceback": [
      "\u001b[1;31mThe Kernel crashed while executing code in the the current cell or a previous cell. Please review the code in the cell(s) to identify a possible cause of the failure. Click <a href='https://aka.ms/vscodeJupyterKernelCrash'>here</a> for more info. View Jupyter <a href='command:jupyter.viewOutput'>log</a> for further details."
     ]
    }
   ],
   "source": [
    "import collections\n",
    "from collections import defaultdict\n",
    "import string\n",
    "\n",
    "# 텍스트 출처 : https://www.devlane.com/blog/data-engineering-trends-in-2022\n",
    "text = \"\"\"\n",
    "[DataOps and MLOps]\n",
    "As it happened with DevOps (Development + Operations), QAops (Quality Assurance + Operations), 2022 will increase the adoption of DataOps and MLOps, for Data Engineering and Machine Learning teams.\n",
    "The DataOps approach implements the same benefits of DevOps and QAOps for Data professionals. It helps build and maintain streamlined, agile data analytics pipelines iteratively and incrementally. \n",
    "Data in businesses is ingested, prepared, and orchestrated in different ways. This creates an increasing demand for automation and pipeline integration tools that help data teams visualize their workflows in unified tools. \n",
    "This year, businesses will start implementing DataOps processes, which, combined with the already adopted Agile methodologies, will help companies reach next-level data analytics and decision making.\n",
    "The DataOps approach will enable organizations to implement automated data pipelines in their private, multi-cloud, or hybrid environments.\n",
    "The main objective of DataOps and MLOps is to accelerate the development and maintenance cycle of analytics and data models.\n",
    "Traditionally reserved for big companies, mid-sized companies will start implementing Data and MLOps processes in 2022. Even start-ups with their typical urgency for reliable data will begin implementing some aspects of these new data-driven engineering approaches.\n",
    "\"\"\"\n",
    "\n",
    "# 특수문자 제거\n",
    "for character in string.punctuation:\n",
    "    text = text.replace(character, '')\n",
    "\n",
    "# 결과 초기값 설정 및 단어 공백으로 분리\n",
    "result = defaultdict(int)\n",
    "word = text.split()\n",
    "\n",
    "# 단어개수 카운팅\n",
    "for i in word:\n",
    "    result[i] += 1\n",
    "\n",
    "# 카운팅한 단어 개수 출력\n",
    "print(result)"
   ]
  }
 ],
 "metadata": {
  "kernelspec": {
   "display_name": "Python 3",
   "language": "python",
   "name": "python3"
  },
  "language_info": {
   "codemirror_mode": {
    "name": "ipython",
    "version": 3
   },
   "file_extension": ".py",
   "mimetype": "text/x-python",
   "name": "python",
   "nbconvert_exporter": "python",
   "pygments_lexer": "ipython3",
   "version": "3.8.2rc1"
  }
 },
 "nbformat": 4,
 "nbformat_minor": 2
}
