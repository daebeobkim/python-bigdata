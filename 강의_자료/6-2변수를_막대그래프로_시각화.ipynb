{
 "cells": [
  {
   "cell_type": "code",
   "execution_count": 2,
   "metadata": {},
   "outputs": [],
   "source": [
    "import pandas as pd\n",
    "import numpy as np\n",
    "import matplotlib.pyplot as plt\n",
    "import seaborn as sns"
   ]
  },
  {
   "cell_type": "code",
   "execution_count": 4,
   "metadata": {},
   "outputs": [
    {
     "data": {
      "text/plain": [
       "(398, 9)"
      ]
     },
     "execution_count": 4,
     "metadata": {},
     "output_type": "execute_result"
    }
   ],
   "source": [
    "df = sns.load_dataset(\"mpg\")\n",
    "df.shape"
   ]
  },
  {
   "cell_type": "code",
   "execution_count": 11,
   "metadata": {},
   "outputs": [
    {
     "name": "stderr",
     "output_type": "stream",
     "text": [
      "C:\\Users\\rlaeo\\AppData\\Local\\Temp\\ipykernel_17032\\3766206871.py:1: FutureWarning: \n",
      "\n",
      "The `ci` parameter is deprecated. Use `errorbar=('ci', 95)` for the same effect.\n",
      "\n",
      "  sns.barplot(data=df,x=\"origin\",y=\"mpg\",estimator=np.mean,ci=95)#barplot뒤에 ?를 붙히면 설명이 나옴 ci는 신뢰구간\n"
     ]
    },
    {
     "data": {
      "text/plain": [
       "<AxesSubplot:xlabel='origin', ylabel='mpg'>"
      ]
     },
     "execution_count": 11,
     "metadata": {},
     "output_type": "execute_result"
    },
    {
     "data": {
      "image/png": "[encoded data removed]",
      "text/plain": [
       "<Figure size 640x480 with 1 Axes>"
      ]
     },
     "metadata": {},
     "output_type": "display_data"
    }
   ],
   "source": [
    "sns.barplot(data=df,x=\"origin\",y=\"mpg\",estimator=np.mean,ci=95)#barplot뒤에 ?를 붙히면 설명이 나옴 ci는 신뢰구간"
   ]
  },
  {
   "cell_type": "code",
   "execution_count": 12,
   "metadata": {},
   "outputs": [
    {
     "name": "stdout",
     "output_type": "stream",
     "text": [
      "\u001b[1;31mSignature:\u001b[0m\n",
      "\u001b[0msns\u001b[0m\u001b[1;33m.\u001b[0m\u001b[0mbarplot\u001b[0m\u001b[1;33m(\u001b[0m\u001b[1;33m\n",
      "\u001b[0m    \u001b[0mdata\u001b[0m\u001b[1;33m=\u001b[0m\u001b[1;32mNone\u001b[0m\u001b[1;33m,\u001b[0m\u001b[1;33m\n",
      "\u001b[0m    \u001b[1;33m*\u001b[0m\u001b[1;33m,\u001b[0m\u001b[1;33m\n",
      "\u001b[0m    \u001b[0mx\u001b[0m\u001b[1;33m=\u001b[0m\u001b[1;32mNone\u001b[0m\u001b[1;33m,\u001b[0m\u001b[1;33m\n",
      "\u001b[0m    \u001b[0my\u001b[0m\u001b[1;33m=\u001b[0m\u001b[1;32mNone\u001b[0m\u001b[1;33m,\u001b[0m\u001b[1;33m\n",
      "\u001b[0m    \u001b[0mhue\u001b[0m\u001b[1;33m=\u001b[0m\u001b[1;32mNone\u001b[0m\u001b[1;33m,\u001b[0m\u001b[1;33m\n",
      "\u001b[0m    \u001b[0morder\u001b[0m\u001b[1;33m=\u001b[0m\u001b[1;32mNone\u001b[0m\u001b[1;33m,\u001b[0m\u001b[1;33m\n",
      "\u001b[0m    \u001b[0mhue_order\u001b[0m\u001b[1;33m=\u001b[0m\u001b[1;32mNone\u001b[0m\u001b[1;33m,\u001b[0m\u001b[1;33m\n",
      "\u001b[0m    \u001b[0mestimator\u001b[0m\u001b[1;33m=\u001b[0m\u001b[1;34m'mean'\u001b[0m\u001b[1;33m,\u001b[0m\u001b[1;33m\n",
      "\u001b[0m    \u001b[0merrorbar\u001b[0m\u001b[1;33m=\u001b[0m\u001b[1;33m(\u001b[0m\u001b[1;34m'ci'\u001b[0m\u001b[1;33m,\u001b[0m \u001b[1;36m95\u001b[0m\u001b[1;33m)\u001b[0m\u001b[1;33m,\u001b[0m\u001b[1;33m\n",
      "\u001b[0m    \u001b[0mn_boot\u001b[0m\u001b[1;33m=\u001b[0m\u001b[1;36m1000\u001b[0m\u001b[1;33m,\u001b[0m\u001b[1;33m\n",
      "\u001b[0m    \u001b[0munits\u001b[0m\u001b[1;33m=\u001b[0m\u001b[1;32mNone\u001b[0m\u001b[1;33m,\u001b[0m\u001b[1;33m\n",
      "\u001b[0m    \u001b[0mseed\u001b[0m\u001b[1;33m=\u001b[0m\u001b[1;32mNone\u001b[0m\u001b[1;33m,\u001b[0m\u001b[1;33m\n",
      "\u001b[0m    \u001b[0morient\u001b[0m\u001b[1;33m=\u001b[0m\u001b[1;32mNone\u001b[0m\u001b[1;33m,\u001b[0m\u001b[1;33m\n",
      "\u001b[0m    \u001b[0mcolor\u001b[0m\u001b[1;33m=\u001b[0m\u001b[1;32mNone\u001b[0m\u001b[1;33m,\u001b[0m\u001b[1;33m\n",
      "\u001b[0m    \u001b[0mpalette\u001b[0m\u001b[1;33m=\u001b[0m\u001b[1;32mNone\u001b[0m\u001b[1;33m,\u001b[0m\u001b[1;33m\n",
      "\u001b[0m    \u001b[0msaturation\u001b[0m\u001b[1;33m=\u001b[0m\u001b[1;36m0.75\u001b[0m\u001b[1;33m,\u001b[0m\u001b[1;33m\n",
      "\u001b[0m    \u001b[0mwidth\u001b[0m\u001b[1;33m=\u001b[0m\u001b[1;36m0.8\u001b[0m\u001b[1;33m,\u001b[0m\u001b[1;33m\n",
      "\u001b[0m    \u001b[0merrcolor\u001b[0m\u001b[1;33m=\u001b[0m\u001b[1;34m'.26'\u001b[0m\u001b[1;33m,\u001b[0m\u001b[1;33m\n",
      "\u001b[0m    \u001b[0merrwidth\u001b[0m\u001b[1;33m=\u001b[0m\u001b[1;32mNone\u001b[0m\u001b[1;33m,\u001b[0m\u001b[1;33m\n",
      "\u001b[0m    \u001b[0mcapsize\u001b[0m\u001b[1;33m=\u001b[0m\u001b[1;32mNone\u001b[0m\u001b[1;33m,\u001b[0m\u001b[1;33m\n",
      "\u001b[0m    \u001b[0mdodge\u001b[0m\u001b[1;33m=\u001b[0m\u001b[1;32mTrue\u001b[0m\u001b[1;33m,\u001b[0m\u001b[1;33m\n",
      "\u001b[0m    \u001b[0mci\u001b[0m\u001b[1;33m=\u001b[0m\u001b[1;34m'deprecated'\u001b[0m\u001b[1;33m,\u001b[0m\u001b[1;33m\n",
      "\u001b[0m    \u001b[0max\u001b[0m\u001b[1;33m=\u001b[0m\u001b[1;32mNone\u001b[0m\u001b[1;33m,\u001b[0m\u001b[1;33m\n",
      "\u001b[0m    \u001b[1;33m**\u001b[0m\u001b[0mkwargs\u001b[0m\u001b[1;33m,\u001b[0m\u001b[1;33m\n",
      "\u001b[0m\u001b[1;33m)\u001b[0m\u001b[1;33m\u001b[0m\u001b[1;33m\u001b[0m\u001b[0m\n",
      "\u001b[1;31mDocstring:\u001b[0m\n",
      "Show point estimates and errors as rectangular bars.\n",
      "\n",
      "A bar plot represents an estimate of central tendency for a numeric\n",
      "variable with the height of each rectangle and provides some indication of\n",
      "the uncertainty around that estimate using error bars. Bar plots include 0\n",
      "in the quantitative axis range, and they are a good choice when 0 is a\n",
      "meaningful value for the quantitative variable, and you want to make\n",
      "comparisons against it.\n",
      "\n",
      "For datasets where 0 is not a meaningful value, a point plot will allow you\n",
      "to focus on differences between levels of one or more categorical\n",
      "variables.\n",
      "\n",
      "It is also important to keep in mind that a bar plot shows only the mean\n",
      "(or other estimator) value, but in many cases it may be more informative to\n",
      "show the distribution of values at each level of the categorical variables.\n",
      "In that case, other approaches such as a box or violin plot may be more\n",
      "appropriate.\n",
      "\n",
      ".. note::\n",
      "    This function always treats one of the variables as categorical and\n",
      "    draws data at ordinal positions (0, 1, ... n) on the relevant axis,\n",
      "    even when the data has a numeric or date type.\n",
      "\n",
      "See the :ref:`tutorial <categorical_tutorial>` for more information.    \n",
      "\n",
      "Parameters\n",
      "----------\n",
      "data : DataFrame, array, or list of arrays, optional\n",
      "    Dataset for plotting. If ``x`` and ``y`` are absent, this is\n",
      "    interpreted as wide-form. Otherwise it is expected to be long-form.    \n",
      "x, y, hue : names of variables in ``data`` or vector data, optional\n",
      "    Inputs for plotting long-form data. See examples for interpretation.    \n",
      "order, hue_order : lists of strings, optional\n",
      "    Order to plot the categorical levels in; otherwise the levels are\n",
      "    inferred from the data objects.    \n",
      "estimator : string or callable that maps vector -> scalar, optional\n",
      "    Statistical function to estimate within each categorical bin.\n",
      "errorbar : string, (string, number) tuple, callable or None\n",
      "    Name of errorbar method (either \"ci\", \"pi\", \"se\", or \"sd\"), or a tuple\n",
      "    with a method name and a level parameter, or a function that maps from a\n",
      "    vector to a (min, max) interval, or None to hide errorbar.\n",
      "n_boot : int, optional\n",
      "    Number of bootstrap samples used to compute confidence intervals.\n",
      "units : name of variable in ``data`` or vector data, optional\n",
      "    Identifier of sampling units, which will be used to perform a\n",
      "    multilevel bootstrap and account for repeated measures design.\n",
      "seed : int, numpy.random.Generator, or numpy.random.RandomState, optional\n",
      "    Seed or random number generator for reproducible bootstrapping.    \n",
      "orient : \"v\" | \"h\", optional\n",
      "    Orientation of the plot (vertical or horizontal). This is usually\n",
      "    inferred based on the type of the input variables, but it can be used\n",
      "    to resolve ambiguity when both `x` and `y` are numeric or when\n",
      "    plotting wide-form data.    \n",
      "color : matplotlib color, optional\n",
      "    Single color for the elements in the plot.    \n",
      "palette : palette name, list, or dict\n",
      "    Colors to use for the different levels of the ``hue`` variable. Should\n",
      "    be something that can be interpreted by :func:`color_palette`, or a\n",
      "    dictionary mapping hue levels to matplotlib colors.    \n",
      "saturation : float, optional\n",
      "    Proportion of the original saturation to draw colors at. Large patches\n",
      "    often look better with slightly desaturated colors, but set this to\n",
      "    `1` if you want the plot colors to perfectly match the input color.    \n",
      "width : float, optional\n",
      "    Width of a full element when not using hue nesting, or width of all the\n",
      "    elements for one level of the major grouping variable.    \n",
      "errcolor : matplotlib color\n",
      "    Color used for the error bar lines.\n",
      "errwidth : float, optional\n",
      "    Thickness of error bar lines (and caps).    \n",
      "capsize : float, optional\n",
      "    Width of the \"caps\" on error bars./\n",
      "\n",
      "dodge : bool, optional\n",
      "    When hue nesting is used, whether elements should be shifted along the\n",
      "    categorical axis.    \n",
      "ax : matplotlib Axes, optional\n",
      "    Axes object to draw the plot onto, otherwise uses the current Axes.    \n",
      "kwargs : key, value mappings\n",
      "    Other keyword arguments are passed through to\n",
      "    :meth:`matplotlib.axes.Axes.bar`.\n",
      "\n",
      "Returns\n",
      "-------\n",
      "ax : matplotlib Axes\n",
      "    Returns the Axes object with the plot drawn onto it.    \n",
      "\n",
      "See Also\n",
      "--------\n",
      "countplot : Show the counts of observations in each categorical bin.    \n",
      "pointplot : Show point estimates and confidence intervals using scatterplot\n",
      "            glyphs.    \n",
      "catplot : Combine a categorical plot with a :class:`FacetGrid`.    \n",
      "\n",
      "Examples\n",
      "--------\n",
      "\n",
      ".. include:: ../docstrings/barplot.rst\n",
      "\u001b[1;31mFile:\u001b[0m      c:\\users\\rlaeo\\appdata\\local\\programs\\python\\python39\\lib\\site-packages\\seaborn\\categorical.py\n",
      "\u001b[1;31mType:\u001b[0m      function\n"
     ]
    }
   ],
   "source": [
    "sns.barplot?"
   ]
  },
  {
   "cell_type": "code",
   "execution_count": 17,
   "metadata": {},
   "outputs": [
    {
     "data": {
      "text/plain": [
       "origin\n",
       "europe    27.891429\n",
       "japan     30.450633\n",
       "usa       20.083534\n",
       "Name: mpg, dtype: float64"
      ]
     },
     "execution_count": 17,
     "metadata": {},
     "output_type": "execute_result"
    }
   ],
   "source": [
    "df.groupby(\"origin\")[\"mpg\"].mean() #origin별로 그룹화하고 mpg의 평균 구하기"
   ]
  },
  {
   "cell_type": "code",
   "execution_count": 19,
   "metadata": {},
   "outputs": [
    {
     "data": {
      "text/html": [
       "<div>\n",
       "<style scoped>\n",
       "    .dataframe tbody tr th:only-of-type {\n",
       "        vertical-align: middle;\n",
       "    }\n",
       "\n",
       "    .dataframe tbody tr th {\n",
       "        vertical-align: top;\n",
       "    }\n",
       "\n",
       "    .dataframe thead th {\n",
       "        text-align: right;\n",
       "    }\n",
       "</style>\n",
       "<table border=\"1\" class=\"dataframe\">\n",
       "  <thead>\n",
       "    <tr style=\"text-align: right;\">\n",
       "      <th></th>\n",
       "      <th>mpg</th>\n",
       "    </tr>\n",
       "    <tr>\n",
       "      <th>origin</th>\n",
       "      <th></th>\n",
       "    </tr>\n",
       "  </thead>\n",
       "  <tbody>\n",
       "    <tr>\n",
       "      <th>europe</th>\n",
       "      <td>27.891429</td>\n",
       "    </tr>\n",
       "    <tr>\n",
       "      <th>japan</th>\n",
       "      <td>30.450633</td>\n",
       "    </tr>\n",
       "    <tr>\n",
       "      <th>usa</th>\n",
       "      <td>20.083534</td>\n",
       "    </tr>\n",
       "  </tbody>\n",
       "</table>\n",
       "</div>"
      ],
      "text/plain": [
       "              mpg\n",
       "origin           \n",
       "europe  27.891429\n",
       "japan   30.450633\n",
       "usa     20.083534"
      ]
     },
     "execution_count": 19,
     "metadata": {},
     "output_type": "execute_result"
    }
   ],
   "source": [
    "pd.pivot_table(data=df,index=\"origin\",values=\"mpg\") #groupby가 직관적이지 않을 경우 사용 / ??시 소스출력"
   ]
  },
  {
   "cell_type": "code",
   "execution_count": 22,
   "metadata": {},
   "outputs": [
    {
     "name": "stderr",
     "output_type": "stream",
     "text": [
      "C:\\Users\\rlaeo\\AppData\\Local\\Temp\\ipykernel_17032\\1832106214.py:1: FutureWarning: \n",
      "\n",
      "The `ci` parameter is deprecated. Use `errorbar=None` for the same effect.\n",
      "\n",
      "  sns.barplot(data=df,x=\"origin\",y=\"mpg\",estimator=np.sum,ci=None)\n"
     ]
    },
    {
     "data": {
      "text/plain": [
       "<AxesSubplot:xlabel='origin', ylabel='mpg'>"
      ]
     },
     "execution_count": 22,
     "metadata": {},
     "output_type": "execute_result"
    },
    {
     "data": {
      "image/png": "[encoded data removed]",
      "text/plain": [
       "<Figure size 640x480 with 1 Axes>"
      ]
     },
     "metadata": {},
     "output_type": "display_data"
    }
   ],
   "source": [
    "sns.barplot(data=df,x=\"origin\",y=\"mpg\",estimator=np.sum,ci=None)"
   ]
  },
  {
   "cell_type": "code",
   "execution_count": 27,
   "metadata": {},
   "outputs": [
    {
     "name": "stderr",
     "output_type": "stream",
     "text": [
      "C:\\Users\\rlaeo\\AppData\\Local\\Temp\\ipykernel_17032\\1633918495.py:1: FutureWarning: \n",
      "\n",
      "The `ci` parameter is deprecated. Use `errorbar=None` for the same effect.\n",
      "\n",
      "  sns.barplot(data=df,x=\"cylinders\",y=\"mpg\",ci=None,hue=\"origin\")\n"
     ]
    },
    {
     "data": {
      "text/plain": [
       "<AxesSubplot:xlabel='cylinders', ylabel='mpg'>"
      ]
     },
     "execution_count": 27,
     "metadata": {},
     "output_type": "execute_result"
    },
    {
     "data": {
      "image/png": "[encoded data removed]",
      "text/plain": [
       "<Figure size 640x480 with 1 Axes>"
      ]
     },
     "metadata": {},
     "output_type": "display_data"
    }
   ],
   "source": [
    "sns.barplot(data=df,x=\"cylinders\",y=\"mpg\",ci=None,hue=\"origin\")"
   ]
  },
  {
   "cell_type": "code",
   "execution_count": 33,
   "metadata": {},
   "outputs": [
    {
     "data": {
      "text/html": [
       "<div>\n",
       "<style scoped>\n",
       "    .dataframe tbody tr th:only-of-type {\n",
       "        vertical-align: middle;\n",
       "    }\n",
       "\n",
       "    .dataframe tbody tr th {\n",
       "        vertical-align: top;\n",
       "    }\n",
       "\n",
       "    .dataframe thead th {\n",
       "        text-align: right;\n",
       "    }\n",
       "</style>\n",
       "<table border=\"1\" class=\"dataframe\">\n",
       "  <thead>\n",
       "    <tr style=\"text-align: right;\">\n",
       "      <th>origin</th>\n",
       "      <th>europe</th>\n",
       "      <th>japan</th>\n",
       "      <th>usa</th>\n",
       "    </tr>\n",
       "    <tr>\n",
       "      <th>cylinders</th>\n",
       "      <th></th>\n",
       "      <th></th>\n",
       "      <th></th>\n",
       "    </tr>\n",
       "  </thead>\n",
       "  <tbody>\n",
       "    <tr>\n",
       "      <th>3</th>\n",
       "      <td>NaN</td>\n",
       "      <td>20.550000</td>\n",
       "      <td>NaN</td>\n",
       "    </tr>\n",
       "    <tr>\n",
       "      <th>4</th>\n",
       "      <td>28.411111</td>\n",
       "      <td>31.595652</td>\n",
       "      <td>27.840278</td>\n",
       "    </tr>\n",
       "    <tr>\n",
       "      <th>5</th>\n",
       "      <td>27.366667</td>\n",
       "      <td>NaN</td>\n",
       "      <td>NaN</td>\n",
       "    </tr>\n",
       "    <tr>\n",
       "      <th>6</th>\n",
       "      <td>20.100000</td>\n",
       "      <td>23.883333</td>\n",
       "      <td>19.663514</td>\n",
       "    </tr>\n",
       "    <tr>\n",
       "      <th>8</th>\n",
       "      <td>NaN</td>\n",
       "      <td>NaN</td>\n",
       "      <td>14.963107</td>\n",
       "    </tr>\n",
       "  </tbody>\n",
       "</table>\n",
       "</div>"
      ],
      "text/plain": [
       "origin        europe      japan        usa\n",
       "cylinders                                 \n",
       "3                NaN  20.550000        NaN\n",
       "4          28.411111  31.595652  27.840278\n",
       "5          27.366667        NaN        NaN\n",
       "6          20.100000  23.883333  19.663514\n",
       "8                NaN        NaN  14.963107"
      ]
     },
     "execution_count": 33,
     "metadata": {},
     "output_type": "execute_result"
    }
   ],
   "source": [
    "df.groupby([\"cylinders\",\"origin\"])[\"mpg\"].mean().unstack() #[]로 리스트화 시켜야함 unstack시 마지막 인덱스값을 컬럼으로 바꿔줌"
   ]
  },
  {
   "cell_type": "code",
   "execution_count": 36,
   "metadata": {},
   "outputs": [
    {
     "data": {
      "text/html": [
       "<div>\n",
       "<style scoped>\n",
       "    .dataframe tbody tr th:only-of-type {\n",
       "        vertical-align: middle;\n",
       "    }\n",
       "\n",
       "    .dataframe tbody tr th {\n",
       "        vertical-align: top;\n",
       "    }\n",
       "\n",
       "    .dataframe thead th {\n",
       "        text-align: right;\n",
       "    }\n",
       "</style>\n",
       "<table border=\"1\" class=\"dataframe\">\n",
       "  <thead>\n",
       "    <tr style=\"text-align: right;\">\n",
       "      <th>origin</th>\n",
       "      <th>europe</th>\n",
       "      <th>japan</th>\n",
       "      <th>usa</th>\n",
       "    </tr>\n",
       "    <tr>\n",
       "      <th>cylinders</th>\n",
       "      <th></th>\n",
       "      <th></th>\n",
       "      <th></th>\n",
       "    </tr>\n",
       "  </thead>\n",
       "  <tbody>\n",
       "    <tr>\n",
       "      <th>3</th>\n",
       "      <td>NaN</td>\n",
       "      <td>20.550000</td>\n",
       "      <td>NaN</td>\n",
       "    </tr>\n",
       "    <tr>\n",
       "      <th>4</th>\n",
       "      <td>28.411111</td>\n",
       "      <td>31.595652</td>\n",
       "      <td>27.840278</td>\n",
       "    </tr>\n",
       "    <tr>\n",
       "      <th>5</th>\n",
       "      <td>27.366667</td>\n",
       "      <td>NaN</td>\n",
       "      <td>NaN</td>\n",
       "    </tr>\n",
       "    <tr>\n",
       "      <th>6</th>\n",
       "      <td>20.100000</td>\n",
       "      <td>23.883333</td>\n",
       "      <td>19.663514</td>\n",
       "    </tr>\n",
       "    <tr>\n",
       "      <th>8</th>\n",
       "      <td>NaN</td>\n",
       "      <td>NaN</td>\n",
       "      <td>14.963107</td>\n",
       "    </tr>\n",
       "  </tbody>\n",
       "</table>\n",
       "</div>"
      ],
      "text/plain": [
       "origin        europe      japan        usa\n",
       "cylinders                                 \n",
       "3                NaN  20.550000        NaN\n",
       "4          28.411111  31.595652  27.840278\n",
       "5          27.366667        NaN        NaN\n",
       "6          20.100000  23.883333  19.663514\n",
       "8                NaN        NaN  14.963107"
      ]
     },
     "execution_count": 36,
     "metadata": {},
     "output_type": "execute_result"
    }
   ],
   "source": [
    "pd.pivot_table(data=df,index=\"cylinders\",columns=\"origin\",values=\"mpg\")"
   ]
  }
 ],
 "metadata": {
  "kernelspec": {
   "display_name": "Python 3.9.10 64-bit",
   "language": "python",
   "name": "python3"
  },
  "language_info": {
   "codemirror_mode": {
    "name": "ipython",
    "version": 3
   },
   "file_extension": ".py",
   "mimetype": "text/x-python",
   "name": "python",
   "nbconvert_exporter": "python",
   "pygments_lexer": "ipython3",
   "version": "3.9.10"
  },
  "orig_nbformat": 4,
  "vscode": {
   "interpreter": {
    "hash": "d5e82c3fb7da1ea83acbd3af36819ee526c08f1ab732399acb2375113e5497e2"
   }
  }
 },
 "nbformat": 4,
 "nbformat_minor": 2
}
