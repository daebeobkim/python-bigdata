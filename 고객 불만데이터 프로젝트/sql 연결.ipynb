{
 "cells": [
  {
   "cell_type": "code",
   "execution_count": 2,
   "metadata": {},
   "outputs": [],
   "source": [
    "import csv\n",
    "import pandas as pd\n",
    "import pymysql\n",
    "import sqlite3\n",
    "data = pd.read_csv('C:/Users/11/Desktop/분할/complaint_after1.csv', low_memory=False)\n",
    "travel = csv.reader(data)\n",
    "next(travel)\n",
    "\n",
    "conn = pymysql.connect(host='127.0.0.1', port=3307,user='root',password='0000',db='project',charset='utf8')\n",
    "cur = conn.cursor()"
   ]
  },
  {
   "cell_type": "code",
   "execution_count": 3,
   "metadata": {},
   "outputs": [
    {
     "data": {
      "text/plain": [
       "1"
      ]
     },
     "execution_count": 3,
     "metadata": {},
     "output_type": "execute_result"
    }
   ],
   "source": [
    "import pymysql\n",
    "\n",
    "# MySQL 연결 설정\n",
    "conn = pymysql.connect(host='localhost', port=3306, user='root', password='0000', db='project', charset='utf8')\n",
    "cur = conn.cursor()\n",
    "\n",
    "# 테이블 생성 쿼리 실행\n",
    "create_table_query = \"\"\"SELECT count(Company) FROM project.complaints;\"\"\"\n",
    "cur.execute(create_table_query)\n"
   ]
  },
  {
   "cell_type": "code",
   "execution_count": 4,
   "metadata": {},
   "outputs": [
    {
     "name": "stdout",
     "output_type": "stream",
     "text": [
      "4442178\n"
     ]
    }
   ],
   "source": [
    "cur.execute(\"SELECT count(Company) FROM project.complaints\")\n",
    "result = cur.fetchall()  # 모든 행을 가져옴\n",
    "\n",
    "# 결과 출력\n",
    "for row in result:\n",
    "    print(row[0])"
   ]
  }
 ],
 "metadata": {
  "kernelspec": {
   "display_name": "Python 3",
   "language": "python",
   "name": "python3"
  },
  "language_info": {
   "codemirror_mode": {
    "name": "ipython",
    "version": 3
   },
   "file_extension": ".py",
   "mimetype": "text/x-python",
   "name": "python",
   "nbconvert_exporter": "python",
   "pygments_lexer": "ipython3",
   "version": "3.8.2rc1"
  }
 },
 "nbformat": 4,
 "nbformat_minor": 2
}
