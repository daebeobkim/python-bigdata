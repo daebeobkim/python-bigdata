{
 "cells": [
  {
   "cell_type": "code",
   "execution_count": 1,
   "metadata": {},
   "outputs": [
    {
     "name": "stdout",
     "output_type": "stream",
     "text": [
      "4452153\n",
      "16\n"
     ]
    }
   ],
   "source": [
    "import pandas as pd\n",
    "\n",
    "data = pd.read_csv('C:/Users/11/Desktop/분할/complaints.csv', low_memory=False)\n",
    "\n",
    "data.drop(columns=['Complaint ID','ZIP code'], inplace=True)\n",
    "#data.loc[data['ZIP code'].str.contains(r'[a-zA-Z]', na=False), 'ZIP code'] = ''\n",
    "data = data.dropna(subset=['State'])\n",
    "\n",
    "\n",
    "columns_to_replace = ['Tags','Consumer consent provided?','Company response to consumer','Consumer disputed?',\n",
    "            'Sub-product','Sub-issue']\n",
    "data[columns_to_replace] = data[columns_to_replace].fillna('None')\n",
    "\n",
    "\n",
    "\n",
    "#data.to_csv('C:/Users/11/Desktop/분할/complaint_after_del.csv', index=False)\n",
    "print(data.shape[0])\n",
    "print(data.shape[1])"
   ]
  },
  {
   "cell_type": "code",
   "execution_count": 2,
   "metadata": {},
   "outputs": [],
   "source": [
    "split_index1 = len(data) // 10\n",
    "split_index2 = split_index1 * 2\n",
    "split_index3 = split_index1 * 3\n",
    "split_index4 = split_index1 * 4\n",
    "split_index5 = split_index1 * 5\n",
    "split_index6 = split_index1 * 6\n",
    "split_index7 = split_index1 * 7\n",
    "split_index8 = split_index1 * 8\n",
    "split_index9 = split_index1 * 9\n",
    "\n",
    "data_part1 = data.iloc[:split_index1]\n",
    "data_part2 = data.iloc[split_index1:split_index2]\n",
    "data_part3 = data.iloc[split_index2:split_index3]\n",
    "data_part4 = data.iloc[split_index3:split_index4]\n",
    "data_part5 = data.iloc[split_index4:split_index5]\n",
    "data_part6 = data.iloc[split_index5:split_index6]\n",
    "data_part7 = data.iloc[split_index6:split_index7]\n",
    "data_part8 = data.iloc[split_index7:split_index8]\n",
    "data_part9 = data.iloc[split_index8:split_index9]\n",
    "data_part10 = data.iloc[split_index9:]\n",
    "\n",
    "data_part1.to_csv('C:/Users/11/Desktop/분할/complaint_after1.csv', index=False)\n",
    "data_part2.to_csv('C:/Users/11/Desktop/분할/complaint_after2.csv', index=False)\n",
    "data_part3.to_csv('C:/Users/11/Desktop/분할/complaint_after3.csv', index=False)\n",
    "data_part4.to_csv('C:/Users/11/Desktop/분할/complaint_after4.csv', index=False)\n",
    "data_part5.to_csv('C:/Users/11/Desktop/분할/complaint_after5.csv', index=False)\n",
    "data_part6.to_csv('C:/Users/11/Desktop/분할/complaint_after6.csv', index=False)\n",
    "data_part7.to_csv('C:/Users/11/Desktop/분할/complaint_after7.csv', index=False)\n",
    "data_part8.to_csv('C:/Users/11/Desktop/분할/complaint_after8.csv', index=False)\n",
    "data_part9.to_csv('C:/Users/11/Desktop/분할/complaint_after9.csv', index=False)\n",
    "data_part10.to_csv('C:/Users/11/Desktop/분할/complaint_after10.csv', index=False)\n"
   ]
  }
 ],
 "metadata": {
  "kernelspec": {
   "display_name": "Python 3",
   "language": "python",
   "name": "python3"
  },
  "language_info": {
   "codemirror_mode": {
    "name": "ipython",
    "version": 3
   },
   "file_extension": ".py",
   "mimetype": "text/x-python",
   "name": "python",
   "nbconvert_exporter": "python",
   "pygments_lexer": "ipython3",
   "version": "3.8.2rc1"
  }
 },
 "nbformat": 4,
 "nbformat_minor": 2
}
