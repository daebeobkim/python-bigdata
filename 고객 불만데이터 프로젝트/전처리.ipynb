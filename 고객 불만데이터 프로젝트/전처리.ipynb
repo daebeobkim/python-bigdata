{
 "cells": [
  {
   "cell_type": "code",
   "execution_count": 1,
   "metadata": {},
   "outputs": [],
   "source": [
    "import pandas as pd\n",
    "\n",
    "data = pd.read_csv('C:/Users/11/Desktop/분할/complaints.csv', low_memory=False)\n",
    "\n",
    "data.drop(columns=['Complaint ID','ZIP code'], inplace=True)\n",
    "#data.loc[data['ZIP code'].str.contains(r'[a-zA-Z]', na=False), 'ZIP code'] = ''\n",
    "data = data.dropna(subset=['State'])\n",
    "\n",
    "\n",
    "columns_to_replace = ['Tags','Consumer consent provided?','Company response to consumer','Consumer disputed?',\n",
    "            'Sub-product','Sub-issue']\n",
    "data[columns_to_replace] = data[columns_to_replace].fillna('None')\n",
    "\n",
    "rows_to_drop = range(200000, 210001)\n",
    "data.drop(rows_to_drop, inplace=True,errors='ignore')\n",
    "\n",
    "#data.to_csv('C:/Users/11/Desktop/분할/complaint_after_del.csv', index=False)\n"
   ]
  },
  {
   "cell_type": "code",
   "execution_count": 6,
   "metadata": {},
   "outputs": [
    {
     "name": "stdout",
     "output_type": "stream",
     "text": [
      "CSV 파일의 행 수: 1480727\n"
     ]
    }
   ],
   "source": [
    "import csv\n",
    "\n",
    "csv_file_path = \"C:/ProgramData/MySQL/MySQL Server 8.0/Uploads/complaint_after3.csv\"\n",
    "\n",
    "# CSV 파일을 읽어서 행의 수를 세는 함수\n",
    "def count_rows(csv_file_path):\n",
    "    with open(csv_file_path, \"r\", encoding=\"utf-8\") as file:\n",
    "        reader = csv.reader(file)\n",
    "        row_count = sum(1 for row in reader)\n",
    "    return row_count\n",
    "\n",
    "# CSV 파일의 행 수를 출력\n",
    "print(\"CSV 파일의 행 수:\", count_rows(csv_file_path))"
   ]
  },
  {
   "cell_type": "code",
   "execution_count": 2,
   "metadata": {},
   "outputs": [],
   "source": [
    "split_index1 = len(data) // 3\n",
    "split_index2 = split_index1 * 2\n",
    "\n",
    "data_part1 = data.iloc[:split_index1]\n",
    "data_part2 = data.iloc[split_index1:split_index2]\n",
    "data_part3 = data.iloc[split_index2:]\n",
    "\n",
    "data_part1.to_csv('C:/Users/11/Desktop/분할/complaint_after1.csv', index=False)\n",
    "data_part2.to_csv('C:/Users/11/Desktop/분할/complaint_after2.csv', index=False)\n",
    "data_part3.to_csv('C:/Users/11/Desktop/분할/complaint_after3.csv', index=False)\n"
   ]
  }
 ],
 "metadata": {
  "kernelspec": {
   "display_name": "Python 3",
   "language": "python",
   "name": "python3"
  },
  "language_info": {
   "codemirror_mode": {
    "name": "ipython",
    "version": 3
   },
   "file_extension": ".py",
   "mimetype": "text/x-python",
   "name": "python",
   "nbconvert_exporter": "python",
   "pygments_lexer": "ipython3",
   "version": "3.8.2"
  }
 },
 "nbformat": 4,
 "nbformat_minor": 2
}
