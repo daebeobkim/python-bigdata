{
 "cells": [
  {
   "cell_type": "code",
   "execution_count": 7,
   "metadata": {},
   "outputs": [
    {
     "ename": "AttributeError",
     "evalue": "'tuple' object has no attribute 'loc'",
     "output_type": "error",
     "traceback": [
      "\u001b[1;31m---------------------------------------------------------------------------\u001b[0m",
      "\u001b[1;31mAttributeError\u001b[0m                            Traceback (most recent call last)",
      "Cell \u001b[1;32mIn[7], line 10\u001b[0m\n\u001b[0;32m      7\u001b[0m cur\u001b[39m.\u001b[39mexecute(sql)\n\u001b[0;32m      9\u001b[0m data_list \u001b[39m=\u001b[39m cur\u001b[39m.\u001b[39mfetchall()\n\u001b[1;32m---> 10\u001b[0m data_list\u001b[39m.\u001b[39;49mloc[\u001b[39m1\u001b[39m]\n",
      "\u001b[1;31mAttributeError\u001b[0m: 'tuple' object has no attribute 'loc'"
     ]
    }
   ],
   "source": [
    "import pymysql\n",
    "\n",
    "#db = pymysql.connect(host=\"192.168.0.40\", user=\"root\", passwd=\"1234\", db=\"CAP2\", charset=\"utf8\")\n",
    "db = pymysql.connect(host=\"localhost\", user=\"root\", passwd=\"0000\", db=\"practice\", charset=\"utf8\")\n",
    "cur = db.cursor()\n",
    "sql = 'SELECT * from customer'\n",
    "cur.execute(sql)\n",
    "\n",
    "data_list = cur.fetchall()"
   ]
  }
 ],
 "metadata": {
  "kernelspec": {
   "display_name": "Python 3",
   "language": "python",
   "name": "python3"
  },
  "language_info": {
   "codemirror_mode": {
    "name": "ipython",
    "version": 3
   },
   "file_extension": ".py",
   "mimetype": "text/x-python",
   "name": "python",
   "nbconvert_exporter": "python",
   "pygments_lexer": "ipython3",
   "version": "3.11.3"
  },
  "orig_nbformat": 4
 },
 "nbformat": 4,
 "nbformat_minor": 2
}
