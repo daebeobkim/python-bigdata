{
 "cells": [
  {
   "cell_type": "code",
   "execution_count": 1,
   "metadata": {},
   "outputs": [
    {
     "name": "stderr",
     "output_type": "stream",
     "text": [
      "C:\\Users\\rlaeo\\AppData\\Local\\Temp\\ipykernel_6028\\598944875.py:20: UserWarning: frames=None which we can infer the length of, did not pass an explicit *save_count* and passed cache_frame_data=True.  To avoid a possibly unbounded cache, frame data caching has been disabled. To suppress this warning either pass `cache_frame_data=False` or `save_count=MAX_FRAMES`.\n",
      "  ani = FuncAnimation(plt.gcf(), animate, interval = 1000)\n"
     ]
    },
    {
     "data": {
      "text/plain": [
       "<Figure size 640x480 with 0 Axes>"
      ]
     },
     "metadata": {},
     "output_type": "display_data"
    }
   ],
   "source": [
    "import random\n",
    "from itertools import count\n",
    "import pandas as pd\n",
    "import matplotlib.pyplot as plt\n",
    "from matplotlib.animation import FuncAnimation\n",
    " \n",
    "plt.style.use('fivethirtyeight')\n",
    " \n",
    "x_val = []\n",
    "y_val = []\n",
    " \n",
    "index = count()\n",
    " \n",
    "def animate(i):\n",
    "    x_val.append(next(index))\n",
    "    y_val.append(random.randint(0,5))\n",
    "    plt.cla()\n",
    "    plt.plot(x_val, y_val)\n",
    " \n",
    "ani = FuncAnimation(plt.gcf(), animate, interval = 1000)\n",
    " \n",
    " \n",
    " \n",
    "plt.tight_layout()\n",
    "plt.show()\n"
   ]
  }
 ],
 "metadata": {
  "kernelspec": {
   "display_name": "Python 3",
   "language": "python",
   "name": "python3"
  },
  "language_info": {
   "codemirror_mode": {
    "name": "ipython",
    "version": 3
   },
   "file_extension": ".py",
   "mimetype": "text/x-python",
   "name": "python",
   "nbconvert_exporter": "python",
   "pygments_lexer": "ipython3",
   "version": "3.11.3"
  },
  "orig_nbformat": 4
 },
 "nbformat": 4,
 "nbformat_minor": 2
}
