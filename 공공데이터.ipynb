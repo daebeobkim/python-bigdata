{
 "cells": [
  {
   "cell_type": "code",
   "execution_count": 1,
   "metadata": {},
   "outputs": [
    {
     "name": "stdout",
     "output_type": "stream",
     "text": [
      "<?xml version=\"1.0\" encoding=\"UTF-8\"?>\n",
      "<response>\n",
      " <header>\n",
      "  <resultCode>00</resultCode>\n",
      "  <resultMsg>NORMAL SERVICE</resultMsg>\n",
      " </header>\n",
      " <body>\n",
      "  <items>\n",
      "   <item>\n",
      "    <year>2019</year>\n",
      "    <dvs>남자</dvs>\n",
      "    <mrdhTtl>160322</mrdhTtl>\n",
      "    <mnCsdthCrpds>4103</mnCsdthCrpds>\n",
      "    <mrdhNplsm>51158</mrdhNplsm>\n",
      "    <mrdhDsbh>357</mrdhDsbh>\n",
      "    <mrdhEdmds>4817</mrdhEdmds>\n",
      "    <mrdhMtbh>2095</mrdhMtbh>\n",
      "    <mrdhDsnrs>5040</mrdhDsnrs>\n",
      "    <mrdhEyds>1</mrdhEyds>\n",
      "    <mrdhErds>3</mrdhErds>\n",
      "    <mrdhDscry>28672</mrdhDscry>\n",
      "    <mrdhDsrp>20513</mrdhDsrp>\n",
      "    <mrdhDsdst>7316</mrdhDsdst>\n",
      "    <mrdhDskts>203</mrdhDskts>\n",
      "    <mrdhDsms>497</mrdhDsms>\n",
      "    <mrdhDsgtr>3712</mrdhDsgtr>\n",
      "    <mrdhPrgps>0</mrdhPrgps>\n",
      "    <mrdhCropr>234</mrdhCropr>\n",
      "    <mrdhSytcls>163</mrdhSytcls>\n",
      "    <mrdhCmca>12542</mrdhCmca>\n",
      "    <mrdhOtsd>18896</mrdhOtsd>\n",
      "   </item>\n",
      "  </items>\n",
      "  <numOfRows>10</numOfRows>\n",
      "  <pageNo>1</pageNo>\n",
      "  <totalCount>1</totalCount>\n",
      " </body>\n",
      "</response>\n",
      "\n",
      "\n"
     ]
    }
   ],
   "source": [
    "import requests\n",
    "\n",
    "# API 요청을 위한 URL\n",
    "url = 'http://apis.data.go.kr/1352000/ODMS_STAT_05/callStat05Api'\n",
    "\n",
    "# API 요청에 필요한 매개변수 설정\n",
    "params = {\n",
    "    'serviceKey': 'cZFs5MIHggkygLEya2eizO67TCpHrn/IZMGS0mGlmv3R7JbmDaDz7ev8P4rB9b3+mpcmpcNTsZh0QsOgw91jOg==',\n",
    "    'pageNo': '1',\n",
    "    'numOfRows': '10',\n",
    "    'apiType': 'XML',\n",
    "    'year': '2019',\n",
    "    'dvs': '남자'  # 여기서 '남자'는 원하는 성별로 변경 가능\n",
    "}\n",
    "\n",
    "# API에 GET 요청을 보내고 응답 받기\n",
    "response = requests.get(url, params=params)\n",
    "\n",
    "# 응답 내용 출력\n",
    "print(response.content.decode('utf-8'))  # 응답 내용을 한글로 출력하기 위해 디코딩\n"
   ]
  },
  {
   "cell_type": "code",
   "execution_count": 5,
   "metadata": {},
   "outputs": [
    {
     "name": "stdout",
     "output_type": "stream",
     "text": [
      "더 작은 숫자를 입력하세요.\n",
      "더 작은 숫자를 입력하세요.\n",
      "더 작은 숫자를 입력하세요.\n",
      "정답입니다.\n",
      "{answer}\n"
     ]
    }
   ],
   "source": [
    "import random\n",
    "\n",
    "answer = random.randint(1, 30)\n",
    "\n",
    "for i in range(5): \n",
    "    guess = int(input(\"1부터 30까지의 숫자를 맞춰보세요.\"))\n",
    "\n",
    "    if guess < answer:\n",
    "        print(\"더 큰 숫자를 입력하세요.\")\n",
    "    elif guess > answer:\n",
    "        print(\"더 작은 숫자를 입력하세요.\")\n",
    "    else:\n",
    "        print(\"정답입니다.\")\n",
    "        break \n",
    "else:\n",
    "    print(f\"아쉽습니다. 정답은 {answer}입니다.\")"
   ]
  }
 ],
 "metadata": {
  "kernelspec": {
   "display_name": "Python 3",
   "language": "python",
   "name": "python3"
  },
  "language_info": {
   "codemirror_mode": {
    "name": "ipython",
    "version": 3
   },
   "file_extension": ".py",
   "mimetype": "text/x-python",
   "name": "python",
   "nbconvert_exporter": "python",
   "pygments_lexer": "ipython3",
   "version": "3.8.2rc1"
  }
 },
 "nbformat": 4,
 "nbformat_minor": 2
}
