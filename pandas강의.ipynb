{
 "cells": [
  {
   "cell_type": "code",
   "execution_count": 12,
   "metadata": {},
   "outputs": [
    {
     "name": "stdout",
     "output_type": "stream",
     "text": [
      "<class 'pandas.core.frame.DataFrame'>\n",
      "RangeIndex: 398 entries, 0 to 397\n",
      "Data columns (total 9 columns):\n",
      " #   Column        Non-Null Count  Dtype  \n",
      "---  ------        --------------  -----  \n",
      " 0   mpg           398 non-null    float64\n",
      " 1   cylinders     398 non-null    int64  \n",
      " 2   displacement  398 non-null    float64\n",
      " 3   horsepower    398 non-null    object \n",
      " 4   weight        398 non-null    int64  \n",
      " 5   acceleration  398 non-null    float64\n",
      " 6   model_year    398 non-null    int64  \n",
      " 7   origin        398 non-null    int64  \n",
      " 8   name          398 non-null    object \n",
      "dtypes: float64(3), int64(4), object(2)\n",
      "memory usage: 28.1+ KB\n"
     ]
    },
    {
     "data": {
      "text/plain": [
       "'chevrolet chevelle malibu'"
      ]
     },
     "execution_count": 12,
     "metadata": {},
     "output_type": "execute_result"
    }
   ],
   "source": [
    "import pandas as pd\n",
    "import seaborn as sns\n",
    "import random\n",
    "df = pd.read_csv(\"https://raw.githubusercontent.com/mwaskom/seaborn-data/master/raw/mpg.csv\")\n",
    "df.shape #1개씩 찾아보기\n",
    "df.index\n",
    "df.values\n",
    "df.dtypes\n",
    "df.head(2) #head를 통해 일부만 가져오기\n",
    "df.tail() #tail\n",
    "df.sample(3) #sample을 통해 일부만 가져오기(실행할 때 마다 랜덤값 생성)\n",
    "df.sample(3,random_state=42)\n",
    "df.info() #요약정보 보기\n",
    "df.isnull() #결측치 수 확인\n",
    "df.isnull().sum()\n",
    "df.isnull().mean() #결측치 비율 확인\n",
    "df.describe() #기술통계 확인\n",
    "df.describe(include='object') #object값 요약\n",
    "df[\"mpg\"] #mpg값만 보기\n",
    "type(df[\"mpg\"]) #mpg를 가져왔을때 판다스의 타입은 serides형태\n",
    "df[[\"origin\",\"name\"]]# 데이터를 리스트 형태로 묶어주어야 함\n",
    "df[[\"name\"]] #대괄호 하나일 때 1차원, 2개일 때 2차원\n",
    "df.loc[[0,1]] #loc는 행을 가져온다\n",
    "df.loc[0,\"name\"] #'chevrolet chevelle malibu'\n"
   ]
  }
 ],
 "metadata": {
  "kernelspec": {
   "display_name": "Python 3.9.10 64-bit",
   "language": "python",
   "name": "python3"
  },
  "language_info": {
   "codemirror_mode": {
    "name": "ipython",
    "version": 3
   },
   "file_extension": ".py",
   "mimetype": "text/x-python",
   "name": "python",
   "nbconvert_exporter": "python",
   "pygments_lexer": "ipython3",
   "version": "3.9.10"
  },
  "orig_nbformat": 4,
  "vscode": {
   "interpreter": {
    "hash": "d5e82c3fb7da1ea83acbd3af36819ee526c08f1ab732399acb2375113e5497e2"
   }
  }
 },
 "nbformat": 4,
 "nbformat_minor": 2
}
