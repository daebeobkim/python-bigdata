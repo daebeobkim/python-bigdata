{
 "cells": [
  {
   "cell_type": "code",
   "execution_count": 1,
   "metadata": {},
   "outputs": [
    {
     "name": "stdout",
     "output_type": "stream",
     "text": [
      "200\n"
     ]
    }
   ],
   "source": [
    "import requests                # requests 패키지 가져오기\n",
    "\n",
    "url = 'https://www.naver.com'  # 가져올 url 문자열로 입력\n",
    "\n",
    "response = requests.get(url)   # requests의 get함수를 이용해 해당 url로 부터 html이 담긴 자료를 받아옴\n",
    "\n",
    "print(response.status_code)    # 정상적으로 받아졌다면 200이라는 상태코드를 반환\n",
    "\n",
    "html_text = response.text  "
   ]
  },
  {
   "cell_type": "code",
   "execution_count": 1,
   "metadata": {},
   "outputs": [
    {
     "name": "stdout",
     "output_type": "stream",
     "text": [
      "h1\n",
      "{'class': 'main-title'}\n"
     ]
    }
   ],
   "source": [
    "import requests\n",
    "import lxml.html\n",
    "\n",
    "r = requests.get(\"https://wikibook.co.kr/python-for-web-scraping/\")\n",
    "html = r.text\n",
    "\n",
    "root = lxml.html.fromstring(html)\n",
    "titleElement = root.xpath('//*[@id=\"content\"]/div[1]/div[2]/h1')\n",
    "\n",
    "\n",
    "titleElement[0].text\n",
    "\n",
    "\n",
    "print(titleElement[0].tag) \n",
    "print(titleElement[0].attrib)"
   ]
  },
  {
   "cell_type": "code",
   "execution_count": 1,
   "metadata": {},
   "outputs": [
    {
     "name": "stdout",
     "output_type": "stream",
     "text": [
      "<strong class=\"num\">5.70<em>%</em></strong>\n",
      "5.70\n"
     ]
    }
   ],
   "source": [
    "from urllib.request import urlopen\n",
    "from bs4 import BeautifulSoup\n",
    "\n",
    "response = urlopen(\"https://search.naver.com/search.naver?sm=tab_hty.top&where=nexearch&query=%EB%AF%B8%EA%B5%AD+%EA%B7%BC%EC%9B%90+%EC%86%8C%EB%B9%84%EC%9E%90%EB%AC%BC%EA%B0%80%EC%A7%80%EC%88%98%28CPI%29+%EC%A0%84%EB%85%84%EB%8C%80%EB%B9%84&oquery=%EB%AF%B8%EA%B5%AD+%EA%B7%BC%EC%9B%90+%EC%86%8C%EB%B9%84%EC%9E%90%EB%AC%BC%EA%B0%80%EC%A7%80%EC%88%98%28CPI%29+%EC%A0%84%EB%85%84%EB%8C%80%EB%B9%84&tqi=hrmwcdprvTossRxmw8CssssstlN-392985/\")  # 크롤링하고자하는 사이트\n",
    "soup = BeautifulSoup(response, \"html.parser\")  # html에 대하여 접근할 수 있도록\n",
    "\n",
    "value = soup.find(\"strong\", {\"class\": \"num\"})\n",
    "print(value)\n",
    "\n",
    "value2 = value.text.strip()\n",
    "print(value2[0:4])"
   ]
  },
  {
   "cell_type": "code",
   "execution_count": null,
   "metadata": {},
   "outputs": [],
   "source": []
  },
  {
   "cell_type": "code",
   "execution_count": null,
   "metadata": {},
   "outputs": [],
   "source": []
  }
 ],
 "metadata": {
  "kernelspec": {
   "display_name": "Python 3",
   "language": "python",
   "name": "python3"
  },
  "language_info": {
   "codemirror_mode": {
    "name": "ipython",
    "version": 3
   },
   "file_extension": ".py",
   "mimetype": "text/x-python",
   "name": "python",
   "nbconvert_exporter": "python",
   "pygments_lexer": "ipython3",
   "version": "3.9.10"
  },
  "orig_nbformat": 4,
  "vscode": {
   "interpreter": {
    "hash": "d5e82c3fb7da1ea83acbd3af36819ee526c08f1ab732399acb2375113e5497e2"
   }
  }
 },
 "nbformat": 4,
 "nbformat_minor": 2
}
