{
 "cells": [
  {
   "cell_type": "code",
   "execution_count": 10,
   "metadata": {},
   "outputs": [
    {
     "name": "stdout",
     "output_type": "stream",
     "text": [
      "메로나     1000\n",
      "구구콘     2000\n",
      "하겐다즈    3000\n",
      "dtype: int64\n"
     ]
    }
   ],
   "source": [
    "from pandas import Series\n",
    "import numpy as np\n",
    "data = [1000,2000,3000]\n",
    "index = [\"메로나\",\"구구콘\",\"하겐다즈\"]\n",
    "s = Series(data,index)\n",
    "print(s)"
   ]
  },
  {
   "cell_type": "code",
   "execution_count": 1,
   "metadata": {},
   "outputs": [
    {
     "name": "stdout",
     "output_type": "stream",
     "text": [
      "메로나     1000\n",
      "구구콘     2000\n",
      "하겐다즈    3000\n",
      "dtype: int64\n"
     ]
    }
   ],
   "source": [
    "from pandas import Series\n",
    "import numpy as np\n",
    "\n",
    "data = [1000,2000,3000]\n",
    "index = [\"메로나\",\"구구콘\",\"하겐다즈\"]\n",
    "s = Series(data=data, index = index)\n",
    "\n",
    "print(s)"
   ]
  },
  {
   "cell_type": "code",
   "execution_count": 3,
   "metadata": {},
   "outputs": [
    {
     "name": "stdout",
     "output_type": "stream",
     "text": [
      "kt       60\n",
      "naver    30\n",
      "skt      30\n",
      "dtype: int64\n"
     ]
    }
   ],
   "source": [
    "from pandas import Series\n",
    "import numpy as np\n",
    "\n",
    "철수 = Series([10,20,30], index=['naver','skt','kt'])\n",
    "영희 = Series([10,30,20], index=['skt','kt','naver'])\n",
    "가족 = 철수 + 영희\n",
    "print(가족)\n"
   ]
  },
  {
   "cell_type": "code",
   "execution_count": 5,
   "metadata": {},
   "outputs": [
    {
     "name": "stdout",
     "output_type": "stream",
     "text": [
      "     종목코드 종목명   현재가\n",
      "0  000000  과학  1000\n",
      "1  000001  수학  2000\n",
      "2  000002  영어  3000\n"
     ]
    }
   ],
   "source": [
    "from pandas import DataFrame\n",
    "\n",
    "data = {\n",
    "    '종목코드':['000000','000001','000002'],\n",
    "    '종목명':['과학','수학','영어'],\n",
    "    '현재가':[1000,2000,3000]\n",
    "}\n",
    "df = DataFrame(data)\n",
    "print(df)"
   ]
  },
  {
   "cell_type": "code",
   "execution_count": 10,
   "metadata": {},
   "outputs": [
    {
     "name": "stdout",
     "output_type": "stream",
     "text": [
      "     종목코드 종목명  현재가\n",
      "0  000000  과학  100\n",
      "1  000001  수학  200\n",
      "2  000002  영어  300\n"
     ]
    }
   ],
   "source": [
    "from pandas import DataFrame\n",
    "\n",
    "data = [\n",
    "    {'종목코드':'000000','종목명':'과학','현재가':100},\n",
    "    {'종목코드':'000001','종목명':'수학','현재가':200},\n",
    "    {'종목코드':'000002','종목명':'영어','현재가':300}\n",
    "]\n",
    "columns = ['종목코드','종목명','현재가']\n",
    "df = DataFrame(data=data)\n",
    "print(df)"
   ]
  },
  {
   "cell_type": "code",
   "execution_count": 4,
   "metadata": {},
   "outputs": [
    {
     "name": "stdout",
     "output_type": "stream",
     "text": [
      "Index(['395400'], dtype='object', name='종목코드')\n"
     ]
    }
   ],
   "source": [
    "import pandas as pd\n",
    "\n",
    "df13 = pd.read_excel('C:/Users/rlaeo/OneDrive/바탕 화면/새 폴더 (3)/20210913.xlsx',index_col=0)\n",
    "df14 = pd.read_excel('C:/Users/rlaeo/OneDrive/바탕 화면/새 폴더 (3)/20210914.xlsx',index_col=0)\n",
    "\n",
    "idx = df14.index.difference(df13.index)\n",
    "print(idx)\n",
    "print(df14.loc[idx[0],'종목명'])"
   ]
  },
  {
   "cell_type": "code",
   "execution_count": 6,
   "metadata": {},
   "outputs": [
    {
     "name": "stdout",
     "output_type": "stream",
     "text": [
      "2264159333328919\n"
     ]
    }
   ],
   "source": [
    "전일비교시가총액 = df13['시가총액'].sum()\n",
    "print(전일비교시가총액)"
   ]
  },
  {
   "cell_type": "code",
   "execution_count": 9,
   "metadata": {},
   "outputs": [
    {
     "name": "stdout",
     "output_type": "stream",
     "text": [
      "False\n"
     ]
    }
   ],
   "source": [
    "idx = df14.index.intersection(df13.index)\n",
    "t13 = df13.loc[idx]\n",
    "t14 = df14.loc[idx]\n",
    "cond = t13['상장주식수'] != t14['상장주식수']\n",
    "print(cond.all())"
   ]
  },
  {
   "cell_type": "code",
   "execution_count": 11,
   "metadata": {},
   "outputs": [
    {
     "name": "stdout",
     "output_type": "stream",
     "text": [
      "종목코드\n",
      "001570    499996\n",
      "011930      5661\n",
      "Name: 상장주식수, dtype: int64\n"
     ]
    }
   ],
   "source": [
    "print(t14.loc[cond,'상장주식수']-t13.loc[cond,'상장주식수'])"
   ]
  },
  {
   "cell_type": "code",
   "execution_count": 12,
   "metadata": {},
   "outputs": [
    {
     "name": "stdout",
     "output_type": "stream",
     "text": [
      "            종목명      종가           시가총액\n",
      "종목코드                                  \n",
      "095570   AJ네트웍스    5830   272973979850\n",
      "006840    AK홀딩스   27150   359671281150\n",
      "027410      BGF    6250   598229943750\n",
      "282330   BGF리테일  179000  3093819174000\n",
      "138930  BNK금융지주    7970  2597703910620\n",
      "...         ...     ...            ...\n",
      "069260      휴켐스   27200  1111897593600\n",
      "000540     흥국화재    4010   257613006450\n",
      "000547  흥국화재2우B   28850     4431360000\n",
      "000545    흥국화재우    9600     7372800000\n",
      "003280     흥아해운    1035   247494403980\n",
      "\n",
      "[936 rows x 3 columns]\n"
     ]
    }
   ],
   "source": [
    "import pandas as pd\n",
    "df13 = pd.read_excel('C:/Users/rlaeo/OneDrive/바탕 화면/새 폴더 (3)/20210913.xlsx',index_col=0)\n",
    "df14 = pd.read_excel('C:/Users/rlaeo/OneDrive/바탕 화면/새 폴더 (3)/20210914.xlsx',index_col=0)\n",
    "df = df13[['종목명','종가','시가총액']]\n",
    "df = [pd.read_excel('C:/Users/rlaeo/OneDrive/바탕 화면/새 폴더 (3)/20210913.xlsx',index_col=0,usecols=[0,1,2,10])]\n",
    "print(df.head())"
   ]
  }
 ],
 "metadata": {
  "kernelspec": {
   "display_name": "Python 3.9.10 64-bit",
   "language": "python",
   "name": "python3"
  },
  "language_info": {
   "codemirror_mode": {
    "name": "ipython",
    "version": 3
   },
   "file_extension": ".py",
   "mimetype": "text/x-python",
   "name": "python",
   "nbconvert_exporter": "python",
   "pygments_lexer": "ipython3",
   "version": "3.9.10"
  },
  "orig_nbformat": 4,
  "vscode": {
   "interpreter": {
    "hash": "d5e82c3fb7da1ea83acbd3af36819ee526c08f1ab732399acb2375113e5497e2"
   }
  }
 },
 "nbformat": 4,
 "nbformat_minor": 2
}
