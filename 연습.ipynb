{
 "cells": [
  {
   "cell_type": "code",
   "execution_count": 10,
   "metadata": {},
   "outputs": [
    {
     "name": "stdout",
     "output_type": "stream",
     "text": [
      "메로나     1000\n",
      "구구콘     2000\n",
      "하겐다즈    3000\n",
      "dtype: int64\n"
     ]
    }
   ],
   "source": [
    "from pandas import Series\n",
    "import numpy as np\n",
    "data = [1000,2000,3000]\n",
    "index = [\"메로나\",\"구구콘\",\"하겐다즈\"]\n",
    "s = Series(data,index)\n",
    "print(s)"
   ]
  },
  {
   "cell_type": "code",
   "execution_count": 1,
   "metadata": {},
   "outputs": [
    {
     "name": "stdout",
     "output_type": "stream",
     "text": [
      "메로나     1000\n",
      "구구콘     2000\n",
      "하겐다즈    3000\n",
      "dtype: int64\n"
     ]
    }
   ],
   "source": [
    "from pandas import Series\n",
    "import numpy as np\n",
    "\n",
    "data = [1000,2000,3000]\n",
    "index = [\"메로나\",\"구구콘\",\"하겐다즈\"]\n",
    "s = Series(data=data, index = index)\n",
    "\n",
    "print(s)"
   ]
  },
  {
   "cell_type": "code",
   "execution_count": 3,
   "metadata": {},
   "outputs": [
    {
     "name": "stdout",
     "output_type": "stream",
     "text": [
      "kt       60\n",
      "naver    30\n",
      "skt      30\n",
      "dtype: int64\n"
     ]
    }
   ],
   "source": [
    "from pandas import Series\n",
    "import numpy as np\n",
    "\n",
    "철수 = Series([10,20,30], index=['naver','skt','kt'])\n",
    "영희 = Series([10,30,20], index=['skt','kt','naver'])\n",
    "가족 = 철수 + 영희\n",
    "print(가족)\n"
   ]
  },
  {
   "cell_type": "code",
   "execution_count": 5,
   "metadata": {},
   "outputs": [
    {
     "name": "stdout",
     "output_type": "stream",
     "text": [
      "     종목코드 종목명   현재가\n",
      "0  000000  과학  1000\n",
      "1  000001  수학  2000\n",
      "2  000002  영어  3000\n"
     ]
    }
   ],
   "source": [
    "from pandas import DataFrame\n",
    "\n",
    "data = {\n",
    "    '종목코드':['000000','000001','000002'],\n",
    "    '종목명':['과학','수학','영어'],\n",
    "    '현재가':[1000,2000,3000]\n",
    "}\n",
    "df = DataFrame(data)\n",
    "print(df)"
   ]
  },
  {
   "cell_type": "code",
   "execution_count": 10,
   "metadata": {},
   "outputs": [
    {
     "name": "stdout",
     "output_type": "stream",
     "text": [
      "     종목코드 종목명  현재가\n",
      "0  000000  과학  100\n",
      "1  000001  수학  200\n",
      "2  000002  영어  300\n"
     ]
    }
   ],
   "source": [
    "from pandas import DataFrame\n",
    "\n",
    "data = [\n",
    "    {'종목코드':'000000','종목명':'과학','현재가':100},\n",
    "    {'종목코드':'000001','종목명':'수학','현재가':200},\n",
    "    {'종목코드':'000002','종목명':'영어','현재가':300}\n",
    "]\n",
    "columns = ['종목코드','종목명','현재가']\n",
    "df = DataFrame(data=data)\n",
    "print(df)"
   ]
  },
  {
   "cell_type": "code",
   "execution_count": 16,
   "metadata": {},
   "outputs": [
    {
     "name": "stdout",
     "output_type": "stream",
     "text": [
      "                 종가   대비   등락률       시가       고가       저가     거래량      거래대금  \\\n",
      "일자                                                                            \n",
      "2021/09/13  3127.86  2.1  0.07  3117.35  3139.13  3109.01  732270  13505433   \n",
      "\n",
      "                상장시가총액  \n",
      "일자                      \n",
      "2021/09/13  2264159333  \n"
     ]
    },
    {
     "name": "stderr",
     "output_type": "stream",
     "text": [
      "c:\\Users\\rlaeo\\AppData\\Local\\Programs\\Python\\Python39\\lib\\site-packages\\openpyxl\\styles\\stylesheet.py:226: UserWarning: Workbook contains no default style, apply openpyxl's default\n",
      "  warn(\"Workbook contains no default style, apply openpyxl's default\")\n"
     ]
    }
   ],
   "source": [
    "import pandas as pd\n",
    "\n",
    "df = pd.read_excel('C:/Users/rlaeo/OneDrive/바탕 화면/새 폴더 (3)/data_5623_20221204.xlsx',index_col=0)\n",
    "print(df)"
   ]
  }
 ],
 "metadata": {
  "kernelspec": {
   "display_name": "Python 3.9.10 64-bit",
   "language": "python",
   "name": "python3"
  },
  "language_info": {
   "codemirror_mode": {
    "name": "ipython",
    "version": 3
   },
   "file_extension": ".py",
   "mimetype": "text/x-python",
   "name": "python",
   "nbconvert_exporter": "python",
   "pygments_lexer": "ipython3",
   "version": "3.9.10"
  },
  "orig_nbformat": 4,
  "vscode": {
   "interpreter": {
    "hash": "d5e82c3fb7da1ea83acbd3af36819ee526c08f1ab732399acb2375113e5497e2"
   }
  }
 },
 "nbformat": 4,
 "nbformat_minor": 2
}
