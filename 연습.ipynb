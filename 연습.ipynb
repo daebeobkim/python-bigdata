{
 "cells": [
  {
   "cell_type": "code",
   "execution_count": 10,
   "metadata": {},
   "outputs": [
    {
     "name": "stdout",
     "output_type": "stream",
     "text": [
      "메로나     1000\n",
      "구구콘     2000\n",
      "하겐다즈    3000\n",
      "dtype: int64\n"
     ]
    }
   ],
   "source": [
    "from pandas import Series\n",
    "import numpy as np\n",
    "data = [1000,2000,3000]\n",
    "index = [\"메로나\",\"구구콘\",\"하겐다즈\"]\n",
    "s = Series(data,index)\n",
    "print(s)"
   ]
  },
  {
   "cell_type": "code",
   "execution_count": 1,
   "metadata": {},
   "outputs": [
    {
     "name": "stdout",
     "output_type": "stream",
     "text": [
      "메로나     1000\n",
      "구구콘     2000\n",
      "하겐다즈    3000\n",
      "dtype: int64\n"
     ]
    }
   ],
   "source": [
    "from pandas import Series\n",
    "import numpy as np\n",
    "\n",
    "data = [1000,2000,3000]\n",
    "index = [\"메로나\",\"구구콘\",\"하겐다즈\"]\n",
    "s = Series(data=data, index = index)\n",
    "\n",
    "print(s)"
   ]
  },
  {
   "cell_type": "code",
   "execution_count": 3,
   "metadata": {},
   "outputs": [
    {
     "name": "stdout",
     "output_type": "stream",
     "text": [
      "kt       60\n",
      "naver    30\n",
      "skt      30\n",
      "dtype: int64\n"
     ]
    }
   ],
   "source": [
    "from pandas import Series\n",
    "import numpy as np\n",
    "\n",
    "철수 = Series([10,20,30], index=['naver','skt','kt'])\n",
    "영희 = Series([10,30,20], index=['skt','kt','naver'])\n",
    "가족 = 철수 + 영희\n",
    "print(가족)\n"
   ]
  },
  {
   "cell_type": "code",
   "execution_count": 5,
   "metadata": {},
   "outputs": [
    {
     "name": "stdout",
     "output_type": "stream",
     "text": [
      "     종목코드 종목명   현재가\n",
      "0  000000  과학  1000\n",
      "1  000001  수학  2000\n",
      "2  000002  영어  3000\n"
     ]
    }
   ],
   "source": [
    "from pandas import DataFrame\n",
    "\n",
    "data = {\n",
    "    '종목코드':['000000','000001','000002'],\n",
    "    '종목명':['과학','수학','영어'],\n",
    "    '현재가':[1000,2000,3000]\n",
    "}\n",
    "df = DataFrame(data)\n",
    "print(df)"
   ]
  },
  {
   "cell_type": "code",
   "execution_count": 10,
   "metadata": {},
   "outputs": [
    {
     "name": "stdout",
     "output_type": "stream",
     "text": [
      "     종목코드 종목명  현재가\n",
      "0  000000  과학  100\n",
      "1  000001  수학  200\n",
      "2  000002  영어  300\n"
     ]
    }
   ],
   "source": [
    "from pandas import DataFrame\n",
    "\n",
    "data = [\n",
    "    {'종목코드':'000000','종목명':'과학','현재가':100},\n",
    "    {'종목코드':'000001','종목명':'수학','현재가':200},\n",
    "    {'종목코드':'000002','종목명':'영어','현재가':300}\n",
    "]\n",
    "columns = ['종목코드','종목명','현재가']\n",
    "df = DataFrame(data=data)\n",
    "print(df)"
   ]
  },
  {
   "cell_type": "code",
   "execution_count": 4,
   "metadata": {},
   "outputs": [
    {
     "name": "stdout",
     "output_type": "stream",
     "text": [
      "Index(['395400'], dtype='object', name='종목코드')\n"
     ]
    }
   ],
   "source": [
    "import pandas as pd\n",
    "\n",
    "df13 = pd.read_excel('C:/Users/rlaeo/OneDrive/바탕 화면/새 폴더 (3)/20210913.xlsx',index_col=0)\n",
    "df14 = pd.read_excel('C:/Users/rlaeo/OneDrive/바탕 화면/새 폴더 (3)/20210914.xlsx',index_col=0)\n",
    "\n",
    "idx = df14.index.difference(df13.index)\n",
    "print(idx)\n",
    "print(df14.loc[idx[0],'종목명'])"
   ]
  },
  {
   "cell_type": "code",
   "execution_count": 6,
   "metadata": {},
   "outputs": [
    {
     "name": "stdout",
     "output_type": "stream",
     "text": [
      "2264159333328919\n"
     ]
    }
   ],
   "source": [
    "전일비교시가총액 = df13['시가총액'].sum()\n",
    "print(전일비교시가총액)"
   ]
  },
  {
   "cell_type": "code",
   "execution_count": 9,
   "metadata": {},
   "outputs": [
    {
     "name": "stdout",
     "output_type": "stream",
     "text": [
      "False\n"
     ]
    }
   ],
   "source": [
    "idx = df14.index.intersection(df13.index)\n",
    "t13 = df13.loc[idx]\n",
    "t14 = df14.loc[idx]\n",
    "cond = t13['상장주식수'] != t14['상장주식수']\n",
    "print(cond.all())"
   ]
  },
  {
   "cell_type": "code",
   "execution_count": 11,
   "metadata": {},
   "outputs": [
    {
     "name": "stdout",
     "output_type": "stream",
     "text": [
      "종목코드\n",
      "001570    499996\n",
      "011930      5661\n",
      "Name: 상장주식수, dtype: int64\n"
     ]
    }
   ],
   "source": [
    "print(t14.loc[cond,'상장주식수']-t13.loc[cond,'상장주식수'])"
   ]
  },
  {
   "cell_type": "code",
   "execution_count": 15,
   "metadata": {},
   "outputs": [],
   "source": [
    "import pandas as pd\n",
    "df13 = pd.read_excel('C:/Users/rlaeo/OneDrive/바탕 화면/새 폴더 (3)/20210913.xlsx',index_col=0)\n",
    "df14 = pd.read_excel('C:/Users/rlaeo/OneDrive/바탕 화면/새 폴더 (3)/20210914.xlsx',index_col=0)\n",
    "df = df13[['종목명','종가','시가총액']]\n"
   ]
  },
  {
   "cell_type": "code",
   "execution_count": 23,
   "metadata": {},
   "outputs": [
    {
     "name": "stdout",
     "output_type": "stream",
     "text": [
      "[            종목명      종가           시가총액\n",
      "종목코드                                  \n",
      "095570   AJ네트웍스    5830   272973979850\n",
      "006840    AK홀딩스   27150   359671281150\n",
      "027410      BGF    6250   598229943750\n",
      "282330   BGF리테일  179000  3093819174000\n",
      "138930  BNK금융지주    7970  2597703910620\n",
      "...         ...     ...            ...\n",
      "069260      휴켐스   27200  1111897593600\n",
      "000540     흥국화재    4010   257613006450\n",
      "000547  흥국화재2우B   28850     4431360000\n",
      "000545    흥국화재우    9600     7372800000\n",
      "003280     흥아해운    1035   247494403980\n",
      "\n",
      "[936 rows x 3 columns]]\n"
     ]
    }
   ],
   "source": [
    "df = [pd.read_excel('C:/Users/rlaeo/OneDrive/바탕 화면/새 폴더 (3)/20210913.xlsx',index_col=0,usecols=[0,1,2,10])]\n",
    "print(df)"
   ]
  },
  {
   "cell_type": "code",
   "execution_count": 26,
   "metadata": {},
   "outputs": [
    {
     "data": {
      "text/html": [
       "<div>\n",
       "<style scoped>\n",
       "    .dataframe tbody tr th:only-of-type {\n",
       "        vertical-align: middle;\n",
       "    }\n",
       "\n",
       "    .dataframe tbody tr th {\n",
       "        vertical-align: top;\n",
       "    }\n",
       "\n",
       "    .dataframe thead th {\n",
       "        text-align: right;\n",
       "    }\n",
       "</style>\n",
       "<table border=\"1\" class=\"dataframe\">\n",
       "  <thead>\n",
       "    <tr style=\"text-align: right;\">\n",
       "      <th></th>\n",
       "      <th>종목명</th>\n",
       "      <th>종가</th>\n",
       "      <th>대비</th>\n",
       "      <th>등락률</th>\n",
       "      <th>시가</th>\n",
       "      <th>고가</th>\n",
       "      <th>저가</th>\n",
       "      <th>거래량</th>\n",
       "      <th>거래대금</th>\n",
       "      <th>시가총액</th>\n",
       "      <th>상장주식수</th>\n",
       "      <th>비중</th>\n",
       "    </tr>\n",
       "    <tr>\n",
       "      <th>종목코드</th>\n",
       "      <th></th>\n",
       "      <th></th>\n",
       "      <th></th>\n",
       "      <th></th>\n",
       "      <th></th>\n",
       "      <th></th>\n",
       "      <th></th>\n",
       "      <th></th>\n",
       "      <th></th>\n",
       "      <th></th>\n",
       "      <th></th>\n",
       "      <th></th>\n",
       "    </tr>\n",
       "  </thead>\n",
       "  <tbody>\n",
       "    <tr>\n",
       "      <th>005930</th>\n",
       "      <td>삼성전자</td>\n",
       "      <td>76300</td>\n",
       "      <td>1000</td>\n",
       "      <td>1.33</td>\n",
       "      <td>75200</td>\n",
       "      <td>76300</td>\n",
       "      <td>75100</td>\n",
       "      <td>11397775</td>\n",
       "      <td>865368373800</td>\n",
       "      <td>455494408565000</td>\n",
       "      <td>5969782550</td>\n",
       "      <td>20.117595</td>\n",
       "    </tr>\n",
       "    <tr>\n",
       "      <th>000660</th>\n",
       "      <td>SK하이닉스</td>\n",
       "      <td>106500</td>\n",
       "      <td>1500</td>\n",
       "      <td>1.43</td>\n",
       "      <td>105000</td>\n",
       "      <td>107000</td>\n",
       "      <td>104000</td>\n",
       "      <td>1923344</td>\n",
       "      <td>203945798000</td>\n",
       "      <td>77532251872500</td>\n",
       "      <td>728002365</td>\n",
       "      <td>3.424328</td>\n",
       "    </tr>\n",
       "    <tr>\n",
       "      <th>035420</th>\n",
       "      <td>NAVER</td>\n",
       "      <td>408000</td>\n",
       "      <td>-2000</td>\n",
       "      <td>-0.49</td>\n",
       "      <td>405000</td>\n",
       "      <td>414000</td>\n",
       "      <td>402500</td>\n",
       "      <td>771749</td>\n",
       "      <td>314256083500</td>\n",
       "      <td>67019465160000</td>\n",
       "      <td>164263395</td>\n",
       "      <td>2.960015</td>\n",
       "    </tr>\n",
       "    <tr>\n",
       "      <th>207940</th>\n",
       "      <td>삼성바이오로직스</td>\n",
       "      <td>913000</td>\n",
       "      <td>-12000</td>\n",
       "      <td>-1.30</td>\n",
       "      <td>920000</td>\n",
       "      <td>929000</td>\n",
       "      <td>908000</td>\n",
       "      <td>45749</td>\n",
       "      <td>41901716000</td>\n",
       "      <td>60408645000000</td>\n",
       "      <td>66165000</td>\n",
       "      <td>2.668039</td>\n",
       "    </tr>\n",
       "    <tr>\n",
       "      <th>005935</th>\n",
       "      <td>삼성전자우</td>\n",
       "      <td>70800</td>\n",
       "      <td>100</td>\n",
       "      <td>0.14</td>\n",
       "      <td>70700</td>\n",
       "      <td>71000</td>\n",
       "      <td>70200</td>\n",
       "      <td>1339343</td>\n",
       "      <td>94539308400</td>\n",
       "      <td>58260378360000</td>\n",
       "      <td>822886700</td>\n",
       "      <td>2.573157</td>\n",
       "    </tr>\n",
       "    <tr>\n",
       "      <th>...</th>\n",
       "      <td>...</td>\n",
       "      <td>...</td>\n",
       "      <td>...</td>\n",
       "      <td>...</td>\n",
       "      <td>...</td>\n",
       "      <td>...</td>\n",
       "      <td>...</td>\n",
       "      <td>...</td>\n",
       "      <td>...</td>\n",
       "      <td>...</td>\n",
       "      <td>...</td>\n",
       "      <td>...</td>\n",
       "    </tr>\n",
       "    <tr>\n",
       "      <th>001527</th>\n",
       "      <td>동양2우B</td>\n",
       "      <td>16400</td>\n",
       "      <td>250</td>\n",
       "      <td>1.55</td>\n",
       "      <td>16700</td>\n",
       "      <td>17000</td>\n",
       "      <td>16250</td>\n",
       "      <td>3425</td>\n",
       "      <td>57544550</td>\n",
       "      <td>5060531600</td>\n",
       "      <td>308569</td>\n",
       "      <td>0.000224</td>\n",
       "    </tr>\n",
       "    <tr>\n",
       "      <th>002787</th>\n",
       "      <td>진흥기업2우B</td>\n",
       "      <td>16050</td>\n",
       "      <td>-450</td>\n",
       "      <td>-2.73</td>\n",
       "      <td>16500</td>\n",
       "      <td>16500</td>\n",
       "      <td>15750</td>\n",
       "      <td>2084</td>\n",
       "      <td>33606150</td>\n",
       "      <td>4731668400</td>\n",
       "      <td>294808</td>\n",
       "      <td>0.000209</td>\n",
       "    </tr>\n",
       "    <tr>\n",
       "      <th>000547</th>\n",
       "      <td>흥국화재2우B</td>\n",
       "      <td>28850</td>\n",
       "      <td>-200</td>\n",
       "      <td>-0.69</td>\n",
       "      <td>28750</td>\n",
       "      <td>28850</td>\n",
       "      <td>28700</td>\n",
       "      <td>609</td>\n",
       "      <td>17592750</td>\n",
       "      <td>4431360000</td>\n",
       "      <td>153600</td>\n",
       "      <td>0.000196</td>\n",
       "    </tr>\n",
       "    <tr>\n",
       "      <th>009275</th>\n",
       "      <td>신원우</td>\n",
       "      <td>47400</td>\n",
       "      <td>0</td>\n",
       "      <td>0.00</td>\n",
       "      <td>47050</td>\n",
       "      <td>47500</td>\n",
       "      <td>47000</td>\n",
       "      <td>623</td>\n",
       "      <td>29415250</td>\n",
       "      <td>4301076000</td>\n",
       "      <td>90740</td>\n",
       "      <td>0.000190</td>\n",
       "    </tr>\n",
       "    <tr>\n",
       "      <th>001529</th>\n",
       "      <td>동양3우B</td>\n",
       "      <td>41600</td>\n",
       "      <td>300</td>\n",
       "      <td>0.73</td>\n",
       "      <td>41300</td>\n",
       "      <td>42850</td>\n",
       "      <td>40800</td>\n",
       "      <td>1250</td>\n",
       "      <td>51762550</td>\n",
       "      <td>3732435200</td>\n",
       "      <td>89722</td>\n",
       "      <td>0.000165</td>\n",
       "    </tr>\n",
       "  </tbody>\n",
       "</table>\n",
       "<p>936 rows × 12 columns</p>\n",
       "</div>"
      ],
      "text/plain": [
       "             종목명      종가     대비   등락률      시가      고가      저가       거래량  \\\n",
       "종목코드                                                                      \n",
       "005930      삼성전자   76300   1000  1.33   75200   76300   75100  11397775   \n",
       "000660    SK하이닉스  106500   1500  1.43  105000  107000  104000   1923344   \n",
       "035420     NAVER  408000  -2000 -0.49  405000  414000  402500    771749   \n",
       "207940  삼성바이오로직스  913000 -12000 -1.30  920000  929000  908000     45749   \n",
       "005935     삼성전자우   70800    100  0.14   70700   71000   70200   1339343   \n",
       "...          ...     ...    ...   ...     ...     ...     ...       ...   \n",
       "001527     동양2우B   16400    250  1.55   16700   17000   16250      3425   \n",
       "002787   진흥기업2우B   16050   -450 -2.73   16500   16500   15750      2084   \n",
       "000547   흥국화재2우B   28850   -200 -0.69   28750   28850   28700       609   \n",
       "009275       신원우   47400      0  0.00   47050   47500   47000       623   \n",
       "001529     동양3우B   41600    300  0.73   41300   42850   40800      1250   \n",
       "\n",
       "                거래대금             시가총액       상장주식수         비중  \n",
       "종목코드                                                          \n",
       "005930  865368373800  455494408565000  5969782550  20.117595  \n",
       "000660  203945798000   77532251872500   728002365   3.424328  \n",
       "035420  314256083500   67019465160000   164263395   2.960015  \n",
       "207940   41901716000   60408645000000    66165000   2.668039  \n",
       "005935   94539308400   58260378360000   822886700   2.573157  \n",
       "...              ...              ...         ...        ...  \n",
       "001527      57544550       5060531600      308569   0.000224  \n",
       "002787      33606150       4731668400      294808   0.000209  \n",
       "000547      17592750       4431360000      153600   0.000196  \n",
       "009275      29415250       4301076000       90740   0.000190  \n",
       "001529      51762550       3732435200       89722   0.000165  \n",
       "\n",
       "[936 rows x 12 columns]"
      ]
     },
     "execution_count": 26,
     "metadata": {},
     "output_type": "execute_result"
    }
   ],
   "source": [
    "df13['비중'] = df13['시가총액']/df13['시가총액'].sum()*100\n",
    "df13.sort_values('비중',ascending=False).head()\n"
   ]
  }
 ],
 "metadata": {
  "kernelspec": {
   "display_name": "Python 3.9.10 64-bit",
   "language": "python",
   "name": "python3"
  },
  "language_info": {
   "codemirror_mode": {
    "name": "ipython",
    "version": 3
   },
   "file_extension": ".py",
   "mimetype": "text/x-python",
   "name": "python",
   "nbconvert_exporter": "python",
   "pygments_lexer": "ipython3",
   "version": "3.9.10"
  },
  "orig_nbformat": 4,
  "vscode": {
   "interpreter": {
    "hash": "d5e82c3fb7da1ea83acbd3af36819ee526c08f1ab732399acb2375113e5497e2"
   }
  }
 },
 "nbformat": 4,
 "nbformat_minor": 2
}
