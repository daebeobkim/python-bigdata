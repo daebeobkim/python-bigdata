{
 "cells": [
  {
   "cell_type": "code",
   "execution_count": 1,
   "metadata": {},
   "outputs": [
    {
     "name": "stdout",
     "output_type": "stream",
     "text": [
      "메로나     1000\n",
      "구구콘     2000\n",
      "하겐다즈    3000\n",
      "dtype: int64\n"
     ]
    }
   ],
   "source": [
    "from pandas import Series\n",
    "import numpy as np\n",
    "data = [1000,2000,3000]\n",
    "index = [\"메로나\",\"구구콘\",\"하겐다즈\"]\n",
    "s = Series(data,index)\n",
    "print(s)"
   ]
  },
  {
   "cell_type": "code",
   "execution_count": 2,
   "metadata": {},
   "outputs": [
    {
     "name": "stdout",
     "output_type": "stream",
     "text": [
      "메로나     1000\n",
      "구구콘     2000\n",
      "하겐다즈    3000\n",
      "dtype: int64\n"
     ]
    }
   ],
   "source": [
    "from pandas import Series\n",
    "import numpy as np\n",
    "\n",
    "data = [1000,2000,3000]\n",
    "index = [\"메로나\",\"구구콘\",\"하겐다즈\"]\n",
    "s = Series(data=data, index = index)\n",
    "\n",
    "print(s)"
   ]
  },
  {
   "cell_type": "code",
   "execution_count": 3,
   "metadata": {},
   "outputs": [
    {
     "name": "stdout",
     "output_type": "stream",
     "text": [
      "kt       60\n",
      "naver    30\n",
      "skt      30\n",
      "dtype: int64\n"
     ]
    }
   ],
   "source": [
    "from pandas import Series\n",
    "import numpy as np\n",
    "\n",
    "철수 = Series([10,20,30], index=['naver','skt','kt'])\n",
    "영희 = Series([10,30,20], index=['skt','kt','naver'])\n",
    "가족 = 철수 + 영희\n",
    "print(가족)\n"
   ]
  },
  {
   "cell_type": "code",
   "execution_count": 4,
   "metadata": {},
   "outputs": [
    {
     "name": "stdout",
     "output_type": "stream",
     "text": [
      "     종목코드 종목명   현재가\n",
      "0  000000  과학  1000\n",
      "1  000001  수학  2000\n",
      "2  000002  영어  3000\n"
     ]
    }
   ],
   "source": [
    "from pandas import DataFrame\n",
    "\n",
    "data = {\n",
    "    '종목코드':['000000','000001','000002'],\n",
    "    '종목명':['과학','수학','영어'],\n",
    "    '현재가':[1000,2000,3000]\n",
    "}\n",
    "df = DataFrame(data)\n",
    "print(df)"
   ]
  },
  {
   "cell_type": "code",
   "execution_count": 5,
   "metadata": {},
   "outputs": [
    {
     "name": "stdout",
     "output_type": "stream",
     "text": [
      "     종목코드 종목명  현재가\n",
      "0  000000  과학  100\n",
      "1  000001  수학  200\n",
      "2  000002  영어  300\n"
     ]
    }
   ],
   "source": [
    "from pandas import DataFrame\n",
    "\n",
    "data = [\n",
    "    {'종목코드':'000000','종목명':'과학','현재가':100},\n",
    "    {'종목코드':'000001','종목명':'수학','현재가':200},\n",
    "    {'종목코드':'000002','종목명':'영어','현재가':300}\n",
    "]\n",
    "columns = ['종목코드','종목명','현재가']\n",
    "df = DataFrame(data=data)\n",
    "print(df)"
   ]
  },
  {
   "cell_type": "code",
   "execution_count": 6,
   "metadata": {},
   "outputs": [
    {
     "name": "stdout",
     "output_type": "stream",
     "text": [
      "Index(['395400'], dtype='object', name='종목코드')\n",
      "SK리츠\n"
     ]
    }
   ],
   "source": [
    "import pandas as pd\n",
    "\n",
    "df13 = pd.read_excel('C:/Users/rlaeo/OneDrive/바탕 화면/새 폴더 (3)/20210913.xlsx',index_col=0)\n",
    "df14 = pd.read_excel('C:/Users/rlaeo/OneDrive/바탕 화면/새 폴더 (3)/20210914.xlsx',index_col=0)\n",
    "\n",
    "idx = df14.index.difference(df13.index)\n",
    "print(idx)\n",
    "print(df14.loc[idx[0],'종목명'])"
   ]
  },
  {
   "cell_type": "code",
   "execution_count": 7,
   "metadata": {},
   "outputs": [
    {
     "name": "stdout",
     "output_type": "stream",
     "text": [
      "2264159333328919\n"
     ]
    }
   ],
   "source": [
    "전일비교시가총액 = df13['시가총액'].sum()\n",
    "print(전일비교시가총액)"
   ]
  },
  {
   "cell_type": "code",
   "execution_count": 8,
   "metadata": {},
   "outputs": [
    {
     "name": "stdout",
     "output_type": "stream",
     "text": [
      "False\n"
     ]
    }
   ],
   "source": [
    "idx = df14.index.intersection(df13.index)\n",
    "t13 = df13.loc[idx]\n",
    "t14 = df14.loc[idx]\n",
    "cond = t13['상장주식수'] != t14['상장주식수']\n",
    "print(cond.all())"
   ]
  },
  {
   "cell_type": "code",
   "execution_count": 9,
   "metadata": {},
   "outputs": [
    {
     "name": "stdout",
     "output_type": "stream",
     "text": [
      "종목코드\n",
      "001570    499996\n",
      "011930      5661\n",
      "Name: 상장주식수, dtype: int64\n"
     ]
    }
   ],
   "source": [
    "print(t14.loc[cond,'상장주식수']-t13.loc[cond,'상장주식수'])"
   ]
  },
  {
   "cell_type": "code",
   "execution_count": 10,
   "metadata": {},
   "outputs": [],
   "source": [
    "import pandas as pd\n",
    "df13 = pd.read_excel('C:/Users/rlaeo/OneDrive/바탕 화면/새 폴더 (3)/20210913.xlsx',index_col=0)\n",
    "df14 = pd.read_excel('C:/Users/rlaeo/OneDrive/바탕 화면/새 폴더 (3)/20210914.xlsx',index_col=0)\n",
    "df = df13[['종목명','종가','시가총액']]\n"
   ]
  },
  {
   "cell_type": "code",
   "execution_count": 11,
   "metadata": {},
   "outputs": [
    {
     "name": "stdout",
     "output_type": "stream",
     "text": [
      "[            종목명      종가           시가총액\n",
      "종목코드                                  \n",
      "095570   AJ네트웍스    5830   272973979850\n",
      "006840    AK홀딩스   27150   359671281150\n",
      "027410      BGF    6250   598229943750\n",
      "282330   BGF리테일  179000  3093819174000\n",
      "138930  BNK금융지주    7970  2597703910620\n",
      "...         ...     ...            ...\n",
      "069260      휴켐스   27200  1111897593600\n",
      "000540     흥국화재    4010   257613006450\n",
      "000547  흥국화재2우B   28850     4431360000\n",
      "000545    흥국화재우    9600     7372800000\n",
      "003280     흥아해운    1035   247494403980\n",
      "\n",
      "[936 rows x 3 columns]]\n"
     ]
    }
   ],
   "source": [
    "df = [pd.read_excel('C:/Users/rlaeo/OneDrive/바탕 화면/새 폴더 (3)/20210913.xlsx',index_col=0,usecols=[0,1,2,10])]\n",
    "print(df)"
   ]
  },
  {
   "cell_type": "code",
   "execution_count": 12,
   "metadata": {},
   "outputs": [
    {
     "data": {
      "text/html": [
       "<div>\n",
       "<style scoped>\n",
       "    .dataframe tbody tr th:only-of-type {\n",
       "        vertical-align: middle;\n",
       "    }\n",
       "\n",
       "    .dataframe tbody tr th {\n",
       "        vertical-align: top;\n",
       "    }\n",
       "\n",
       "    .dataframe thead th {\n",
       "        text-align: right;\n",
       "    }\n",
       "</style>\n",
       "<table border=\"1\" class=\"dataframe\">\n",
       "  <thead>\n",
       "    <tr style=\"text-align: right;\">\n",
       "      <th></th>\n",
       "      <th>종목명</th>\n",
       "      <th>종가</th>\n",
       "      <th>대비</th>\n",
       "      <th>등락률</th>\n",
       "      <th>시가</th>\n",
       "      <th>고가</th>\n",
       "      <th>저가</th>\n",
       "      <th>거래량</th>\n",
       "      <th>거래대금</th>\n",
       "      <th>시가총액</th>\n",
       "      <th>상장주식수</th>\n",
       "      <th>비중</th>\n",
       "    </tr>\n",
       "    <tr>\n",
       "      <th>종목코드</th>\n",
       "      <th></th>\n",
       "      <th></th>\n",
       "      <th></th>\n",
       "      <th></th>\n",
       "      <th></th>\n",
       "      <th></th>\n",
       "      <th></th>\n",
       "      <th></th>\n",
       "      <th></th>\n",
       "      <th></th>\n",
       "      <th></th>\n",
       "      <th></th>\n",
       "    </tr>\n",
       "  </thead>\n",
       "  <tbody>\n",
       "    <tr>\n",
       "      <th>005930</th>\n",
       "      <td>삼성전자</td>\n",
       "      <td>76300</td>\n",
       "      <td>1000</td>\n",
       "      <td>1.33</td>\n",
       "      <td>75200</td>\n",
       "      <td>76300</td>\n",
       "      <td>75100</td>\n",
       "      <td>11397775</td>\n",
       "      <td>865368373800</td>\n",
       "      <td>455494408565000</td>\n",
       "      <td>5969782550</td>\n",
       "      <td>20.117595</td>\n",
       "    </tr>\n",
       "    <tr>\n",
       "      <th>000660</th>\n",
       "      <td>SK하이닉스</td>\n",
       "      <td>106500</td>\n",
       "      <td>1500</td>\n",
       "      <td>1.43</td>\n",
       "      <td>105000</td>\n",
       "      <td>107000</td>\n",
       "      <td>104000</td>\n",
       "      <td>1923344</td>\n",
       "      <td>203945798000</td>\n",
       "      <td>77532251872500</td>\n",
       "      <td>728002365</td>\n",
       "      <td>3.424328</td>\n",
       "    </tr>\n",
       "    <tr>\n",
       "      <th>035420</th>\n",
       "      <td>NAVER</td>\n",
       "      <td>408000</td>\n",
       "      <td>-2000</td>\n",
       "      <td>-0.49</td>\n",
       "      <td>405000</td>\n",
       "      <td>414000</td>\n",
       "      <td>402500</td>\n",
       "      <td>771749</td>\n",
       "      <td>314256083500</td>\n",
       "      <td>67019465160000</td>\n",
       "      <td>164263395</td>\n",
       "      <td>2.960015</td>\n",
       "    </tr>\n",
       "    <tr>\n",
       "      <th>207940</th>\n",
       "      <td>삼성바이오로직스</td>\n",
       "      <td>913000</td>\n",
       "      <td>-12000</td>\n",
       "      <td>-1.30</td>\n",
       "      <td>920000</td>\n",
       "      <td>929000</td>\n",
       "      <td>908000</td>\n",
       "      <td>45749</td>\n",
       "      <td>41901716000</td>\n",
       "      <td>60408645000000</td>\n",
       "      <td>66165000</td>\n",
       "      <td>2.668039</td>\n",
       "    </tr>\n",
       "    <tr>\n",
       "      <th>005935</th>\n",
       "      <td>삼성전자우</td>\n",
       "      <td>70800</td>\n",
       "      <td>100</td>\n",
       "      <td>0.14</td>\n",
       "      <td>70700</td>\n",
       "      <td>71000</td>\n",
       "      <td>70200</td>\n",
       "      <td>1339343</td>\n",
       "      <td>94539308400</td>\n",
       "      <td>58260378360000</td>\n",
       "      <td>822886700</td>\n",
       "      <td>2.573157</td>\n",
       "    </tr>\n",
       "  </tbody>\n",
       "</table>\n",
       "</div>"
      ],
      "text/plain": [
       "             종목명      종가     대비   등락률      시가      고가      저가       거래량  \\\n",
       "종목코드                                                                      \n",
       "005930      삼성전자   76300   1000  1.33   75200   76300   75100  11397775   \n",
       "000660    SK하이닉스  106500   1500  1.43  105000  107000  104000   1923344   \n",
       "035420     NAVER  408000  -2000 -0.49  405000  414000  402500    771749   \n",
       "207940  삼성바이오로직스  913000 -12000 -1.30  920000  929000  908000     45749   \n",
       "005935     삼성전자우   70800    100  0.14   70700   71000   70200   1339343   \n",
       "\n",
       "                거래대금             시가총액       상장주식수         비중  \n",
       "종목코드                                                          \n",
       "005930  865368373800  455494408565000  5969782550  20.117595  \n",
       "000660  203945798000   77532251872500   728002365   3.424328  \n",
       "035420  314256083500   67019465160000   164263395   2.960015  \n",
       "207940   41901716000   60408645000000    66165000   2.668039  \n",
       "005935   94539308400   58260378360000   822886700   2.573157  "
      ]
     },
     "execution_count": 12,
     "metadata": {},
     "output_type": "execute_result"
    }
   ],
   "source": [
    "df13['비중'] = df13['시가총액']/df13['시가총액'].sum()*100\n",
    "df13.sort_values('비중',ascending=False).head()\n"
   ]
  },
  {
   "cell_type": "code",
   "execution_count": 13,
   "metadata": {},
   "outputs": [
    {
     "name": "stderr",
     "output_type": "stream",
     "text": [
      "c:\\Users\\rlaeo\\AppData\\Local\\Programs\\Python\\Python39\\lib\\site-packages\\openpyxl\\styles\\stylesheet.py:226: UserWarning: Workbook contains no default style, apply openpyxl's default\n",
      "  warn(\"Workbook contains no default style, apply openpyxl's default\")\n",
      "c:\\Users\\rlaeo\\AppData\\Local\\Programs\\Python\\Python39\\lib\\site-packages\\openpyxl\\styles\\stylesheet.py:226: UserWarning: Workbook contains no default style, apply openpyxl's default\n",
      "  warn(\"Workbook contains no default style, apply openpyxl's default\")\n"
     ]
    },
    {
     "data": {
      "text/plain": [
       "<AxesSubplot:xlabel='samsung', ylabel='kospi'>"
      ]
     },
     "execution_count": 13,
     "metadata": {},
     "output_type": "execute_result"
    },
    {
     "data": {
      "image/png": "[encoded data removed]",
      "text/plain": [
       "<Figure size 640x480 with 1 Axes>"
      ]
     },
     "metadata": {},
     "output_type": "display_data"
    }
   ],
   "source": [
    "import numpy as np\n",
    "\n",
    "kospi = pd.read_excel('C:/Users/rlaeo/OneDrive/바탕 화면/kospi.xlsx')\n",
    "samsung = pd.read_excel('C:/Users/rlaeo/OneDrive/바탕 화면/samsung.xlsx')\n",
    "\n",
    "data = [kospi['종가'],samsung['종가']]\n",
    "df = pd.concat(data,axis=1,keys=[\"kospi\",\"samsung\"])\n",
    "df.plot.scatter(x='samsung',y='kospi')"
   ]
  },
  {
   "cell_type": "code",
   "execution_count": 14,
   "metadata": {},
   "outputs": [
    {
     "data": {
      "text/html": [
       "<div>\n",
       "<style scoped>\n",
       "    .dataframe tbody tr th:only-of-type {\n",
       "        vertical-align: middle;\n",
       "    }\n",
       "\n",
       "    .dataframe tbody tr th {\n",
       "        vertical-align: top;\n",
       "    }\n",
       "\n",
       "    .dataframe thead th {\n",
       "        text-align: right;\n",
       "    }\n",
       "</style>\n",
       "<table border=\"1\" class=\"dataframe\">\n",
       "  <thead>\n",
       "    <tr style=\"text-align: right;\">\n",
       "      <th></th>\n",
       "      <th>kospi</th>\n",
       "      <th>samsung</th>\n",
       "    </tr>\n",
       "  </thead>\n",
       "  <tbody>\n",
       "    <tr>\n",
       "      <th>kospi</th>\n",
       "      <td>1.000000</td>\n",
       "      <td>0.966597</td>\n",
       "    </tr>\n",
       "    <tr>\n",
       "      <th>samsung</th>\n",
       "      <td>0.966597</td>\n",
       "      <td>1.000000</td>\n",
       "    </tr>\n",
       "  </tbody>\n",
       "</table>\n",
       "</div>"
      ],
      "text/plain": [
       "            kospi   samsung\n",
       "kospi    1.000000  0.966597\n",
       "samsung  0.966597  1.000000"
      ]
     },
     "execution_count": 14,
     "metadata": {},
     "output_type": "execute_result"
    }
   ],
   "source": [
    "df.corr()"
   ]
  },
  {
   "cell_type": "code",
   "execution_count": 15,
   "metadata": {},
   "outputs": [
    {
     "name": "stdout",
     "output_type": "stream",
     "text": [
      "3305.21\n",
      "1457.64\n"
     ]
    },
    {
     "name": "stderr",
     "output_type": "stream",
     "text": [
      "c:\\Users\\rlaeo\\AppData\\Local\\Programs\\Python\\Python39\\lib\\site-packages\\openpyxl\\styles\\stylesheet.py:226: UserWarning: Workbook contains no default style, apply openpyxl's default\n",
      "  warn(\"Workbook contains no default style, apply openpyxl's default\")\n"
     ]
    }
   ],
   "source": [
    "kospi = pd.read_excel(\"C:/Users/rlaeo/OneDrive/바탕 화면/kospi.xlsx\",index_col=0,parse_dates=True)\n",
    "print(kospi['종가'].max())\n",
    "print(kospi['종가'].min())"
   ]
  },
  {
   "cell_type": "code",
   "execution_count": 16,
   "metadata": {},
   "outputs": [
    {
     "name": "stdout",
     "output_type": "stream",
     "text": [
      "                 종가    대비   등락률       시가       고가       저가      거래량      거래대금  \\\n",
      "일자                                                                              \n",
      "2021-07-06  3305.21  12.0  0.36  3295.44  3313.51  3295.44  1029465  14686383   \n",
      "\n",
      "                상장시가총액  \n",
      "일자                      \n",
      "2021-07-06  2314417370  \n"
     ]
    }
   ],
   "source": [
    "cond = kospi['종가']==kospi['종가'].max()\n",
    "print(kospi.loc[cond])"
   ]
  },
  {
   "cell_type": "code",
   "execution_count": 17,
   "metadata": {},
   "outputs": [
    {
     "name": "stdout",
     "output_type": "stream",
     "text": [
      "DatetimeIndex(['2021-07-06'], dtype='datetime64[ns]', name='일자', freq=None)\n",
      "2021-07-06 00:00:00\n"
     ]
    }
   ],
   "source": [
    "print(kospi.loc[cond].index)\n",
    "print(kospi.loc[cond].index[0])"
   ]
  },
  {
   "cell_type": "code",
   "execution_count": 18,
   "metadata": {},
   "outputs": [
    {
     "name": "stdout",
     "output_type": "stream",
     "text": [
      "                 종가     변동폭\n",
      "일자                         \n",
      "2020/03/23  1482.46 -127.51\n",
      "2021/01/07  3031.68 -120.50\n",
      "2020/03/19  1457.64 -108.51\n",
      "2020/06/15  2030.82 -107.23\n",
      "2021/02/24  2994.98 -104.71\n",
      "                 종가     변동폭\n",
      "일자                         \n",
      "2020/03/18  1591.20  133.56\n",
      "2020/06/12  2132.30  101.48\n",
      "2021/01/28  3069.05   92.84\n",
      "2021/02/25  3099.69   86.74\n",
      "2020/08/19  2360.54   86.32\n"
     ]
    },
    {
     "name": "stderr",
     "output_type": "stream",
     "text": [
      "c:\\Users\\rlaeo\\AppData\\Local\\Programs\\Python\\Python39\\lib\\site-packages\\openpyxl\\styles\\stylesheet.py:226: UserWarning: Workbook contains no default style, apply openpyxl's default\n",
      "  warn(\"Workbook contains no default style, apply openpyxl's default\")\n"
     ]
    }
   ],
   "source": [
    "kospi = pd.read_excel(\"C:/Users/rlaeo/OneDrive/바탕 화면/kospi.xlsx\",index_col=0,usecols=[0,1])\n",
    "kospi[\"변동폭\"]=kospi[\"종가\"]-kospi[\"종가\"].shift(1)\n",
    "print(kospi.sort_values('변동폭').iloc[:5])\n",
    "print(kospi.sort_values('변동폭',ascending=False).iloc[:5])"
   ]
  },
  {
   "cell_type": "code",
   "execution_count": 19,
   "metadata": {},
   "outputs": [
    {
     "name": "stdout",
     "output_type": "stream",
     "text": [
      "일자\n",
      "2020/03/18    133.56\n",
      "2020/06/12    101.48\n",
      "2021/01/28     92.84\n",
      "2021/02/25     86.74\n",
      "2020/08/19     86.32\n",
      "Name: 변동폭, dtype: float64\n",
      "일자\n",
      "2020/03/23   -127.51\n",
      "2021/01/07   -120.50\n",
      "2020/03/19   -108.51\n",
      "2020/06/15   -107.23\n",
      "2021/02/24   -104.71\n",
      "Name: 변동폭, dtype: float64\n"
     ]
    }
   ],
   "source": [
    "print(kospi[\"변동폭\"].nlargest(n=5))\n",
    "print(kospi[\"변동폭\"].nsmallest(n=5))"
   ]
  },
  {
   "cell_type": "code",
   "execution_count": 20,
   "metadata": {},
   "outputs": [
    {
     "name": "stderr",
     "output_type": "stream",
     "text": [
      "c:\\Users\\rlaeo\\AppData\\Local\\Programs\\Python\\Python39\\lib\\site-packages\\openpyxl\\styles\\stylesheet.py:226: UserWarning: Workbook contains no default style, apply openpyxl's default\n",
      "  warn(\"Workbook contains no default style, apply openpyxl's default\")\n"
     ]
    },
    {
     "data": {
      "text/html": [
       "<div>\n",
       "<style scoped>\n",
       "    .dataframe tbody tr th:only-of-type {\n",
       "        vertical-align: middle;\n",
       "    }\n",
       "\n",
       "    .dataframe tbody tr th {\n",
       "        vertical-align: top;\n",
       "    }\n",
       "\n",
       "    .dataframe thead th {\n",
       "        text-align: right;\n",
       "    }\n",
       "</style>\n",
       "<table border=\"1\" class=\"dataframe\">\n",
       "  <thead>\n",
       "    <tr style=\"text-align: right;\">\n",
       "      <th></th>\n",
       "      <th>시가</th>\n",
       "      <th>고가</th>\n",
       "      <th>저가</th>\n",
       "      <th>종가</th>\n",
       "      <th>거래량</th>\n",
       "    </tr>\n",
       "    <tr>\n",
       "      <th>일자</th>\n",
       "      <th></th>\n",
       "      <th></th>\n",
       "      <th></th>\n",
       "      <th></th>\n",
       "      <th></th>\n",
       "    </tr>\n",
       "  </thead>\n",
       "  <tbody>\n",
       "    <tr>\n",
       "      <th>2020-01-31</th>\n",
       "      <td>2201.21</td>\n",
       "      <td>2277.23</td>\n",
       "      <td>2119.01</td>\n",
       "      <td>2119.01</td>\n",
       "      <td>13096068</td>\n",
       "    </tr>\n",
       "    <tr>\n",
       "      <th>2020-02-29</th>\n",
       "      <td>2086.61</td>\n",
       "      <td>2255.49</td>\n",
       "      <td>1980.82</td>\n",
       "      <td>1987.01</td>\n",
       "      <td>13959766</td>\n",
       "    </tr>\n",
       "    <tr>\n",
       "      <th>2020-03-31</th>\n",
       "      <td>1997.03</td>\n",
       "      <td>2089.08</td>\n",
       "      <td>1439.43</td>\n",
       "      <td>1754.64</td>\n",
       "      <td>17091025</td>\n",
       "    </tr>\n",
       "    <tr>\n",
       "      <th>2020-04-30</th>\n",
       "      <td>1737.28</td>\n",
       "      <td>1957.51</td>\n",
       "      <td>1664.13</td>\n",
       "      <td>1947.56</td>\n",
       "      <td>21045123</td>\n",
       "    </tr>\n",
       "    <tr>\n",
       "      <th>2020-05-31</th>\n",
       "      <td>1906.42</td>\n",
       "      <td>2054.52</td>\n",
       "      <td>1894.29</td>\n",
       "      <td>2029.60</td>\n",
       "      <td>16206497</td>\n",
       "    </tr>\n",
       "  </tbody>\n",
       "</table>\n",
       "</div>"
      ],
      "text/plain": [
       "                 시가       고가       저가       종가       거래량\n",
       "일자                                                      \n",
       "2020-01-31  2201.21  2277.23  2119.01  2119.01  13096068\n",
       "2020-02-29  2086.61  2255.49  1980.82  1987.01  13959766\n",
       "2020-03-31  1997.03  2089.08  1439.43  1754.64  17091025\n",
       "2020-04-30  1737.28  1957.51  1664.13  1947.56  21045123\n",
       "2020-05-31  1906.42  2054.52  1894.29  2029.60  16206497"
      ]
     },
     "execution_count": 20,
     "metadata": {},
     "output_type": "execute_result"
    }
   ],
   "source": [
    "kospi = pd.read_excel(\"C:/Users/rlaeo/OneDrive/바탕 화면/kospi.xlsx\",usecols=[0,1,4,5,6,7],parse_dates=[0])\n",
    "how = {\n",
    "    '시가':'first',\n",
    "    '고가':'max',\n",
    "    '저가':'min',\n",
    "    '종가':'last',\n",
    "    '거래량':sum\n",
    "}\n",
    "df = kospi.groupby(pd.Grouper(key='일자',freq='m')).agg(how)\n",
    "df.head()"
   ]
  },
  {
   "cell_type": "code",
   "execution_count": 21,
   "metadata": {},
   "outputs": [
    {
     "name": "stdout",
     "output_type": "stream",
     "text": [
      "2311.86\n",
      "2020-08-05 00:00:00\n"
     ]
    },
    {
     "name": "stderr",
     "output_type": "stream",
     "text": [
      "c:\\Users\\rlaeo\\AppData\\Local\\Programs\\Python\\Python39\\lib\\site-packages\\openpyxl\\styles\\stylesheet.py:226: UserWarning: Workbook contains no default style, apply openpyxl's default\n",
      "  warn(\"Workbook contains no default style, apply openpyxl's default\")\n"
     ]
    }
   ],
   "source": [
    "kospi = pd.read_excel(\"C:/Users/rlaeo/OneDrive/바탕 화면/kospi.xlsx\",usecols=[0,1],index_col=0,parse_dates=True)\n",
    "kospi = kospi.sort_index()\n",
    "\n",
    "threshold = 2300\n",
    "cond = kospi['종가']>= threshold\n",
    "print(kospi.loc[cond,'종가'].iloc[0])\n",
    "print(kospi.loc[cond,'종가'].index[0])"
   ]
  },
  {
   "cell_type": "code",
   "execution_count": 22,
   "metadata": {},
   "outputs": [
    {
     "name": "stdout",
     "output_type": "stream",
     "text": [
      "47.081377547502036\n"
     ]
    },
    {
     "name": "stderr",
     "output_type": "stream",
     "text": [
      "c:\\Users\\rlaeo\\AppData\\Local\\Programs\\Python\\Python39\\lib\\site-packages\\openpyxl\\styles\\stylesheet.py:226: UserWarning: Workbook contains no default style, apply openpyxl's default\n",
      "  warn(\"Workbook contains no default style, apply openpyxl's default\")\n"
     ]
    }
   ],
   "source": [
    "import pandas as pd\n",
    "kospi = pd.read_excel(\"C:/Users/rlaeo/OneDrive/바탕 화면/kospi.xlsx\",usecols=[0,1],index_col=0,parse_dates=True)\n",
    "kospi = kospi.sort_index()\n",
    "수익률 = kospi.iloc[-1,0]/kospi.iloc[0,0]\n",
    "print((수익률-1)*100) #블로그작성 완료"
   ]
  },
  {
   "cell_type": "code",
   "execution_count": 23,
   "metadata": {},
   "outputs": [
    {
     "name": "stdout",
     "output_type": "stream",
     "text": [
      "1.4406430903202766e+61\n"
     ]
    }
   ],
   "source": [
    "diff = (kospi.index[1]-kospi.index[0])\n",
    "투자기간 = diff.days/365\n",
    "cagr = 수익률 ** (1/투자기간)-1\n",
    "print(cagr)"
   ]
  },
  {
   "cell_type": "code",
   "execution_count": 25,
   "metadata": {},
   "outputs": [
    {
     "name": "stdout",
     "output_type": "stream",
     "text": [
      "26.111719470122587\n"
     ]
    },
    {
     "name": "stderr",
     "output_type": "stream",
     "text": [
      "c:\\Users\\rlaeo\\AppData\\Local\\Programs\\Python\\Python39\\lib\\site-packages\\openpyxl\\styles\\stylesheet.py:226: UserWarning: Workbook contains no default style, apply openpyxl's default\n",
      "  warn(\"Workbook contains no default style, apply openpyxl's default\")\n"
     ]
    }
   ],
   "source": [
    "ss = pd.read_excel(\"C:/Users/rlaeo/OneDrive/바탕 화면/kospi.xlsx\",usecols=[0,1],index_col=0,parse_dates=True)\n",
    "ss = ss.sort_index()\n",
    "수익률 = ss.iloc[-1,0]/ss.iloc[0,0]\n",
    "diff = (ss.index[-1]-ss.index[0])\n",
    "투자기간 = diff.days/365\n",
    "cagr = 수익률 ** (1/투자기간)-1\n",
    "print(cagr * 100)\n",
    "#보유자산 1--%를 삼전에 투자했을 때 연평균 수익률"
   ]
  },
  {
   "cell_type": "code",
   "execution_count": 31,
   "metadata": {},
   "outputs": [
    {
     "name": "stdout",
     "output_type": "stream",
     "text": [
      "['060310', '054620', '265520', '211270', '013720', '035760', '311690', '051500', '058820', '023460', '056730', '065770', '083660', '404950', '367340', '367360', '068790', '241520', '245620', '037370', '050120', '084180', '214270', '130500', '900290', '083450', '297890', '078150', '195940', '028300', '067630', '047920', '115450', '403870', '036640', '351340', '388790', '405350', '424760', '426550', '439730', '095340', '099520', '950170', '067290', '035900', '318000', '024840', '024120', '021320', '036670', '044180', '151860', '046440', '035600', '226360', '111870', '060720', '058400', '114450', '060370', '122450', '052900', '086960', '160550', '053290', '104200', '060250', '030190', '024940', '218410', '327260', '091340', '419530', '019550', '950110', '046140', '151910', '036120', '099220', '036540', '255220', '040610', '049470', '184230', '016250', '048550', '063440', '289080', '089230', '161570', '032540', '022220', '048770', '246690', '317240', '038340', '073570', '057030', '040300', '051390', '052220', '079940', '078890', '399720', '036620', '217730', '114190', '094480', '039240', '053950', '011040', '024910', '198440', '049720', '014570', '348150', '098460', '035290', '038530', '900280', '215000', '121440', '366030', '014200', '029480', '026910', '355150', '397880', '421800', '440790', '053270', '066620', '043650', '006050', '060480', '078130', '307750', '035080', '204020', '186230', '900070', '204620', '019660', '053260', '036190', '049080', '035460', '308100', '187790', '286750', '121600', '247660', '039860', '091970', '051490', '137080', '190510', '242040', '089600', '293580', '138610', '130580', '036800', '267320', '111710', '091590', '168330', '094860', '253590', '212560', '095660', '042420', '950220', '311390', '085910', '092730', '290660', '306620', '153460', '007390', '033640', '330860', '089140', '137940', '396270', '348210', '225570', '217270', '104620', '194700', '285490', '106520', '376930', '278650', '142280', '234690', '065560', '054050', '069140', '040160', '332290', '348340', '060260', '012340', '214870', '270870', '144960', '085670', '119860', '064260', '093640', '340360', '039560', '298870', '032190', '068240', '020400', '008830', '048470', '004780', '017650', '007720', '389260', '317850', '290670', '078140', '036480', '025440', '027830', '104040', '129920', '387310', '397500', '426670', '438220', '442310', '020180', '045390', '108380', '006580', '007680', '048910', '005710', '290380', '290120', '120240', '003310', '078600', '096350', '140520', '131220', '010170', '060900', '054670', '023910', '021040', '021045', '067080', '298540', '393890', '299170', '224060', '213420', '317330', '077360', '090410', '263600', '194480', '263800', '206560', '261200', '067990', '006620', '100130', '005160', '075970', '086450', '099410', '033500', '025950', '088130', '041930', '060380', '079960', '228340', '088910', '094170', '013120', '109860', '032960', '023790', '005290', '025900', '131970', '073190', '030350', '203650', '223250', '060570', '217620', '016670', '187870', '066670', '110990', '078590', '263690', '214680', '263720', '376300', '141020', '109740', '196490', '066900', '180400', '127120', '092070', '039840', '219550', '310870', '104460', '079810', '113810', '043360', '197140', '068930', '033130', '105740', '263020', '290550', '187220', '383930', '131180', '315640', '317120', '042510', '232680', '300120', '171120', '069540', '347700', '214260', '200350', '171010', '084650', '217500', '141080', '038390', '294140', '228670', '228850', '412350', '281740', '277810', '215100', '090360', '108490', '900260', '067730', '071280', '328130', '038060', '085370', '08537M', '060240', '058470', '039980', '019570', '016100', '012700', '302550', '377450', '277070', '042500', '219420', '195500', '305090', '098120', '147760', '377480', '038290', '267980', '005990', '093520', '377030', '100590', '067280', '072870', '215200', '133750', '235980', '041920', '014100', '054180', '086900', '078160', '065650', '021880', '140410', '241770', '059210', '058110', '096640', '257370', '080420', '417970', '080160', '087260', '101330', '012860', '363260', '348030', '250060', '288980', '033200', '333050', '118990', '006920', '001810', '279600', '095500', '218150', '353490', '100790', '412930', '049950', '207760', '059090', '214610', '201490', '950190', '206640', '018700', '035620', '064520', '053030', '301300', '064550', '314930', '208710', '086820', '038460', '251120', '086040', '099430', '032980', '222160', '308080', '043150', '323990', '267790', '046310', '331520', '066410', '382900', '206400', '019010', '177350', '299910', '225530', '250000', '310210', '006910', '226340', '014470', '008470', '338220', '100120', '337930', '099390', '064480', '288330', '365900', '251630', '018290', '044480', '033560', '369370', '126340', '121800', '148140', '082800', '318410', '419540', '146320', '200780', '141000', '090460', '083650', '032790', '142760', '065170', '086670', '335890', '138580', '082920', '054220', '042370', '050090', '307870', '357880', '032850', '148780', '238200', '093190', '065450', '072950', '143240', '419120', '100090', '122350', '014970', '018310', '053700', '009620', '023600', '380320', '377630', '425290', '439250', '009300', '225190', '361670', '054540', '065570', '032280', '002290', '037460', '032750', '054090', '000250', '024950', '038500', '017480', '046390', '027580', '038540', '101000', '415580', '091580', '263810', '089980', '042940', '042600', '107600', '252990', '378800', '294630', '038070', '006730', '079650', '100660', '019770', '043710', '092190', '046890', '063170', '027040', '018680', '093920', '189860', '178320', '122690', '140070', '011370', '065710', '035890', '357550', '003100', '067370', '171090', '086710', '014620', '037350', '081580', '045300', '015750', '365340', '080470', '043260', '148150', '053060', '340440', '017510', '011560', '396300', '100700', '024830', '258830', '036630', '039310', '067770', '053450', '222810', '252500', '347000', '331920', '049180', '299660', '268600', '108860', '208370', '068760', '091990', '068940', '060230', '290690', '950200', '032680', '032685', '258790', '066910', '043100', '154040', '035610', '357780', '036830', '304100', '328380', '086980', '050960', '253840', '236200', '317770', '094840', '192440', '136510', '099440', '033790', '276040', '159910', '115570', '330730', '253450', '204630', '013810', '049830', '020710', '033170', '048870', '025320', '269620', '131090', '139050', '290520', '001000', '025870', '215600', '065350', '002800', '344050', '419270', '430220', '017000', '012790', '138070', '226330', '418210', '366330', '393360', '405640', '056700', '187270', '243840', '257720', '222800', '036710', '160980', '356890', '217330', '010280', '208640', '222420', '037760', '099320', '049960', '050890', '066790', '222080', '352480', '264660', '352700', '297090', '359090', '115530', '115480', '376290', '189330', '096530', '900120', '101240', '060590', '260930', '013990', '123860', '025980', '058220', '125210', '357580', '052710', '074430', '092040', '083930', '149950', '036010', '050860', '136410', '246720', '067390', '159010', '127710', '154030', '227610', '143160', '054800', '332370', '339950', '099190', '289010', '214430', '040910', '368600', '052860', '069920', '038880', '307180', '101390', '078860', '090150', '123010', '031310', '185490', '059100', '262840', '175250', '052460', '119830', '052770', '124500', '372800', '084850', '114840', '027360', '032080', '013310', '059120', '158430', '067160', '001540', '053800', '065660', '297570', '260660', '361570', '131370', '140670', '096610', '061040', '148250', '347860', '196170', '123750', '085810', '117670', '314140', '291650', '293780', '196300', '310200', '179530', '900100', '205500', '052790', '290740', '238090', '092600', '129890', '174900', '255440', '030960', '102120', '263540', '238120', '019990', '270660', '038680', '217480', '121890', '097780', '389500', '042110', '298060', '065420', '103230', '260970', '101490', '095910', '275630', '031330', '060540', '351320', '056190', '080000', '214310', '041510', '007820', '109610', '306040', '408920', '435870', '096630', '069510', '041910', '234300', '039440', '098660', '052020', '237690', '050760', '288620', '317830', '058610', '043340', '187660', '054630', '200710', '096690', '298380', '203400', '195990', '003800', '088800', '241840', '312610', '072990', '227100', '239610', '353070', '353060', '148930', '044780', '357230', '071670', '045660', '224110', '230980', '021080', '089530', '200470', '262260', '109960', '397030', '089970', '230240', '230360', '038870', '128540', '086520', '247540', '383310', '038110', '073540', '064850', '064090', '036810', '173940', '083500', '054940', '043090', '950130', '205100', '070300', '092870', '317870', '067570', '236810', '333620', '101400', '031860', '391060', '396770', '422040', '437780', '438580', '439410', '265740', '354200', '419080', '208860', '183490', '182400', '348370', '069410', '227950', '291230', '198080', '048830', '096870', '376190', '061970', '138690', '290650', '066970', '156100', '073110', '083310', '037950', '170920', '058630', '058970', '019590', '169330', '179290', '009780', '123040', '323230', '033160', '347890', '033310', '259630', '065150', '050540', '115960', '060850', '007530', '143540', '112290', '036560', '265560', '036000', '250930', '053280', '122640', '900300', '045060', '080520', '039830', '322310', '046120', '014940', '065500', '010470', '352910', '053980', '052420', '241790', '039200', '226400', '031510', '048260', '368970', '138080', '080580', '067170', '353590', '173130', '049480', '394280', '309930', '244460', '226950', '057540', '131030', '082210', '109080', '153710', '321820', '122990', '232140', '065530', '067900', '155650', '273640', '251370', '066430', '193250', '273060', '019210', '122870', '332570', '079000', '032820', '041190', '115440', '046970', '082850', '215360', '072470', '073560', '037400', '153490', '101170', '066590', '103840', '046940', '215380', '065680', '018620', '307280', '053080', '032940', '240810', '074600', '104830', '014190', '217820', '030530', '012620', '382840', '336570', '376980', '008370', '008290', '101160', '336060', '095270', '065950', '076080', '196700', '069080', '053580', '071460', '377460', '044340', '330350', '348350', '112040', '101730', '123420', '065370', '038620', '299900', '036090', '136540', '320000', '097800', '192390', '313760', '335870', '900340', '064510', '036200', '018000', '203450', '011320', '086390', '241690', '142210', '048430', '206650', '089850', '084440', '032620', '264450', '078070', '024800', '054930', '069330', '049520', '435380', '367480', '430700', '263770', '388720', '340930', '023410', '056080', '373340', '388800', '413630', '442130', '084370', '178780', '179900', '263050', '191410', '372170', '072770', '039020', '067920', '044960', '303530', '296640', '302430', '056090', '073490', '215790', '246960', '088390', '272290', '053350', '041520', '264850', '054210', '164060', '065440', '115610', '349720', '078020', '131400', '351330', '080010', '086890', '047560', '900110', '067010', '101360', '102710', '066980', '063760', '123570', '083470', '095190', '091120', '039030', '294090', '088290', '181340', '353810', '099750', '377330', '035810', '160600', '092130', '096040', '134060', '001840', '024810', '041830', '352940', '079950', '389470', '277410', '060150', '033230', '037330', '100030', '211050', '083640', '216050', '049070', '119610', '017250', '051370', '064290', '189300', '150840', '048530', '175140', '115310', '039290', '071200', '101930', '333430', '068330', '058450', '019540', '094820', '950140', '049550', '254120', '043910', '234920', '289220', '174880', '049630', '417840', '110020', '208140', '040420', '045510', '217190', '095700', '072520', '122310', '361390', '187420', '225220', '123330', '159580', '147830', '033100', '079370', '054950', '023440', '090470', '287410', '137950', '033320', '417500', '204270', '026040', '126880', '322510', '033050', '094970', '058420', '089790', '052670', '199820', '038010', '276730', '080220', '216080', '229000', '082270', '064800', '044060', '034940', '067000', '033340', '036930', '239340', '051980', '072020', '000440', '078650', '228760', '314130', '389030', '043610', '263860', '303030', '036180', '208350', '144510', '382480', '382800', '051160', '053050', '119850', '270520', '065060', '204840', '311320', '388050', '219750', '018120', '109820', '086060', '036890', '363250', '007370', '085660', '261780', '094850', '004650', '278280', '362320', '066360', '047820', '131100', '052300', '094360', '016790', '016920', '284620', '293490', '042000', '317530', '071850', '050110', '223310', '900310', '078340', '063080', '307930', '079190', '263700', '214370', '221980', '342550', '424140', '436530', '440200', '192250', '115500', '089150', '025880', '093320', '073010', '105330', '272110', '039420', '083550', '032500', '225430', '102370', '036030', '064820', '256940', '024880', '042040', '054410', '258610', '274090', '217600', '089010', '220260', '052400', '402030', '391710', '046070', '047770', '078940', '080530', '104540', '027050', '290510', '190650', '123410', '036690', '049430', '183300', '041960', '089890', '009730', '082660', '222040', '241710', '069110', '166480', '045970', '196450', '029960', '102940', '950160', '056000', '033290', '056360', '282880', '121850', '015710', '052330', '322780', '126600', '200130', '294570', '317690', '365270', '060280', '040350', '051780', '115180', '182360', '405100', '066310', '016600', '096240', '043590', '114120', '110790', '900250', '083790', '045520', '036170', '214150', '352770', '237880', '139670', '413600', '433530', '054780', '219130', '360070', '065130', '134580', '023160', '323280', '053620', '044490', '124560', '191420', '073640', '066700', '095610', '089030', '054450', '091440', '200230', '215480', '051360', '045340', '108230', '079970', '199800', '105550', '290090', '026150', '322180', '117730', '033830', '057680', '204610', '064760', '246710', '340570', '043220', '277880', '131290', '425420', '356860', '062860', '321550', '104480', '081150', '130740', '084730', '046210', '058530', '034230', '033540', '043200', '214450', '208340', '177830', '037070', '150900', '037030', '047310', '368770', '170790', '049120', '038950', '441270', '106240', '131760', '065690', '140860', '091700', '032800', '318010', '027710', '225590', '054300', '068050', '222110', '263750', '251970', '168360', '087010', '119500', '389140', '022100', '009520', '189690', '318020', '256630', '331380', '234100', '041020', '114630', '290720', '005670', '094940', '007330', '093380', '023900', '371950', '370090', '220100', '035200', '334970', '203690', '321260', '053610', '377220', '335810', '053160', '405000', '041590', '367000', '075130', '237820', '023770', '300080', '032580', '051380', '241820', '237750', '024850', '319660', '031980', '002230', '057880', '043370', '239890', '347740', '137400', '128660', '006140', '376180', '304840', '062970', '087600', '291810', '161580', '347770', '163730', '417180', '341160', '343510', '388220', '400560', '406760', '418170', '427950', '430230', '435620', '299030', '067310', '372290', '166090', '136480', '003380', '101670', '365590', '149980', '013030', '126700', '106080', '377400', '400840', '221840', '106190', '373200', '066130', '004590', '039340', '034950', '222980', '256840', '025550', '017890', '080720', '063570', '041460', '101680', '039740', '053300', '025770', '409570', '436610', '023760', '054040', '021650', '053590', '032300', '037230', '030520', '052600', '256150', '092460', '047080', '114810', '070590', '226440', '042520', '078350', '045100', '024740', '005860', '123840', '007770', '079170', '054920', '002680', '386580', '430460', '034810', '03481K', '076610', '059270', '220180', '900270', '214180', '234340', '084990', '170030', '319400', '048410', '052260', '041440', '039010', '090850', '092300', '138360', '011080', '060560', '064240', '039610', '126640', '061250', '097870', '290270', '353190', '192410', '090710', '205470', '115160', '028080', '032860', '200670', '065510', '215090', '263920', '243070', '084110', '145020', '024060', '010240', '189980', '037440', '238490']\n"
     ]
    }
   ],
   "source": [
    "from pykrx import stock\n",
    "\n",
    "tickers = stock.get_market_ticker_list(market=\"KOSDAQ\")\n",
    "print(tickers)"
   ]
  },
  {
   "cell_type": "code",
   "execution_count": 33,
   "metadata": {},
   "outputs": [
    {
     "name": "stdout",
     "output_type": "stream",
     "text": [
      "927 938\n",
      "449\n",
      "489\n"
     ]
    }
   ],
   "source": [
    "t0 = stock.get_market_ticker_list(\"19950502\")\n",
    "t1 = stock.get_market_ticker_list(\"20210930\")\n",
    "print(len(t0),len(t1))\n",
    "\n",
    "intersection = set(t0) & set(t1) #교집합 즉 계속 유지된 종목\n",
    "print(len(intersection))\n",
    "\n",
    "complement = set(t1) - set(t0)  #차집합 즉 새로 상장된 종목\n",
    "print(len(complement)) "
   ]
  },
  {
   "cell_type": "code",
   "execution_count": 36,
   "metadata": {},
   "outputs": [
    {
     "name": "stdout",
     "output_type": "stream",
     "text": [
      "['1001', '1002', '1003', '1004', '1005', '1006', '1007', '1008', '1009', '1010', '1011', '1012', '1013', '1014', '1015', '1016', '1017', '1018', '1019', '1020', '1021', '1022', '1024', '1025', '1026', '1027', '1028', '1034', '1035', '1150', '1151', '1152', '1153', '1154', '1155', '1156', '1157', '1158', '1159', '1160', '1167', '1182', '1224', '1227', '1232', '1244', '1894']\n"
     ]
    }
   ],
   "source": [
    "tickers = stock.get_index_ticker_list(\"20190225\")\n",
    "print(tickers)"
   ]
  },
  {
   "cell_type": "code",
   "execution_count": 40,
   "metadata": {},
   "outputs": [
    {
     "name": "stdout",
     "output_type": "stream",
     "text": [
      "1001 코스피\n",
      "1002 코스피 대형주\n",
      "1003 코스피 중형주\n",
      "1004 코스피 소형주\n",
      "1005 음식료품\n"
     ]
    }
   ],
   "source": [
    "for t in tickers[:5]:\n",
    "    name = stock.get_index_ticker_name(t)\n",
    "    print(t,name)"
   ]
  },
  {
   "cell_type": "code",
   "execution_count": 43,
   "metadata": {},
   "outputs": [
    {
     "data": {
      "text/html": [
       "<div>\n",
       "<style scoped>\n",
       "    .dataframe tbody tr th:only-of-type {\n",
       "        vertical-align: middle;\n",
       "    }\n",
       "\n",
       "    .dataframe tbody tr th {\n",
       "        vertical-align: top;\n",
       "    }\n",
       "\n",
       "    .dataframe thead th {\n",
       "        text-align: right;\n",
       "    }\n",
       "</style>\n",
       "<table border=\"1\" class=\"dataframe\">\n",
       "  <thead>\n",
       "    <tr style=\"text-align: right;\">\n",
       "      <th></th>\n",
       "      <th>시가</th>\n",
       "      <th>고가</th>\n",
       "      <th>저가</th>\n",
       "      <th>종가</th>\n",
       "      <th>거래량</th>\n",
       "      <th>거래대금</th>\n",
       "      <th>등락률</th>\n",
       "    </tr>\n",
       "    <tr>\n",
       "      <th>날짜</th>\n",
       "      <th></th>\n",
       "      <th></th>\n",
       "      <th></th>\n",
       "      <th></th>\n",
       "      <th></th>\n",
       "      <th></th>\n",
       "      <th></th>\n",
       "    </tr>\n",
       "  </thead>\n",
       "  <tbody>\n",
       "    <tr>\n",
       "      <th>2019-05-02</th>\n",
       "      <td>45500</td>\n",
       "      <td>46150</td>\n",
       "      <td>45400</td>\n",
       "      <td>45900</td>\n",
       "      <td>8625126</td>\n",
       "      <td>395453520550</td>\n",
       "      <td>0.11</td>\n",
       "    </tr>\n",
       "    <tr>\n",
       "      <th>2019-05-03</th>\n",
       "      <td>45900</td>\n",
       "      <td>46050</td>\n",
       "      <td>45300</td>\n",
       "      <td>45300</td>\n",
       "      <td>6562916</td>\n",
       "      <td>298782689050</td>\n",
       "      <td>-1.31</td>\n",
       "    </tr>\n",
       "    <tr>\n",
       "      <th>2019-05-07</th>\n",
       "      <td>45250</td>\n",
       "      <td>45300</td>\n",
       "      <td>44400</td>\n",
       "      <td>44850</td>\n",
       "      <td>12014907</td>\n",
       "      <td>538125202400</td>\n",
       "      <td>-0.99</td>\n",
       "    </tr>\n",
       "    <tr>\n",
       "      <th>2019-05-08</th>\n",
       "      <td>44300</td>\n",
       "      <td>44850</td>\n",
       "      <td>44200</td>\n",
       "      <td>44250</td>\n",
       "      <td>10398754</td>\n",
       "      <td>462086636050</td>\n",
       "      <td>-1.34</td>\n",
       "    </tr>\n",
       "    <tr>\n",
       "      <th>2019-05-09</th>\n",
       "      <td>43900</td>\n",
       "      <td>44250</td>\n",
       "      <td>42450</td>\n",
       "      <td>42450</td>\n",
       "      <td>23029718</td>\n",
       "      <td>993611649785</td>\n",
       "      <td>-4.07</td>\n",
       "    </tr>\n",
       "  </tbody>\n",
       "</table>\n",
       "</div>"
      ],
      "text/plain": [
       "               시가     고가     저가     종가       거래량          거래대금   등락률\n",
       "날짜                                                                  \n",
       "2019-05-02  45500  46150  45400  45900   8625126  395453520550  0.11\n",
       "2019-05-03  45900  46050  45300  45300   6562916  298782689050 -1.31\n",
       "2019-05-07  45250  45300  44400  44850  12014907  538125202400 -0.99\n",
       "2019-05-08  44300  44850  44200  44250  10398754  462086636050 -1.34\n",
       "2019-05-09  43900  44250  42450  42450  23029718  993611649785 -4.07"
      ]
     },
     "execution_count": 43,
     "metadata": {},
     "output_type": "execute_result"
    }
   ],
   "source": [
    "from pykrx import stock\n",
    "df = stock.get_market_ohlcv(\"20190501\",\"20190531\",\"005930\",adjusted=False)\n",
    "df.head()"
   ]
  }
 ],
 "metadata": {
  "kernelspec": {
   "display_name": "Python 3.9.10 64-bit",
   "language": "python",
   "name": "python3"
  },
  "language_info": {
   "codemirror_mode": {
    "name": "ipython",
    "version": 3
   },
   "file_extension": ".py",
   "mimetype": "text/x-python",
   "name": "python",
   "nbconvert_exporter": "python",
   "pygments_lexer": "ipython3",
   "version": "3.9.10"
  },
  "orig_nbformat": 4,
  "vscode": {
   "interpreter": {
    "hash": "d5e82c3fb7da1ea83acbd3af36819ee526c08f1ab732399acb2375113e5497e2"
   }
  }
 },
 "nbformat": 4,
 "nbformat_minor": 2
}
